{
 "cells": [
  {
   "cell_type": "markdown",
   "id": "8febcee6-a898-4ce7-8279-0693dd0e60cd",
   "metadata": {
    "slideshow": {
     "slide_type": "slide"
    }
   },
   "source": [
    "# Introduction to Pandas\n",
    "\n",
    "Tamás Gál (tamas.gal@fau.de)\n",
    "\n",
    "The latest version of this notebook is available at [https://github.com/escape2020/school2021](https://github.com/escape2020/school2021)"
   ]
  },
  {
   "cell_type": "code",
   "execution_count": 1,
   "id": "29170517-9d9a-48e0-9c3a-39248a9a3798",
   "metadata": {
    "slideshow": {
     "slide_type": "slide"
    },
    "tags": []
   },
   "outputs": [
    {
     "name": "stdout",
     "output_type": "stream",
     "text": [
      "Python version: 3.9.4 | packaged by conda-forge | (default, May 10 2021, 22:10:52) \n",
      "[Clang 11.1.0 ]\n",
      "Pandas version: 1.2.4\n",
      "NumPy version: 1.20.3\n",
      "Matplotlib version: 3.4.2\n",
      "\n"
     ]
    }
   ],
   "source": [
    "%matplotlib inline\n",
    "import pandas as pd\n",
    "import numpy as np\n",
    "import matplotlib as ml\n",
    "import sys\n",
    "plt = ml.pyplot\n",
    "ml.rcParams['figure.figsize'] = (10.0, 5.0)\n",
    "\n",
    "print(f\"Python version: {sys.version}\\n\"\n",
    "      f\"Pandas version: {pd.__version__}\\n\"\n",
    "      f\"NumPy version: {np.__version__}\\n\"\n",
    "      f\"Matplotlib version: {ml.__version__}\\n\")\n",
    "\n",
    "rng = np.random.default_rng(42)  # initialise our random number generator"
   ]
  },
  {
   "cell_type": "code",
   "execution_count": 2,
   "id": "3631b1f2-396c-4720-91f9-73b339565b3b",
   "metadata": {
    "slideshow": {
     "slide_type": "slide"
    },
    "tags": []
   },
   "outputs": [],
   "source": [
    "from IPython.core.magic import register_line_magic\n",
    "\n",
    "@register_line_magic\n",
    "def shorterr(line):\n",
    "    \"\"\"Show only the exception message if one is raised.\"\"\"\n",
    "    try:\n",
    "        output = eval(line)\n",
    "    except Exception as e:\n",
    "        print(\"\\x1b[31m\\x1b[1m{e.__class__.__name__}: {e}\\x1b[0m\".format(e=e))\n",
    "    else:\n",
    "        return output\n",
    "    \n",
    "del shorterr"
   ]
  },
  {
   "cell_type": "code",
   "execution_count": 3,
   "id": "3b502293-acd5-4f46-b9c2-8f92499f8408",
   "metadata": {},
   "outputs": [],
   "source": [
    "import pandas as pd"
   ]
  },
  {
   "cell_type": "code",
   "execution_count": 4,
   "id": "7f332544-7eb0-4380-b288-75506207bab8",
   "metadata": {},
   "outputs": [],
   "source": [
    "data = [1, 2, 3, 4]"
   ]
  },
  {
   "cell_type": "code",
   "execution_count": 5,
   "id": "33b20e7f-9a2a-49ef-9995-5e0994777385",
   "metadata": {},
   "outputs": [
    {
     "data": {
      "text/html": [
       "<div>\n",
       "<style scoped>\n",
       "    .dataframe tbody tr th:only-of-type {\n",
       "        vertical-align: middle;\n",
       "    }\n",
       "\n",
       "    .dataframe tbody tr th {\n",
       "        vertical-align: top;\n",
       "    }\n",
       "\n",
       "    .dataframe thead th {\n",
       "        text-align: right;\n",
       "    }\n",
       "</style>\n",
       "<table border=\"1\" class=\"dataframe\">\n",
       "  <thead>\n",
       "    <tr style=\"text-align: right;\">\n",
       "      <th></th>\n",
       "      <th>0</th>\n",
       "    </tr>\n",
       "  </thead>\n",
       "  <tbody>\n",
       "    <tr>\n",
       "      <th>0</th>\n",
       "      <td>1</td>\n",
       "    </tr>\n",
       "    <tr>\n",
       "      <th>1</th>\n",
       "      <td>2</td>\n",
       "    </tr>\n",
       "    <tr>\n",
       "      <th>2</th>\n",
       "      <td>3</td>\n",
       "    </tr>\n",
       "    <tr>\n",
       "      <th>3</th>\n",
       "      <td>4</td>\n",
       "    </tr>\n",
       "  </tbody>\n",
       "</table>\n",
       "</div>"
      ],
      "text/plain": [
       "   0\n",
       "0  1\n",
       "1  2\n",
       "2  3\n",
       "3  4"
      ]
     },
     "execution_count": 5,
     "metadata": {},
     "output_type": "execute_result"
    }
   ],
   "source": [
    "pd.DataFrame(data)"
   ]
  },
  {
   "cell_type": "code",
   "execution_count": 6,
   "id": "a89ec828-13aa-4afb-9109-fa493ad209fd",
   "metadata": {},
   "outputs": [],
   "source": [
    "data = {\n",
    "    \"a\": [1, 2, 3],\n",
    "    \"b\": [3.5, 2.3, 5.6],\n",
    "    \"c\": [\"foo\", \"bar\", \"baz\"],\n",
    "    \"d\": 42\n",
    "}"
   ]
  },
  {
   "cell_type": "code",
   "execution_count": 7,
   "id": "386e4514-035a-41ed-93fe-b161d600e5c3",
   "metadata": {},
   "outputs": [],
   "source": [
    "df = pd.DataFrame(data)"
   ]
  },
  {
   "cell_type": "code",
   "execution_count": 8,
   "id": "0642b2cd-2f2a-4f60-adc4-e4ac9f680345",
   "metadata": {},
   "outputs": [
    {
     "data": {
      "text/html": [
       "<div>\n",
       "<style scoped>\n",
       "    .dataframe tbody tr th:only-of-type {\n",
       "        vertical-align: middle;\n",
       "    }\n",
       "\n",
       "    .dataframe tbody tr th {\n",
       "        vertical-align: top;\n",
       "    }\n",
       "\n",
       "    .dataframe thead th {\n",
       "        text-align: right;\n",
       "    }\n",
       "</style>\n",
       "<table border=\"1\" class=\"dataframe\">\n",
       "  <thead>\n",
       "    <tr style=\"text-align: right;\">\n",
       "      <th></th>\n",
       "      <th>a</th>\n",
       "      <th>b</th>\n",
       "      <th>c</th>\n",
       "      <th>d</th>\n",
       "    </tr>\n",
       "  </thead>\n",
       "  <tbody>\n",
       "    <tr>\n",
       "      <th>0</th>\n",
       "      <td>1</td>\n",
       "      <td>3.5</td>\n",
       "      <td>foo</td>\n",
       "      <td>42</td>\n",
       "    </tr>\n",
       "    <tr>\n",
       "      <th>1</th>\n",
       "      <td>2</td>\n",
       "      <td>2.3</td>\n",
       "      <td>bar</td>\n",
       "      <td>42</td>\n",
       "    </tr>\n",
       "    <tr>\n",
       "      <th>2</th>\n",
       "      <td>3</td>\n",
       "      <td>5.6</td>\n",
       "      <td>baz</td>\n",
       "      <td>42</td>\n",
       "    </tr>\n",
       "  </tbody>\n",
       "</table>\n",
       "</div>"
      ],
      "text/plain": [
       "   a    b    c   d\n",
       "0  1  3.5  foo  42\n",
       "1  2  2.3  bar  42\n",
       "2  3  5.6  baz  42"
      ]
     },
     "execution_count": 8,
     "metadata": {},
     "output_type": "execute_result"
    }
   ],
   "source": [
    "df"
   ]
  },
  {
   "cell_type": "code",
   "execution_count": 9,
   "id": "79677c73-9b90-47d3-8ca7-f1e03f482dab",
   "metadata": {},
   "outputs": [
    {
     "data": {
      "text/plain": [
       "pandas.core.frame.DataFrame"
      ]
     },
     "execution_count": 9,
     "metadata": {},
     "output_type": "execute_result"
    }
   ],
   "source": [
    "type(df)"
   ]
  },
  {
   "cell_type": "code",
   "execution_count": 10,
   "id": "c0f466f1-c924-4e89-9a1e-129afc82feef",
   "metadata": {},
   "outputs": [
    {
     "data": {
      "text/plain": [
       "0    1\n",
       "1    2\n",
       "2    3\n",
       "Name: a, dtype: int64"
      ]
     },
     "execution_count": 10,
     "metadata": {},
     "output_type": "execute_result"
    }
   ],
   "source": [
    "df[\"a\"]"
   ]
  },
  {
   "cell_type": "code",
   "execution_count": 11,
   "id": "1bc36030-4c62-4f7f-b29a-84bacc24f954",
   "metadata": {},
   "outputs": [
    {
     "data": {
      "text/plain": [
       "pandas.core.series.Series"
      ]
     },
     "execution_count": 11,
     "metadata": {},
     "output_type": "execute_result"
    }
   ],
   "source": [
    "type(df[\"a\"])"
   ]
  },
  {
   "cell_type": "code",
   "execution_count": 12,
   "id": "46466feb-a10d-4a37-88f7-ab2b5f434c4e",
   "metadata": {},
   "outputs": [
    {
     "data": {
      "text/plain": [
       "0    23\n",
       "1    46\n",
       "2    69\n",
       "Name: a, dtype: int64"
      ]
     },
     "execution_count": 12,
     "metadata": {},
     "output_type": "execute_result"
    }
   ],
   "source": [
    "df[\"a\"] * 23"
   ]
  },
  {
   "cell_type": "code",
   "execution_count": 13,
   "id": "074e6754-3634-412f-af39-1850ec721294",
   "metadata": {},
   "outputs": [
    {
     "data": {
      "text/plain": [
       "0    0.540302\n",
       "1   -0.416147\n",
       "2   -0.989992\n",
       "Name: a, dtype: float64"
      ]
     },
     "execution_count": 13,
     "metadata": {},
     "output_type": "execute_result"
    }
   ],
   "source": [
    "np.cos(df[\"a\"])"
   ]
  },
  {
   "cell_type": "code",
   "execution_count": 14,
   "id": "3639491f-7230-4840-a35a-d50e7d77f1b4",
   "metadata": {},
   "outputs": [],
   "source": [
    "rng = np.random.default_rng(42)  # initialise our random number generator\n",
    "\n",
    "s = pd.Series(rng.integers(0, 10, 5))"
   ]
  },
  {
   "cell_type": "code",
   "execution_count": 15,
   "id": "a0549326-78fd-4b9f-918f-436c6974672e",
   "metadata": {},
   "outputs": [
    {
     "data": {
      "text/plain": [
       "0    0\n",
       "1    7\n",
       "2    6\n",
       "3    4\n",
       "4    4\n",
       "dtype: int64"
      ]
     },
     "execution_count": 15,
     "metadata": {},
     "output_type": "execute_result"
    }
   ],
   "source": [
    "s"
   ]
  },
  {
   "cell_type": "code",
   "execution_count": 16,
   "id": "4a8e8bba-26c3-4620-b2b5-b04c2f29d52c",
   "metadata": {},
   "outputs": [
    {
     "data": {
      "text/plain": [
       "0    0\n",
       "3    4\n",
       "4    4\n",
       "2    6\n",
       "1    7\n",
       "dtype: int64"
      ]
     },
     "execution_count": 16,
     "metadata": {},
     "output_type": "execute_result"
    }
   ],
   "source": [
    "s.sort_values()"
   ]
  },
  {
   "cell_type": "code",
   "execution_count": 18,
   "id": "6b9a45c9-43cc-4230-a875-1f59e15c9733",
   "metadata": {},
   "outputs": [
    {
     "data": {
      "text/plain": [
       "0     0\n",
       "1    49\n",
       "2    36\n",
       "3    16\n",
       "4    16\n",
       "dtype: int64"
      ]
     },
     "execution_count": 18,
     "metadata": {},
     "output_type": "execute_result"
    }
   ],
   "source": [
    "s * s.sort_values()"
   ]
  },
  {
   "cell_type": "code",
   "execution_count": 22,
   "id": "4a142e91-913d-46aa-a349-fc92d2231cfd",
   "metadata": {},
   "outputs": [
    {
     "data": {
      "text/plain": [
       "0     0\n",
       "1    28\n",
       "2    24\n",
       "3    24\n",
       "4    28\n",
       "dtype: int64"
      ]
     },
     "execution_count": 22,
     "metadata": {},
     "output_type": "execute_result"
    }
   ],
   "source": [
    "s * s.sort_values().reset_index(drop=True)"
   ]
  },
  {
   "cell_type": "code",
   "execution_count": 23,
   "id": "f8015e4d-f8c4-4a05-8386-c84d4569e5b5",
   "metadata": {},
   "outputs": [
    {
     "data": {
      "text/html": [
       "<div>\n",
       "<style scoped>\n",
       "    .dataframe tbody tr th:only-of-type {\n",
       "        vertical-align: middle;\n",
       "    }\n",
       "\n",
       "    .dataframe tbody tr th {\n",
       "        vertical-align: top;\n",
       "    }\n",
       "\n",
       "    .dataframe thead th {\n",
       "        text-align: right;\n",
       "    }\n",
       "</style>\n",
       "<table border=\"1\" class=\"dataframe\">\n",
       "  <thead>\n",
       "    <tr style=\"text-align: right;\">\n",
       "      <th></th>\n",
       "      <th>a</th>\n",
       "      <th>b</th>\n",
       "      <th>c</th>\n",
       "      <th>d</th>\n",
       "    </tr>\n",
       "  </thead>\n",
       "  <tbody>\n",
       "    <tr>\n",
       "      <th>0</th>\n",
       "      <td>1</td>\n",
       "      <td>3.5</td>\n",
       "      <td>foo</td>\n",
       "      <td>42</td>\n",
       "    </tr>\n",
       "    <tr>\n",
       "      <th>1</th>\n",
       "      <td>2</td>\n",
       "      <td>2.3</td>\n",
       "      <td>bar</td>\n",
       "      <td>42</td>\n",
       "    </tr>\n",
       "    <tr>\n",
       "      <th>2</th>\n",
       "      <td>3</td>\n",
       "      <td>5.6</td>\n",
       "      <td>baz</td>\n",
       "      <td>42</td>\n",
       "    </tr>\n",
       "  </tbody>\n",
       "</table>\n",
       "</div>"
      ],
      "text/plain": [
       "   a    b    c   d\n",
       "0  1  3.5  foo  42\n",
       "1  2  2.3  bar  42\n",
       "2  3  5.6  baz  42"
      ]
     },
     "execution_count": 23,
     "metadata": {},
     "output_type": "execute_result"
    }
   ],
   "source": [
    "df"
   ]
  },
  {
   "cell_type": "code",
   "execution_count": 24,
   "id": "d9302f2c-74b4-4f09-8754-f528a00ce9fb",
   "metadata": {},
   "outputs": [],
   "source": [
    "data = {\n",
    "    \"a\": [1, 2, 3],\n",
    "    \"b\": [3.5, 2.3, 5.6],\n",
    "    \"c\": [\"foo\", \"bar\", \"baz\"],\n",
    "    \"d\": 42\n",
    "}"
   ]
  },
  {
   "cell_type": "code",
   "execution_count": 25,
   "id": "0c4c266a-fc7f-459b-bb4a-9c3eaee39f51",
   "metadata": {},
   "outputs": [],
   "source": [
    "df = pd.DataFrame(data)"
   ]
  },
  {
   "cell_type": "code",
   "execution_count": 26,
   "id": "ec09a84c-841d-4250-aa6a-c3a4e29e8187",
   "metadata": {},
   "outputs": [
    {
     "data": {
      "text/html": [
       "<div>\n",
       "<style scoped>\n",
       "    .dataframe tbody tr th:only-of-type {\n",
       "        vertical-align: middle;\n",
       "    }\n",
       "\n",
       "    .dataframe tbody tr th {\n",
       "        vertical-align: top;\n",
       "    }\n",
       "\n",
       "    .dataframe thead th {\n",
       "        text-align: right;\n",
       "    }\n",
       "</style>\n",
       "<table border=\"1\" class=\"dataframe\">\n",
       "  <thead>\n",
       "    <tr style=\"text-align: right;\">\n",
       "      <th></th>\n",
       "      <th>a</th>\n",
       "      <th>b</th>\n",
       "      <th>c</th>\n",
       "      <th>d</th>\n",
       "    </tr>\n",
       "  </thead>\n",
       "  <tbody>\n",
       "    <tr>\n",
       "      <th>0</th>\n",
       "      <td>1</td>\n",
       "      <td>3.5</td>\n",
       "      <td>foo</td>\n",
       "      <td>42</td>\n",
       "    </tr>\n",
       "    <tr>\n",
       "      <th>1</th>\n",
       "      <td>2</td>\n",
       "      <td>2.3</td>\n",
       "      <td>bar</td>\n",
       "      <td>42</td>\n",
       "    </tr>\n",
       "    <tr>\n",
       "      <th>2</th>\n",
       "      <td>3</td>\n",
       "      <td>5.6</td>\n",
       "      <td>baz</td>\n",
       "      <td>42</td>\n",
       "    </tr>\n",
       "  </tbody>\n",
       "</table>\n",
       "</div>"
      ],
      "text/plain": [
       "   a    b    c   d\n",
       "0  1  3.5  foo  42\n",
       "1  2  2.3  bar  42\n",
       "2  3  5.6  baz  42"
      ]
     },
     "execution_count": 26,
     "metadata": {},
     "output_type": "execute_result"
    }
   ],
   "source": [
    "df"
   ]
  },
  {
   "cell_type": "code",
   "execution_count": 27,
   "id": "72c3774a-ff7e-46af-9d35-eabf3c18def4",
   "metadata": {},
   "outputs": [
    {
     "data": {
      "text/plain": [
       "a      int64\n",
       "b    float64\n",
       "c     object\n",
       "d      int64\n",
       "dtype: object"
      ]
     },
     "execution_count": 27,
     "metadata": {},
     "output_type": "execute_result"
    }
   ],
   "source": [
    "df.dtypes"
   ]
  },
  {
   "cell_type": "code",
   "execution_count": 28,
   "id": "7a3703d8-5311-422a-a596-6a1cc73797be",
   "metadata": {},
   "outputs": [
    {
     "data": {
      "text/plain": [
       "Index(['a', 'b', 'c', 'd'], dtype='object')"
      ]
     },
     "execution_count": 28,
     "metadata": {},
     "output_type": "execute_result"
    }
   ],
   "source": [
    "df.columns"
   ]
  },
  {
   "cell_type": "code",
   "execution_count": 29,
   "id": "1f88b9fd-c311-48d3-904c-b6b0d6fe08f2",
   "metadata": {},
   "outputs": [
    {
     "data": {
      "text/plain": [
       "(3, 4)"
      ]
     },
     "execution_count": 29,
     "metadata": {},
     "output_type": "execute_result"
    }
   ],
   "source": [
    "df.shape"
   ]
  },
  {
   "cell_type": "code",
   "execution_count": 31,
   "id": "f57d1ed4-e3bb-449e-80b4-49630e96aa26",
   "metadata": {},
   "outputs": [
    {
     "data": {
      "text/html": [
       "<div>\n",
       "<style scoped>\n",
       "    .dataframe tbody tr th:only-of-type {\n",
       "        vertical-align: middle;\n",
       "    }\n",
       "\n",
       "    .dataframe tbody tr th {\n",
       "        vertical-align: top;\n",
       "    }\n",
       "\n",
       "    .dataframe thead th {\n",
       "        text-align: right;\n",
       "    }\n",
       "</style>\n",
       "<table border=\"1\" class=\"dataframe\">\n",
       "  <thead>\n",
       "    <tr style=\"text-align: right;\">\n",
       "      <th></th>\n",
       "      <th>a</th>\n",
       "      <th>b</th>\n",
       "      <th>c</th>\n",
       "      <th>d</th>\n",
       "    </tr>\n",
       "  </thead>\n",
       "  <tbody>\n",
       "    <tr>\n",
       "      <th>0</th>\n",
       "      <td>1</td>\n",
       "      <td>3.5</td>\n",
       "      <td>foo</td>\n",
       "      <td>42</td>\n",
       "    </tr>\n",
       "    <tr>\n",
       "      <th>1</th>\n",
       "      <td>2</td>\n",
       "      <td>2.3</td>\n",
       "      <td>bar</td>\n",
       "      <td>42</td>\n",
       "    </tr>\n",
       "  </tbody>\n",
       "</table>\n",
       "</div>"
      ],
      "text/plain": [
       "   a    b    c   d\n",
       "0  1  3.5  foo  42\n",
       "1  2  2.3  bar  42"
      ]
     },
     "execution_count": 31,
     "metadata": {},
     "output_type": "execute_result"
    }
   ],
   "source": [
    "df.head(2)"
   ]
  },
  {
   "cell_type": "code",
   "execution_count": 32,
   "id": "a9666729-46e7-4fa1-8044-5d935319d328",
   "metadata": {},
   "outputs": [
    {
     "data": {
      "text/html": [
       "<div>\n",
       "<style scoped>\n",
       "    .dataframe tbody tr th:only-of-type {\n",
       "        vertical-align: middle;\n",
       "    }\n",
       "\n",
       "    .dataframe tbody tr th {\n",
       "        vertical-align: top;\n",
       "    }\n",
       "\n",
       "    .dataframe thead th {\n",
       "        text-align: right;\n",
       "    }\n",
       "</style>\n",
       "<table border=\"1\" class=\"dataframe\">\n",
       "  <thead>\n",
       "    <tr style=\"text-align: right;\">\n",
       "      <th></th>\n",
       "      <th>a</th>\n",
       "      <th>b</th>\n",
       "      <th>c</th>\n",
       "      <th>d</th>\n",
       "    </tr>\n",
       "  </thead>\n",
       "  <tbody>\n",
       "    <tr>\n",
       "      <th>1</th>\n",
       "      <td>2</td>\n",
       "      <td>2.3</td>\n",
       "      <td>bar</td>\n",
       "      <td>42</td>\n",
       "    </tr>\n",
       "    <tr>\n",
       "      <th>2</th>\n",
       "      <td>3</td>\n",
       "      <td>5.6</td>\n",
       "      <td>baz</td>\n",
       "      <td>42</td>\n",
       "    </tr>\n",
       "  </tbody>\n",
       "</table>\n",
       "</div>"
      ],
      "text/plain": [
       "   a    b    c   d\n",
       "1  2  2.3  bar  42\n",
       "2  3  5.6  baz  42"
      ]
     },
     "execution_count": 32,
     "metadata": {},
     "output_type": "execute_result"
    }
   ],
   "source": [
    "df.tail(2)"
   ]
  },
  {
   "cell_type": "code",
   "execution_count": 33,
   "id": "a4fb13c3-963a-4881-abaa-0415e3029e04",
   "metadata": {},
   "outputs": [
    {
     "data": {
      "text/html": [
       "<div>\n",
       "<style scoped>\n",
       "    .dataframe tbody tr th:only-of-type {\n",
       "        vertical-align: middle;\n",
       "    }\n",
       "\n",
       "    .dataframe tbody tr th {\n",
       "        vertical-align: top;\n",
       "    }\n",
       "\n",
       "    .dataframe thead th {\n",
       "        text-align: right;\n",
       "    }\n",
       "</style>\n",
       "<table border=\"1\" class=\"dataframe\">\n",
       "  <thead>\n",
       "    <tr style=\"text-align: right;\">\n",
       "      <th></th>\n",
       "      <th>a</th>\n",
       "      <th>b</th>\n",
       "      <th>d</th>\n",
       "    </tr>\n",
       "  </thead>\n",
       "  <tbody>\n",
       "    <tr>\n",
       "      <th>count</th>\n",
       "      <td>3.0</td>\n",
       "      <td>3.000000</td>\n",
       "      <td>3.0</td>\n",
       "    </tr>\n",
       "    <tr>\n",
       "      <th>mean</th>\n",
       "      <td>2.0</td>\n",
       "      <td>3.800000</td>\n",
       "      <td>42.0</td>\n",
       "    </tr>\n",
       "    <tr>\n",
       "      <th>std</th>\n",
       "      <td>1.0</td>\n",
       "      <td>1.670329</td>\n",
       "      <td>0.0</td>\n",
       "    </tr>\n",
       "    <tr>\n",
       "      <th>min</th>\n",
       "      <td>1.0</td>\n",
       "      <td>2.300000</td>\n",
       "      <td>42.0</td>\n",
       "    </tr>\n",
       "    <tr>\n",
       "      <th>25%</th>\n",
       "      <td>1.5</td>\n",
       "      <td>2.900000</td>\n",
       "      <td>42.0</td>\n",
       "    </tr>\n",
       "    <tr>\n",
       "      <th>50%</th>\n",
       "      <td>2.0</td>\n",
       "      <td>3.500000</td>\n",
       "      <td>42.0</td>\n",
       "    </tr>\n",
       "    <tr>\n",
       "      <th>75%</th>\n",
       "      <td>2.5</td>\n",
       "      <td>4.550000</td>\n",
       "      <td>42.0</td>\n",
       "    </tr>\n",
       "    <tr>\n",
       "      <th>max</th>\n",
       "      <td>3.0</td>\n",
       "      <td>5.600000</td>\n",
       "      <td>42.0</td>\n",
       "    </tr>\n",
       "  </tbody>\n",
       "</table>\n",
       "</div>"
      ],
      "text/plain": [
       "         a         b     d\n",
       "count  3.0  3.000000   3.0\n",
       "mean   2.0  3.800000  42.0\n",
       "std    1.0  1.670329   0.0\n",
       "min    1.0  2.300000  42.0\n",
       "25%    1.5  2.900000  42.0\n",
       "50%    2.0  3.500000  42.0\n",
       "75%    2.5  4.550000  42.0\n",
       "max    3.0  5.600000  42.0"
      ]
     },
     "execution_count": 33,
     "metadata": {},
     "output_type": "execute_result"
    }
   ],
   "source": [
    "df.describe()"
   ]
  },
  {
   "cell_type": "markdown",
   "id": "8123ae52-8dcb-4aa3-a391-422c7b4d12f9",
   "metadata": {},
   "source": [
    "### Slicing"
   ]
  },
  {
   "cell_type": "code",
   "execution_count": 35,
   "id": "70d33eb3-4c9e-4a66-9ace-5c0e3eaee340",
   "metadata": {},
   "outputs": [
    {
     "name": "stdout",
     "output_type": "stream",
     "text": [
      "\u001b[31m\u001b[1mKeyError: 3\u001b[0m\n"
     ]
    }
   ],
   "source": [
    "%shorterr df[3]"
   ]
  },
  {
   "cell_type": "code",
   "execution_count": null,
   "id": "b855a8b0-b019-4f2a-9775-bd39e97f290a",
   "metadata": {},
   "outputs": [],
   "source": [
    "df.loc\n",
    "df.iloc"
   ]
  },
  {
   "cell_type": "code",
   "execution_count": 36,
   "id": "d6af3c70-6fcc-4f45-8e7f-311e575f9ea2",
   "metadata": {},
   "outputs": [
    {
     "data": {
      "text/html": [
       "<div>\n",
       "<style scoped>\n",
       "    .dataframe tbody tr th:only-of-type {\n",
       "        vertical-align: middle;\n",
       "    }\n",
       "\n",
       "    .dataframe tbody tr th {\n",
       "        vertical-align: top;\n",
       "    }\n",
       "\n",
       "    .dataframe thead th {\n",
       "        text-align: right;\n",
       "    }\n",
       "</style>\n",
       "<table border=\"1\" class=\"dataframe\">\n",
       "  <thead>\n",
       "    <tr style=\"text-align: right;\">\n",
       "      <th></th>\n",
       "      <th>a</th>\n",
       "      <th>b</th>\n",
       "      <th>c</th>\n",
       "      <th>d</th>\n",
       "    </tr>\n",
       "  </thead>\n",
       "  <tbody>\n",
       "    <tr>\n",
       "      <th>0</th>\n",
       "      <td>1</td>\n",
       "      <td>3.5</td>\n",
       "      <td>foo</td>\n",
       "      <td>42</td>\n",
       "    </tr>\n",
       "    <tr>\n",
       "      <th>1</th>\n",
       "      <td>2</td>\n",
       "      <td>2.3</td>\n",
       "      <td>bar</td>\n",
       "      <td>42</td>\n",
       "    </tr>\n",
       "    <tr>\n",
       "      <th>2</th>\n",
       "      <td>3</td>\n",
       "      <td>5.6</td>\n",
       "      <td>baz</td>\n",
       "      <td>42</td>\n",
       "    </tr>\n",
       "  </tbody>\n",
       "</table>\n",
       "</div>"
      ],
      "text/plain": [
       "   a    b    c   d\n",
       "0  1  3.5  foo  42\n",
       "1  2  2.3  bar  42\n",
       "2  3  5.6  baz  42"
      ]
     },
     "execution_count": 36,
     "metadata": {},
     "output_type": "execute_result"
    }
   ],
   "source": [
    "df"
   ]
  },
  {
   "cell_type": "code",
   "execution_count": 40,
   "id": "93ca6508-2e19-48e4-8c7b-a9a34e680a3b",
   "metadata": {},
   "outputs": [
    {
     "name": "stdout",
     "output_type": "stream",
     "text": [
      "\u001b[31m\u001b[1mKeyError: -1\u001b[0m\n"
     ]
    }
   ],
   "source": [
    "%shorterr df.loc[-1]"
   ]
  },
  {
   "cell_type": "code",
   "execution_count": 45,
   "id": "b70e9e2b-7e00-4216-9d7c-ddb8d0207a51",
   "metadata": {},
   "outputs": [
    {
     "name": "stdout",
     "output_type": "stream",
     "text": [
      "\u001b[31m\u001b[1mIndexError: single positional indexer is out-of-bounds\u001b[0m\n"
     ]
    }
   ],
   "source": [
    "%shorterr df.iloc[123]"
   ]
  },
  {
   "cell_type": "code",
   "execution_count": 47,
   "id": "29852439-b6d0-493c-b2e8-05226db72517",
   "metadata": {},
   "outputs": [
    {
     "data": {
      "text/html": [
       "<div>\n",
       "<style scoped>\n",
       "    .dataframe tbody tr th:only-of-type {\n",
       "        vertical-align: middle;\n",
       "    }\n",
       "\n",
       "    .dataframe tbody tr th {\n",
       "        vertical-align: top;\n",
       "    }\n",
       "\n",
       "    .dataframe thead th {\n",
       "        text-align: right;\n",
       "    }\n",
       "</style>\n",
       "<table border=\"1\" class=\"dataframe\">\n",
       "  <thead>\n",
       "    <tr style=\"text-align: right;\">\n",
       "      <th></th>\n",
       "      <th>a</th>\n",
       "      <th>b</th>\n",
       "      <th>c</th>\n",
       "      <th>d</th>\n",
       "    </tr>\n",
       "  </thead>\n",
       "  <tbody>\n",
       "    <tr>\n",
       "      <th>1</th>\n",
       "      <td>2</td>\n",
       "      <td>2.3</td>\n",
       "      <td>bar</td>\n",
       "      <td>42</td>\n",
       "    </tr>\n",
       "    <tr>\n",
       "      <th>2</th>\n",
       "      <td>3</td>\n",
       "      <td>5.6</td>\n",
       "      <td>baz</td>\n",
       "      <td>42</td>\n",
       "    </tr>\n",
       "  </tbody>\n",
       "</table>\n",
       "</div>"
      ],
      "text/plain": [
       "   a    b    c   d\n",
       "1  2  2.3  bar  42\n",
       "2  3  5.6  baz  42"
      ]
     },
     "execution_count": 47,
     "metadata": {},
     "output_type": "execute_result"
    }
   ],
   "source": [
    "df.iloc[1:3]"
   ]
  },
  {
   "cell_type": "markdown",
   "id": "0738db59-927f-4808-ba76-67ccdaaee6fe",
   "metadata": {},
   "source": [
    "### Grouped operations"
   ]
  },
  {
   "cell_type": "code",
   "execution_count": 48,
   "id": "3ebbe4b4-be89-4b9a-87d7-67c636bb0c66",
   "metadata": {},
   "outputs": [
    {
     "data": {
      "text/html": [
       "<div>\n",
       "<style scoped>\n",
       "    .dataframe tbody tr th:only-of-type {\n",
       "        vertical-align: middle;\n",
       "    }\n",
       "\n",
       "    .dataframe tbody tr th {\n",
       "        vertical-align: top;\n",
       "    }\n",
       "\n",
       "    .dataframe thead th {\n",
       "        text-align: right;\n",
       "    }\n",
       "</style>\n",
       "<table border=\"1\" class=\"dataframe\">\n",
       "  <thead>\n",
       "    <tr style=\"text-align: right;\">\n",
       "      <th></th>\n",
       "      <th>location</th>\n",
       "      <th>detector</th>\n",
       "      <th>x</th>\n",
       "      <th>y</th>\n",
       "    </tr>\n",
       "  </thead>\n",
       "  <tbody>\n",
       "    <tr>\n",
       "      <th>0</th>\n",
       "      <td>Italy</td>\n",
       "      <td>ARCA_DU1</td>\n",
       "      <td>0.697368</td>\n",
       "      <td>0.926765</td>\n",
       "    </tr>\n",
       "    <tr>\n",
       "      <th>1</th>\n",
       "      <td>France</td>\n",
       "      <td>ORCA_DU2</td>\n",
       "      <td>0.094177</td>\n",
       "      <td>0.643865</td>\n",
       "    </tr>\n",
       "    <tr>\n",
       "      <th>2</th>\n",
       "      <td>Italy</td>\n",
       "      <td>ARCA_DU3</td>\n",
       "      <td>0.975622</td>\n",
       "      <td>0.822762</td>\n",
       "    </tr>\n",
       "    <tr>\n",
       "      <th>3</th>\n",
       "      <td>Italy</td>\n",
       "      <td>ARCA_DU4</td>\n",
       "      <td>0.761140</td>\n",
       "      <td>0.443414</td>\n",
       "    </tr>\n",
       "    <tr>\n",
       "      <th>4</th>\n",
       "      <td>France</td>\n",
       "      <td>ANTARES</td>\n",
       "      <td>0.786064</td>\n",
       "      <td>0.227239</td>\n",
       "    </tr>\n",
       "    <tr>\n",
       "      <th>5</th>\n",
       "      <td>Italy</td>\n",
       "      <td>NEMO</td>\n",
       "      <td>0.128114</td>\n",
       "      <td>0.554585</td>\n",
       "    </tr>\n",
       "    <tr>\n",
       "      <th>6</th>\n",
       "      <td>France</td>\n",
       "      <td>ORCA_DU1</td>\n",
       "      <td>0.450386</td>\n",
       "      <td>0.063817</td>\n",
       "    </tr>\n",
       "    <tr>\n",
       "      <th>7</th>\n",
       "      <td>France</td>\n",
       "      <td>ORCA_DU5</td>\n",
       "      <td>0.370798</td>\n",
       "      <td>0.827631</td>\n",
       "    </tr>\n",
       "  </tbody>\n",
       "</table>\n",
       "</div>"
      ],
      "text/plain": [
       "  location  detector         x         y\n",
       "0    Italy  ARCA_DU1  0.697368  0.926765\n",
       "1   France  ORCA_DU2  0.094177  0.643865\n",
       "2    Italy  ARCA_DU3  0.975622  0.822762\n",
       "3    Italy  ARCA_DU4  0.761140  0.443414\n",
       "4   France   ANTARES  0.786064  0.227239\n",
       "5    Italy      NEMO  0.128114  0.554585\n",
       "6   France  ORCA_DU1  0.450386  0.063817\n",
       "7   France  ORCA_DU5  0.370798  0.827631"
      ]
     },
     "execution_count": 48,
     "metadata": {},
     "output_type": "execute_result"
    }
   ],
   "source": [
    "df = pd.DataFrame({'location' : ['Italy', 'France', 'Italy', 'Italy',\n",
    "                                 'France', 'Italy', 'France', 'France'],\n",
    "                   'detector' : ['ARCA_DU1', 'ORCA_DU2', 'ARCA_DU3', 'ARCA_DU4',\n",
    "                                 'ANTARES', 'NEMO', 'ORCA_DU1', 'ORCA_DU5'],\n",
    "                   'x' : rng.random(8),\n",
    "                   'y' : rng.random(8)})\n",
    "df"
   ]
  },
  {
   "cell_type": "code",
   "execution_count": 50,
   "id": "d34e0076-63f3-43fa-916c-c77167511775",
   "metadata": {},
   "outputs": [],
   "source": [
    "df_by_location = df.groupby(\"location\")"
   ]
  },
  {
   "cell_type": "code",
   "execution_count": 51,
   "id": "3b8c26f3-e14f-43b7-91dd-35586e5614d7",
   "metadata": {},
   "outputs": [
    {
     "data": {
      "text/plain": [
       "{'France': [1, 4, 6, 7], 'Italy': [0, 2, 3, 5]}"
      ]
     },
     "execution_count": 51,
     "metadata": {},
     "output_type": "execute_result"
    }
   ],
   "source": [
    "df_by_location.groups"
   ]
  },
  {
   "cell_type": "code",
   "execution_count": 52,
   "id": "a70dc2eb-0ab5-499e-b221-0ad86e844e08",
   "metadata": {},
   "outputs": [
    {
     "data": {
      "text/html": [
       "<div>\n",
       "<style scoped>\n",
       "    .dataframe tbody tr th:only-of-type {\n",
       "        vertical-align: middle;\n",
       "    }\n",
       "\n",
       "    .dataframe tbody tr th {\n",
       "        vertical-align: top;\n",
       "    }\n",
       "\n",
       "    .dataframe thead th {\n",
       "        text-align: right;\n",
       "    }\n",
       "</style>\n",
       "<table border=\"1\" class=\"dataframe\">\n",
       "  <thead>\n",
       "    <tr style=\"text-align: right;\">\n",
       "      <th></th>\n",
       "      <th>location</th>\n",
       "      <th>detector</th>\n",
       "      <th>x</th>\n",
       "      <th>y</th>\n",
       "    </tr>\n",
       "  </thead>\n",
       "  <tbody>\n",
       "    <tr>\n",
       "      <th>1</th>\n",
       "      <td>France</td>\n",
       "      <td>ORCA_DU2</td>\n",
       "      <td>0.094177</td>\n",
       "      <td>0.643865</td>\n",
       "    </tr>\n",
       "    <tr>\n",
       "      <th>4</th>\n",
       "      <td>France</td>\n",
       "      <td>ANTARES</td>\n",
       "      <td>0.786064</td>\n",
       "      <td>0.227239</td>\n",
       "    </tr>\n",
       "    <tr>\n",
       "      <th>6</th>\n",
       "      <td>France</td>\n",
       "      <td>ORCA_DU1</td>\n",
       "      <td>0.450386</td>\n",
       "      <td>0.063817</td>\n",
       "    </tr>\n",
       "    <tr>\n",
       "      <th>7</th>\n",
       "      <td>France</td>\n",
       "      <td>ORCA_DU5</td>\n",
       "      <td>0.370798</td>\n",
       "      <td>0.827631</td>\n",
       "    </tr>\n",
       "  </tbody>\n",
       "</table>\n",
       "</div>"
      ],
      "text/plain": [
       "  location  detector         x         y\n",
       "1   France  ORCA_DU2  0.094177  0.643865\n",
       "4   France   ANTARES  0.786064  0.227239\n",
       "6   France  ORCA_DU1  0.450386  0.063817\n",
       "7   France  ORCA_DU5  0.370798  0.827631"
      ]
     },
     "execution_count": 52,
     "metadata": {},
     "output_type": "execute_result"
    }
   ],
   "source": [
    "df_by_location.get_group(\"France\")"
   ]
  },
  {
   "cell_type": "code",
   "execution_count": 53,
   "id": "03655703-95ee-4fd2-9b3f-619c5e0479d4",
   "metadata": {},
   "outputs": [
    {
     "data": {
      "text/plain": [
       "1    0.094177\n",
       "4    0.786064\n",
       "6    0.450386\n",
       "7    0.370798\n",
       "Name: x, dtype: float64"
      ]
     },
     "execution_count": 53,
     "metadata": {},
     "output_type": "execute_result"
    }
   ],
   "source": [
    "df_by_location.get_group(\"France\")[\"x\"]"
   ]
  },
  {
   "cell_type": "code",
   "execution_count": 54,
   "id": "e577bf76-c633-4966-a02e-7502d657ae8f",
   "metadata": {},
   "outputs": [
    {
     "data": {
      "text/html": [
       "<div>\n",
       "<style scoped>\n",
       "    .dataframe tbody tr th:only-of-type {\n",
       "        vertical-align: middle;\n",
       "    }\n",
       "\n",
       "    .dataframe tbody tr th {\n",
       "        vertical-align: top;\n",
       "    }\n",
       "\n",
       "    .dataframe thead th {\n",
       "        text-align: right;\n",
       "    }\n",
       "</style>\n",
       "<table border=\"1\" class=\"dataframe\">\n",
       "  <thead>\n",
       "    <tr style=\"text-align: right;\">\n",
       "      <th></th>\n",
       "      <th>event_id</th>\n",
       "      <th>hit_time</th>\n",
       "      <th>pmt_id</th>\n",
       "    </tr>\n",
       "  </thead>\n",
       "  <tbody>\n",
       "    <tr>\n",
       "      <th>0</th>\n",
       "      <td>1</td>\n",
       "      <td>23</td>\n",
       "      <td>4</td>\n",
       "    </tr>\n",
       "    <tr>\n",
       "      <th>1</th>\n",
       "      <td>1</td>\n",
       "      <td>13</td>\n",
       "      <td>3</td>\n",
       "    </tr>\n",
       "    <tr>\n",
       "      <th>2</th>\n",
       "      <td>1</td>\n",
       "      <td>14</td>\n",
       "      <td>5</td>\n",
       "    </tr>\n",
       "    <tr>\n",
       "      <th>3</th>\n",
       "      <td>2</td>\n",
       "      <td>44</td>\n",
       "      <td>30</td>\n",
       "    </tr>\n",
       "    <tr>\n",
       "      <th>4</th>\n",
       "      <td>2</td>\n",
       "      <td>23</td>\n",
       "      <td>5</td>\n",
       "    </tr>\n",
       "    <tr>\n",
       "      <th>5</th>\n",
       "      <td>3</td>\n",
       "      <td>45</td>\n",
       "      <td>5</td>\n",
       "    </tr>\n",
       "    <tr>\n",
       "      <th>6</th>\n",
       "      <td>3</td>\n",
       "      <td>1</td>\n",
       "      <td>3</td>\n",
       "    </tr>\n",
       "    <tr>\n",
       "      <th>7</th>\n",
       "      <td>3</td>\n",
       "      <td>2</td>\n",
       "      <td>5</td>\n",
       "    </tr>\n",
       "    <tr>\n",
       "      <th>8</th>\n",
       "      <td>3</td>\n",
       "      <td>4</td>\n",
       "      <td>3</td>\n",
       "    </tr>\n",
       "  </tbody>\n",
       "</table>\n",
       "</div>"
      ],
      "text/plain": [
       "   event_id  hit_time  pmt_id\n",
       "0         1        23       4\n",
       "1         1        13       3\n",
       "2         1        14       5\n",
       "3         2        44      30\n",
       "4         2        23       5\n",
       "5         3        45       5\n",
       "6         3         1       3\n",
       "7         3         2       5\n",
       "8         3         4       3"
      ]
     },
     "execution_count": 54,
     "metadata": {},
     "output_type": "execute_result"
    }
   ],
   "source": [
    "df = pd.DataFrame({\n",
    "    'event_id': [1, 1, 1, 2, 2, 3, 3, 3, 3],\n",
    "    'hit_time': [23, 13, 14, 44, 23, 45, 1, 2, 4],\n",
    "    'pmt_id': [4, 3, 5, 30, 5, 5, 3, 5, 3]\n",
    "})\n",
    "df"
   ]
  },
  {
   "cell_type": "code",
   "execution_count": 56,
   "id": "98915082-d940-4ca1-9154-7cb887a7dfd4",
   "metadata": {},
   "outputs": [
    {
     "name": "stdout",
     "output_type": "stream",
     "text": [
      "1\n",
      "   event_id  hit_time  pmt_id\n",
      "0         1        23       4\n",
      "1         1        13       3\n",
      "2         1        14       5\n",
      "\n",
      "2\n",
      "   event_id  hit_time  pmt_id\n",
      "3         2        44      30\n",
      "4         2        23       5\n",
      "\n",
      "3\n",
      "   event_id  hit_time  pmt_id\n",
      "5         3        45       5\n",
      "6         3         1       3\n",
      "7         3         2       5\n",
      "8         3         4       3\n",
      "\n"
     ]
    }
   ],
   "source": [
    "for event_id, hits in df.groupby(\"event_id\"):\n",
    "    print(event_id)\n",
    "    print(hits)\n",
    "    print()"
   ]
  },
  {
   "cell_type": "code",
   "execution_count": 57,
   "id": "358a142c-4fa5-44b8-bede-4366e1bf2f0f",
   "metadata": {},
   "outputs": [
    {
     "data": {
      "text/plain": [
       "event_id\n",
       "1    13\n",
       "2    23\n",
       "3     1\n",
       "Name: hit_time, dtype: int64"
      ]
     },
     "execution_count": 57,
     "metadata": {},
     "output_type": "execute_result"
    }
   ],
   "source": [
    "df.groupby(\"event_id\")[\"hit_time\"].min()"
   ]
  },
  {
   "cell_type": "code",
   "execution_count": 58,
   "id": "aa149be9-185e-403b-a19e-7fdb74afe7ac",
   "metadata": {},
   "outputs": [
    {
     "data": {
      "text/plain": [
       "event_id\n",
       "1    23\n",
       "2    44\n",
       "3    45\n",
       "Name: hit_time, dtype: int64"
      ]
     },
     "execution_count": 58,
     "metadata": {},
     "output_type": "execute_result"
    }
   ],
   "source": [
    "df.groupby(\"event_id\")[\"hit_time\"].max()"
   ]
  },
  {
   "cell_type": "code",
   "execution_count": 61,
   "id": "53f9ef49-65ca-4a8e-9110-a1d58ac9abbf",
   "metadata": {},
   "outputs": [
    {
     "data": {
      "text/plain": [
       "event_id\n",
       "1    50\n",
       "2    67\n",
       "3    52\n",
       "Name: hit_time, dtype: int64"
      ]
     },
     "execution_count": 61,
     "metadata": {},
     "output_type": "execute_result"
    }
   ],
   "source": [
    "df.groupby(\"event_id\")[\"hit_time\"].sum()"
   ]
  },
  {
   "cell_type": "code",
   "execution_count": 64,
   "id": "1a420ce9-2a76-4ba6-9d53-fbcfd0080790",
   "metadata": {},
   "outputs": [
    {
     "data": {
      "text/html": [
       "<div>\n",
       "<style scoped>\n",
       "    .dataframe tbody tr th:only-of-type {\n",
       "        vertical-align: middle;\n",
       "    }\n",
       "\n",
       "    .dataframe tbody tr th {\n",
       "        vertical-align: top;\n",
       "    }\n",
       "\n",
       "    .dataframe thead th {\n",
       "        text-align: right;\n",
       "    }\n",
       "</style>\n",
       "<table border=\"1\" class=\"dataframe\">\n",
       "  <thead>\n",
       "    <tr style=\"text-align: right;\">\n",
       "      <th></th>\n",
       "      <th>amin</th>\n",
       "      <th>median</th>\n",
       "      <th>sum</th>\n",
       "      <th>min</th>\n",
       "      <th>max</th>\n",
       "    </tr>\n",
       "    <tr>\n",
       "      <th>event_id</th>\n",
       "      <th></th>\n",
       "      <th></th>\n",
       "      <th></th>\n",
       "      <th></th>\n",
       "      <th></th>\n",
       "    </tr>\n",
       "  </thead>\n",
       "  <tbody>\n",
       "    <tr>\n",
       "      <th>1</th>\n",
       "      <td>13</td>\n",
       "      <td>14.0</td>\n",
       "      <td>50</td>\n",
       "      <td>13</td>\n",
       "      <td>23</td>\n",
       "    </tr>\n",
       "    <tr>\n",
       "      <th>2</th>\n",
       "      <td>23</td>\n",
       "      <td>33.5</td>\n",
       "      <td>67</td>\n",
       "      <td>23</td>\n",
       "      <td>44</td>\n",
       "    </tr>\n",
       "    <tr>\n",
       "      <th>3</th>\n",
       "      <td>1</td>\n",
       "      <td>3.0</td>\n",
       "      <td>52</td>\n",
       "      <td>1</td>\n",
       "      <td>45</td>\n",
       "    </tr>\n",
       "  </tbody>\n",
       "</table>\n",
       "</div>"
      ],
      "text/plain": [
       "          amin  median  sum  min  max\n",
       "event_id                             \n",
       "1           13    14.0   50   13   23\n",
       "2           23    33.5   67   23   44\n",
       "3            1     3.0   52    1   45"
      ]
     },
     "execution_count": 64,
     "metadata": {},
     "output_type": "execute_result"
    }
   ],
   "source": [
    "df.groupby(\"event_id\")[\"hit_time\"].aggregate([np.min, np.median, sum, min, max])"
   ]
  },
  {
   "cell_type": "markdown",
   "id": "c750abda-24d2-4b46-9a96-aed4935aab62",
   "metadata": {},
   "source": [
    "### Transformations"
   ]
  },
  {
   "cell_type": "code",
   "execution_count": 65,
   "id": "f4ac190b-c49e-4e3b-bca3-d8a828f22545",
   "metadata": {},
   "outputs": [],
   "source": [
    "N = 1000\n",
    "index = pd.date_range(\"2021-06-09\", periods=N, freq=\"D\")"
   ]
  },
  {
   "cell_type": "code",
   "execution_count": 66,
   "id": "cd0b1686-ffdb-412e-b3c4-e8301b6f0057",
   "metadata": {},
   "outputs": [
    {
     "data": {
      "text/plain": [
       "DatetimeIndex(['2021-06-09', '2021-06-10', '2021-06-11', '2021-06-12',\n",
       "               '2021-06-13', '2021-06-14', '2021-06-15', '2021-06-16',\n",
       "               '2021-06-17', '2021-06-18',\n",
       "               ...\n",
       "               '2024-02-24', '2024-02-25', '2024-02-26', '2024-02-27',\n",
       "               '2024-02-28', '2024-02-29', '2024-03-01', '2024-03-02',\n",
       "               '2024-03-03', '2024-03-04'],\n",
       "              dtype='datetime64[ns]', length=1000, freq='D')"
      ]
     },
     "execution_count": 66,
     "metadata": {},
     "output_type": "execute_result"
    }
   ],
   "source": [
    "index"
   ]
  },
  {
   "cell_type": "code",
   "execution_count": 67,
   "id": "8ce1f6e5-131d-4740-9b35-18ad722e1dce",
   "metadata": {},
   "outputs": [],
   "source": [
    "ts = pd.Series(rng.normal(0.5, 2, N), index)"
   ]
  },
  {
   "cell_type": "code",
   "execution_count": 68,
   "id": "815ab6cb-e9fa-474a-8e98-bb9ea05a630a",
   "metadata": {},
   "outputs": [
    {
     "data": {
      "text/plain": [
       "2021-06-09    0.400148\n",
       "2021-06-10    0.130275\n",
       "2021-06-11   -0.861859\n",
       "2021-06-12    2.945083\n",
       "2021-06-13    0.190941\n",
       "                ...   \n",
       "2024-02-29   -1.590087\n",
       "2024-03-01   -1.542090\n",
       "2024-03-02    0.604347\n",
       "2024-03-03   -0.047701\n",
       "2024-03-04   -0.173664\n",
       "Freq: D, Length: 1000, dtype: float64"
      ]
     },
     "execution_count": 68,
     "metadata": {},
     "output_type": "execute_result"
    }
   ],
   "source": [
    "ts"
   ]
  },
  {
   "cell_type": "code",
   "execution_count": 70,
   "id": "68d2dc26-790d-41e6-b1bf-04f9666f5931",
   "metadata": {},
   "outputs": [
    {
     "data": {
      "text/plain": [
       "2021-06-09         NaN\n",
       "2021-06-10         NaN\n",
       "2021-06-11         NaN\n",
       "2021-06-12         NaN\n",
       "2021-06-13         NaN\n",
       "                ...   \n",
       "2024-02-29    0.647233\n",
       "2024-03-01    0.603662\n",
       "2024-03-02    0.575979\n",
       "2024-03-03    0.559914\n",
       "2024-03-04    0.525909\n",
       "Freq: D, Length: 1000, dtype: float64"
      ]
     },
     "execution_count": 70,
     "metadata": {},
     "output_type": "execute_result"
    }
   ],
   "source": [
    "ts.rolling(window=100, min_periods=100).mean()"
   ]
  },
  {
   "cell_type": "code",
   "execution_count": 72,
   "id": "50f7e966-579e-4d90-831e-89214f4e898c",
   "metadata": {},
   "outputs": [
    {
     "data": {
      "text/plain": [
       "2021-09-16    0.371997\n",
       "2021-09-17    0.368208\n",
       "2021-09-18    0.351436\n",
       "2021-09-19    0.368640\n",
       "2021-09-20    0.348589\n",
       "                ...   \n",
       "2024-02-29    0.647233\n",
       "2024-03-01    0.603662\n",
       "2024-03-02    0.575979\n",
       "2024-03-03    0.559914\n",
       "2024-03-04    0.525909\n",
       "Freq: D, Length: 901, dtype: float64"
      ]
     },
     "execution_count": 72,
     "metadata": {},
     "output_type": "execute_result"
    }
   ],
   "source": [
    "ts = ts.rolling(window=100, min_periods=100).mean().dropna()\n",
    "ts"
   ]
  },
  {
   "cell_type": "code",
   "execution_count": 79,
   "id": "16bcf605-dd59-416f-8b33-59f66e35a2de",
   "metadata": {},
   "outputs": [],
   "source": [
    "transformed = ts.groupby(lambda x: x.year).transform(lambda x: (x - x.mean()) / x.std())"
   ]
  },
  {
   "cell_type": "code",
   "execution_count": 75,
   "id": "0e544288-0371-489d-9f26-deae91b05db6",
   "metadata": {},
   "outputs": [
    {
     "data": {
      "text/plain": [
       "2021    0.348990\n",
       "2022    0.501918\n",
       "2023    0.364292\n",
       "2024    0.492962\n",
       "dtype: float64"
      ]
     },
     "execution_count": 75,
     "metadata": {},
     "output_type": "execute_result"
    }
   ],
   "source": [
    "grouped = ts.groupby(lambda x: x.year)\n",
    "grouped.mean()"
   ]
  },
  {
   "cell_type": "code",
   "execution_count": 77,
   "id": "4d44b059-d0b3-4a22-8c4f-18b53ecbfac0",
   "metadata": {},
   "outputs": [
    {
     "data": {
      "text/plain": [
       "2021    0.095931\n",
       "2022    0.113224\n",
       "2023    0.148435\n",
       "2024    0.155354\n",
       "dtype: float64"
      ]
     },
     "execution_count": 77,
     "metadata": {},
     "output_type": "execute_result"
    }
   ],
   "source": [
    "grouped.std()"
   ]
  },
  {
   "cell_type": "code",
   "execution_count": 81,
   "id": "736fa089-703b-404b-b2ab-8edb5cb15ab7",
   "metadata": {},
   "outputs": [],
   "source": [
    "grouped_trans = transformed.groupby(lambda x: x.year)"
   ]
  },
  {
   "cell_type": "code",
   "execution_count": 82,
   "id": "e2185442-0ae8-48f6-b7c1-ec0d26ab06e3",
   "metadata": {},
   "outputs": [
    {
     "data": {
      "text/plain": [
       "2021    3.050519e-16\n",
       "2022   -4.002886e-16\n",
       "2023    2.342114e-16\n",
       "2024    1.903859e-16\n",
       "dtype: float64"
      ]
     },
     "execution_count": 82,
     "metadata": {},
     "output_type": "execute_result"
    }
   ],
   "source": [
    "grouped_trans.mean()"
   ]
  },
  {
   "cell_type": "code",
   "execution_count": 83,
   "id": "9d04cf74-f9e4-4fcd-a58a-5ebc573f1409",
   "metadata": {},
   "outputs": [
    {
     "data": {
      "text/plain": [
       "2021    1.0\n",
       "2022    1.0\n",
       "2023    1.0\n",
       "2024    1.0\n",
       "dtype: float64"
      ]
     },
     "execution_count": 83,
     "metadata": {},
     "output_type": "execute_result"
    }
   ],
   "source": [
    "grouped_trans.std()"
   ]
  },
  {
   "cell_type": "code",
   "execution_count": 84,
   "id": "1a9a3a3f-9354-47ad-a0e2-42b352eed60c",
   "metadata": {},
   "outputs": [
    {
     "data": {
      "text/plain": [
       "<AxesSubplot:>"
      ]
     },
     "execution_count": 84,
     "metadata": {},
     "output_type": "execute_result"
    },
    {
     "data": {
      "image/png": "[encoded data removed]",
      "text/plain": [
       "<Figure size 720x360 with 1 Axes>"
      ]
     },
     "metadata": {
      "needs_background": "light"
     },
     "output_type": "display_data"
    }
   ],
   "source": [
    "pd.DataFrame({\"Original Data\": ts, \"Transformed\": transformed}).plot()"
   ]
  },
  {
   "cell_type": "code",
   "execution_count": 85,
   "id": "e4ad8ca4-afdb-49c2-b2fd-17e47fc044db",
   "metadata": {},
   "outputs": [],
   "source": [
    "N = 1000\n",
    "\n",
    "df = pd.DataFrame({\n",
    "    \"foo\": np.cumsum(rng.random(N)),\n",
    "    \"bar\": np.cumsum(rng.random(N)),\n",
    "    \"narf\": np.cumsum(rng.random(N)),\n",
    "})"
   ]
  },
  {
   "cell_type": "code",
   "execution_count": 86,
   "id": "4d3ce1e0-41b5-40f3-9302-3d952b8d4194",
   "metadata": {},
   "outputs": [
    {
     "data": {
      "text/plain": [
       "<AxesSubplot:>"
      ]
     },
     "execution_count": 86,
     "metadata": {},
     "output_type": "execute_result"
    },
    {
     "data": {
      "image/png": "[encoded data removed]",
      "text/plain": [
       "<Figure size 720x360 with 1 Axes>"
      ]
     },
     "metadata": {
      "needs_background": "light"
     },
     "output_type": "display_data"
    }
   ],
   "source": [
    "df.plot()"
   ]
  },
  {
   "cell_type": "code",
   "execution_count": 87,
   "id": "c90e3f2d-b4b7-4cec-be05-6c10d8877c22",
   "metadata": {},
   "outputs": [
    {
     "data": {
      "text/plain": [
       "array([[<AxesSubplot:title={'center':'foo'}>,\n",
       "        <AxesSubplot:title={'center':'bar'}>],\n",
       "       [<AxesSubplot:title={'center':'narf'}>, <AxesSubplot:>]],\n",
       "      dtype=object)"
      ]
     },
     "execution_count": 87,
     "metadata": {},
     "output_type": "execute_result"
    },
    {
     "data": {
      "image/png": "[encoded data removed]",
      "text/plain": [
       "<Figure size 720x360 with 4 Axes>"
      ]
     },
     "metadata": {
      "needs_background": "light"
     },
     "output_type": "display_data"
    }
   ],
   "source": [
    "df.hist()"
   ]
  },
  {
   "cell_type": "code",
   "execution_count": null,
   "id": "7cf01160-407d-4344-880a-7015a5acbdc6",
   "metadata": {},
   "outputs": [],
   "source": [
    "df.plot()"
   ]
  },
  {
   "cell_type": "markdown",
   "id": "5d9c8a6c-d8cb-4759-bcbb-5d697e9f118f",
   "metadata": {},
   "source": [
    "### Memory Usage of DataFrames"
   ]
  },
  {
   "cell_type": "code",
   "execution_count": 88,
   "id": "788fc40b-5939-488d-a58a-b4054bc096ad",
   "metadata": {},
   "outputs": [],
   "source": [
    "rng = np.random.default_rng(42)  # initialise our random number generator\n",
    "\n",
    "data = rng.random((10_000_000, 6))"
   ]
  },
  {
   "cell_type": "code",
   "execution_count": 89,
   "id": "6f9a71e4-0b4f-449b-82dd-4bee2f2e343d",
   "metadata": {},
   "outputs": [],
   "source": [
    "df = pd.DataFrame(data, columns=list(\"abcdef\"))"
   ]
  },
  {
   "cell_type": "code",
   "execution_count": 92,
   "id": "8e30e0d2-6e18-4f18-8682-434611c5c3eb",
   "metadata": {},
   "outputs": [
    {
     "data": {
      "text/html": [
       "<div>\n",
       "<style scoped>\n",
       "    .dataframe tbody tr th:only-of-type {\n",
       "        vertical-align: middle;\n",
       "    }\n",
       "\n",
       "    .dataframe tbody tr th {\n",
       "        vertical-align: top;\n",
       "    }\n",
       "\n",
       "    .dataframe thead th {\n",
       "        text-align: right;\n",
       "    }\n",
       "</style>\n",
       "<table border=\"1\" class=\"dataframe\">\n",
       "  <thead>\n",
       "    <tr style=\"text-align: right;\">\n",
       "      <th></th>\n",
       "      <th>a</th>\n",
       "      <th>b</th>\n",
       "      <th>c</th>\n",
       "      <th>d</th>\n",
       "      <th>e</th>\n",
       "      <th>f</th>\n",
       "    </tr>\n",
       "  </thead>\n",
       "  <tbody>\n",
       "    <tr>\n",
       "      <th>0</th>\n",
       "      <td>0.773956</td>\n",
       "      <td>0.438878</td>\n",
       "      <td>0.858598</td>\n",
       "      <td>0.697368</td>\n",
       "      <td>0.094177</td>\n",
       "      <td>0.975622</td>\n",
       "    </tr>\n",
       "    <tr>\n",
       "      <th>1</th>\n",
       "      <td>0.761140</td>\n",
       "      <td>0.786064</td>\n",
       "      <td>0.128114</td>\n",
       "      <td>0.450386</td>\n",
       "      <td>0.370798</td>\n",
       "      <td>0.926765</td>\n",
       "    </tr>\n",
       "    <tr>\n",
       "      <th>2</th>\n",
       "      <td>0.643865</td>\n",
       "      <td>0.822762</td>\n",
       "      <td>0.443414</td>\n",
       "      <td>0.227239</td>\n",
       "      <td>0.554585</td>\n",
       "      <td>0.063817</td>\n",
       "    </tr>\n",
       "    <tr>\n",
       "      <th>3</th>\n",
       "      <td>0.827631</td>\n",
       "      <td>0.631664</td>\n",
       "      <td>0.758088</td>\n",
       "      <td>0.354526</td>\n",
       "      <td>0.970698</td>\n",
       "      <td>0.893121</td>\n",
       "    </tr>\n",
       "    <tr>\n",
       "      <th>4</th>\n",
       "      <td>0.778383</td>\n",
       "      <td>0.194639</td>\n",
       "      <td>0.466721</td>\n",
       "      <td>0.043804</td>\n",
       "      <td>0.154289</td>\n",
       "      <td>0.683049</td>\n",
       "    </tr>\n",
       "  </tbody>\n",
       "</table>\n",
       "</div>"
      ],
      "text/plain": [
       "          a         b         c         d         e         f\n",
       "0  0.773956  0.438878  0.858598  0.697368  0.094177  0.975622\n",
       "1  0.761140  0.786064  0.128114  0.450386  0.370798  0.926765\n",
       "2  0.643865  0.822762  0.443414  0.227239  0.554585  0.063817\n",
       "3  0.827631  0.631664  0.758088  0.354526  0.970698  0.893121\n",
       "4  0.778383  0.194639  0.466721  0.043804  0.154289  0.683049"
      ]
     },
     "execution_count": 92,
     "metadata": {},
     "output_type": "execute_result"
    }
   ],
   "source": [
    "df.head()"
   ]
  },
  {
   "cell_type": "code",
   "execution_count": 93,
   "id": "2b39e3c7-99cc-464d-b61f-5fa31449b7f8",
   "metadata": {},
   "outputs": [
    {
     "name": "stdout",
     "output_type": "stream",
     "text": [
      "<class 'pandas.core.frame.DataFrame'>\n",
      "RangeIndex: 10000000 entries, 0 to 9999999\n",
      "Data columns (total 6 columns):\n",
      " #   Column  Dtype  \n",
      "---  ------  -----  \n",
      " 0   a       float64\n",
      " 1   b       float64\n",
      " 2   c       float64\n",
      " 3   d       float64\n",
      " 4   e       float64\n",
      " 5   f       float64\n",
      "dtypes: float64(6)\n",
      "memory usage: 457.8 MB\n"
     ]
    }
   ],
   "source": [
    "df.info(memory_usage=\"deep\")"
   ]
  },
  {
   "cell_type": "code",
   "execution_count": 94,
   "id": "064a8642-7b5c-4353-8bdd-203b876433d6",
   "metadata": {},
   "outputs": [],
   "source": [
    "df = pd.read_clipboard()"
   ]
  },
  {
   "cell_type": "code",
   "execution_count": 95,
   "id": "d0f38479-f237-4340-88d2-5086d57a1506",
   "metadata": {},
   "outputs": [
    {
     "data": {
      "text/html": [
       "<div>\n",
       "<style scoped>\n",
       "    .dataframe tbody tr th:only-of-type {\n",
       "        vertical-align: middle;\n",
       "    }\n",
       "\n",
       "    .dataframe tbody tr th {\n",
       "        vertical-align: top;\n",
       "    }\n",
       "\n",
       "    .dataframe thead th {\n",
       "        text-align: right;\n",
       "    }\n",
       "</style>\n",
       "<table border=\"1\" class=\"dataframe\">\n",
       "  <thead>\n",
       "    <tr style=\"text-align: right;\">\n",
       "      <th></th>\n",
       "      <th>a</th>\n",
       "      <th>b</th>\n",
       "      <th>c</th>\n",
       "    </tr>\n",
       "  </thead>\n",
       "  <tbody>\n",
       "    <tr>\n",
       "      <th>0</th>\n",
       "      <td>123</td>\n",
       "      <td>124</td>\n",
       "      <td>56</td>\n",
       "    </tr>\n",
       "    <tr>\n",
       "      <th>1</th>\n",
       "      <td>123</td>\n",
       "      <td>123</td>\n",
       "      <td>45</td>\n",
       "    </tr>\n",
       "    <tr>\n",
       "      <th>2</th>\n",
       "      <td>12</td>\n",
       "      <td>45</td>\n",
       "      <td>3</td>\n",
       "    </tr>\n",
       "  </tbody>\n",
       "</table>\n",
       "</div>"
      ],
      "text/plain": [
       "     a    b   c\n",
       "0  123  124  56\n",
       "1  123  123  45\n",
       "2   12   45   3"
      ]
     },
     "execution_count": 95,
     "metadata": {},
     "output_type": "execute_result"
    }
   ],
   "source": [
    "df"
   ]
  },
  {
   "cell_type": "markdown",
   "id": "d2609461-0c61-49bf-bcd8-69d9726d4812",
   "metadata": {},
   "source": [
    "### Subsampling"
   ]
  },
  {
   "cell_type": "code",
   "execution_count": 100,
   "id": "7efbde13-cc4c-4a9e-b83b-326d097e60ed",
   "metadata": {},
   "outputs": [],
   "source": [
    "data = rng.random((10_000_000, 6))\n",
    "df = pd.DataFrame(data, columns=list(\"abcdef\"))"
   ]
  },
  {
   "cell_type": "code",
   "execution_count": 101,
   "id": "b409c7bb-d985-48c7-bb1a-4dd935ff309f",
   "metadata": {},
   "outputs": [
    {
     "data": {
      "text/html": [
       "<div>\n",
       "<style scoped>\n",
       "    .dataframe tbody tr th:only-of-type {\n",
       "        vertical-align: middle;\n",
       "    }\n",
       "\n",
       "    .dataframe tbody tr th {\n",
       "        vertical-align: top;\n",
       "    }\n",
       "\n",
       "    .dataframe thead th {\n",
       "        text-align: right;\n",
       "    }\n",
       "</style>\n",
       "<table border=\"1\" class=\"dataframe\">\n",
       "  <thead>\n",
       "    <tr style=\"text-align: right;\">\n",
       "      <th></th>\n",
       "      <th>a</th>\n",
       "      <th>b</th>\n",
       "      <th>c</th>\n",
       "      <th>d</th>\n",
       "      <th>e</th>\n",
       "      <th>f</th>\n",
       "    </tr>\n",
       "  </thead>\n",
       "  <tbody>\n",
       "    <tr>\n",
       "      <th>0</th>\n",
       "      <td>0.280035</td>\n",
       "      <td>0.919270</td>\n",
       "      <td>0.471941</td>\n",
       "      <td>0.784350</td>\n",
       "      <td>0.768103</td>\n",
       "      <td>0.769650</td>\n",
       "    </tr>\n",
       "    <tr>\n",
       "      <th>1</th>\n",
       "      <td>0.419265</td>\n",
       "      <td>0.273855</td>\n",
       "      <td>0.408748</td>\n",
       "      <td>0.055677</td>\n",
       "      <td>0.086819</td>\n",
       "      <td>0.816185</td>\n",
       "    </tr>\n",
       "    <tr>\n",
       "      <th>2</th>\n",
       "      <td>0.856658</td>\n",
       "      <td>0.450947</td>\n",
       "      <td>0.456774</td>\n",
       "      <td>0.137052</td>\n",
       "      <td>0.170971</td>\n",
       "      <td>0.321521</td>\n",
       "    </tr>\n",
       "    <tr>\n",
       "      <th>3</th>\n",
       "      <td>0.749663</td>\n",
       "      <td>0.653190</td>\n",
       "      <td>0.692913</td>\n",
       "      <td>0.350700</td>\n",
       "      <td>0.001179</td>\n",
       "      <td>0.140627</td>\n",
       "    </tr>\n",
       "    <tr>\n",
       "      <th>4</th>\n",
       "      <td>0.902509</td>\n",
       "      <td>0.329731</td>\n",
       "      <td>0.817463</td>\n",
       "      <td>0.296734</td>\n",
       "      <td>0.025924</td>\n",
       "      <td>0.979293</td>\n",
       "    </tr>\n",
       "  </tbody>\n",
       "</table>\n",
       "</div>"
      ],
      "text/plain": [
       "          a         b         c         d         e         f\n",
       "0  0.280035  0.919270  0.471941  0.784350  0.768103  0.769650\n",
       "1  0.419265  0.273855  0.408748  0.055677  0.086819  0.816185\n",
       "2  0.856658  0.450947  0.456774  0.137052  0.170971  0.321521\n",
       "3  0.749663  0.653190  0.692913  0.350700  0.001179  0.140627\n",
       "4  0.902509  0.329731  0.817463  0.296734  0.025924  0.979293"
      ]
     },
     "execution_count": 101,
     "metadata": {},
     "output_type": "execute_result"
    }
   ],
   "source": [
    "df.head()"
   ]
  },
  {
   "cell_type": "code",
   "execution_count": 102,
   "id": "f23c6517-a7bc-4a1c-b602-c00471742f70",
   "metadata": {},
   "outputs": [],
   "source": [
    "subsample = df.sample(frac=0.1, random_state=42)\n",
    "remaining = df.drop(subsample.index)"
   ]
  },
  {
   "cell_type": "code",
   "execution_count": 103,
   "id": "5b29c4e9-8324-45fe-8574-3bf85e682321",
   "metadata": {},
   "outputs": [
    {
     "data": {
      "text/html": [
       "<div>\n",
       "<style scoped>\n",
       "    .dataframe tbody tr th:only-of-type {\n",
       "        vertical-align: middle;\n",
       "    }\n",
       "\n",
       "    .dataframe tbody tr th {\n",
       "        vertical-align: top;\n",
       "    }\n",
       "\n",
       "    .dataframe thead th {\n",
       "        text-align: right;\n",
       "    }\n",
       "</style>\n",
       "<table border=\"1\" class=\"dataframe\">\n",
       "  <thead>\n",
       "    <tr style=\"text-align: right;\">\n",
       "      <th></th>\n",
       "      <th>a</th>\n",
       "      <th>b</th>\n",
       "      <th>c</th>\n",
       "      <th>d</th>\n",
       "      <th>e</th>\n",
       "      <th>f</th>\n",
       "    </tr>\n",
       "  </thead>\n",
       "  <tbody>\n",
       "    <tr>\n",
       "      <th>919213</th>\n",
       "      <td>0.426697</td>\n",
       "      <td>0.715573</td>\n",
       "      <td>0.304253</td>\n",
       "      <td>0.674274</td>\n",
       "      <td>0.914347</td>\n",
       "      <td>0.123704</td>\n",
       "    </tr>\n",
       "    <tr>\n",
       "      <th>9467153</th>\n",
       "      <td>0.361370</td>\n",
       "      <td>0.501865</td>\n",
       "      <td>0.216375</td>\n",
       "      <td>0.040527</td>\n",
       "      <td>0.465747</td>\n",
       "      <td>0.758964</td>\n",
       "    </tr>\n",
       "    <tr>\n",
       "      <th>6585777</th>\n",
       "      <td>0.962788</td>\n",
       "      <td>0.358012</td>\n",
       "      <td>0.622822</td>\n",
       "      <td>0.219717</td>\n",
       "      <td>0.670701</td>\n",
       "      <td>0.684356</td>\n",
       "    </tr>\n",
       "    <tr>\n",
       "      <th>3878022</th>\n",
       "      <td>0.589864</td>\n",
       "      <td>0.047480</td>\n",
       "      <td>0.345316</td>\n",
       "      <td>0.365620</td>\n",
       "      <td>0.096439</td>\n",
       "      <td>0.729696</td>\n",
       "    </tr>\n",
       "    <tr>\n",
       "      <th>5537116</th>\n",
       "      <td>0.250180</td>\n",
       "      <td>0.405046</td>\n",
       "      <td>0.190722</td>\n",
       "      <td>0.700733</td>\n",
       "      <td>0.882960</td>\n",
       "      <td>0.917538</td>\n",
       "    </tr>\n",
       "    <tr>\n",
       "      <th>...</th>\n",
       "      <td>...</td>\n",
       "      <td>...</td>\n",
       "      <td>...</td>\n",
       "      <td>...</td>\n",
       "      <td>...</td>\n",
       "      <td>...</td>\n",
       "    </tr>\n",
       "    <tr>\n",
       "      <th>3553239</th>\n",
       "      <td>0.430429</td>\n",
       "      <td>0.032318</td>\n",
       "      <td>0.025750</td>\n",
       "      <td>0.698011</td>\n",
       "      <td>0.962983</td>\n",
       "      <td>0.190569</td>\n",
       "    </tr>\n",
       "    <tr>\n",
       "      <th>1662635</th>\n",
       "      <td>0.734116</td>\n",
       "      <td>0.073550</td>\n",
       "      <td>0.015998</td>\n",
       "      <td>0.422123</td>\n",
       "      <td>0.592630</td>\n",
       "      <td>0.828975</td>\n",
       "    </tr>\n",
       "    <tr>\n",
       "      <th>2362261</th>\n",
       "      <td>0.895183</td>\n",
       "      <td>0.053976</td>\n",
       "      <td>0.397039</td>\n",
       "      <td>0.754921</td>\n",
       "      <td>0.806639</td>\n",
       "      <td>0.926247</td>\n",
       "    </tr>\n",
       "    <tr>\n",
       "      <th>7669748</th>\n",
       "      <td>0.315812</td>\n",
       "      <td>0.026701</td>\n",
       "      <td>0.665230</td>\n",
       "      <td>0.575307</td>\n",
       "      <td>0.867556</td>\n",
       "      <td>0.684579</td>\n",
       "    </tr>\n",
       "    <tr>\n",
       "      <th>2187994</th>\n",
       "      <td>0.094560</td>\n",
       "      <td>0.637128</td>\n",
       "      <td>0.560034</td>\n",
       "      <td>0.378936</td>\n",
       "      <td>0.232902</td>\n",
       "      <td>0.507238</td>\n",
       "    </tr>\n",
       "  </tbody>\n",
       "</table>\n",
       "<p>1000000 rows × 6 columns</p>\n",
       "</div>"
      ],
      "text/plain": [
       "                a         b         c         d         e         f\n",
       "919213   0.426697  0.715573  0.304253  0.674274  0.914347  0.123704\n",
       "9467153  0.361370  0.501865  0.216375  0.040527  0.465747  0.758964\n",
       "6585777  0.962788  0.358012  0.622822  0.219717  0.670701  0.684356\n",
       "3878022  0.589864  0.047480  0.345316  0.365620  0.096439  0.729696\n",
       "5537116  0.250180  0.405046  0.190722  0.700733  0.882960  0.917538\n",
       "...           ...       ...       ...       ...       ...       ...\n",
       "3553239  0.430429  0.032318  0.025750  0.698011  0.962983  0.190569\n",
       "1662635  0.734116  0.073550  0.015998  0.422123  0.592630  0.828975\n",
       "2362261  0.895183  0.053976  0.397039  0.754921  0.806639  0.926247\n",
       "7669748  0.315812  0.026701  0.665230  0.575307  0.867556  0.684579\n",
       "2187994  0.094560  0.637128  0.560034  0.378936  0.232902  0.507238\n",
       "\n",
       "[1000000 rows x 6 columns]"
      ]
     },
     "execution_count": 103,
     "metadata": {},
     "output_type": "execute_result"
    }
   ],
   "source": [
    "subsample"
   ]
  },
  {
   "cell_type": "code",
   "execution_count": 104,
   "id": "101d1579-1c21-42e0-a687-16902f925319",
   "metadata": {},
   "outputs": [
    {
     "data": {
      "text/html": [
       "<div>\n",
       "<style scoped>\n",
       "    .dataframe tbody tr th:only-of-type {\n",
       "        vertical-align: middle;\n",
       "    }\n",
       "\n",
       "    .dataframe tbody tr th {\n",
       "        vertical-align: top;\n",
       "    }\n",
       "\n",
       "    .dataframe thead th {\n",
       "        text-align: right;\n",
       "    }\n",
       "</style>\n",
       "<table border=\"1\" class=\"dataframe\">\n",
       "  <thead>\n",
       "    <tr style=\"text-align: right;\">\n",
       "      <th></th>\n",
       "      <th>a</th>\n",
       "      <th>b</th>\n",
       "      <th>c</th>\n",
       "      <th>d</th>\n",
       "      <th>e</th>\n",
       "      <th>f</th>\n",
       "    </tr>\n",
       "  </thead>\n",
       "  <tbody>\n",
       "    <tr>\n",
       "      <th>0</th>\n",
       "      <td>0.280035</td>\n",
       "      <td>0.919270</td>\n",
       "      <td>0.471941</td>\n",
       "      <td>0.784350</td>\n",
       "      <td>0.768103</td>\n",
       "      <td>0.769650</td>\n",
       "    </tr>\n",
       "    <tr>\n",
       "      <th>1</th>\n",
       "      <td>0.419265</td>\n",
       "      <td>0.273855</td>\n",
       "      <td>0.408748</td>\n",
       "      <td>0.055677</td>\n",
       "      <td>0.086819</td>\n",
       "      <td>0.816185</td>\n",
       "    </tr>\n",
       "    <tr>\n",
       "      <th>3</th>\n",
       "      <td>0.749663</td>\n",
       "      <td>0.653190</td>\n",
       "      <td>0.692913</td>\n",
       "      <td>0.350700</td>\n",
       "      <td>0.001179</td>\n",
       "      <td>0.140627</td>\n",
       "    </tr>\n",
       "    <tr>\n",
       "      <th>4</th>\n",
       "      <td>0.902509</td>\n",
       "      <td>0.329731</td>\n",
       "      <td>0.817463</td>\n",
       "      <td>0.296734</td>\n",
       "      <td>0.025924</td>\n",
       "      <td>0.979293</td>\n",
       "    </tr>\n",
       "    <tr>\n",
       "      <th>5</th>\n",
       "      <td>0.593457</td>\n",
       "      <td>0.641403</td>\n",
       "      <td>0.611172</td>\n",
       "      <td>0.533223</td>\n",
       "      <td>0.855317</td>\n",
       "      <td>0.519326</td>\n",
       "    </tr>\n",
       "    <tr>\n",
       "      <th>...</th>\n",
       "      <td>...</td>\n",
       "      <td>...</td>\n",
       "      <td>...</td>\n",
       "      <td>...</td>\n",
       "      <td>...</td>\n",
       "      <td>...</td>\n",
       "    </tr>\n",
       "    <tr>\n",
       "      <th>9999995</th>\n",
       "      <td>0.034571</td>\n",
       "      <td>0.952873</td>\n",
       "      <td>0.418045</td>\n",
       "      <td>0.100764</td>\n",
       "      <td>0.057915</td>\n",
       "      <td>0.396627</td>\n",
       "    </tr>\n",
       "    <tr>\n",
       "      <th>9999996</th>\n",
       "      <td>0.537228</td>\n",
       "      <td>0.504454</td>\n",
       "      <td>0.511739</td>\n",
       "      <td>0.768283</td>\n",
       "      <td>0.799571</td>\n",
       "      <td>0.610943</td>\n",
       "    </tr>\n",
       "    <tr>\n",
       "      <th>9999997</th>\n",
       "      <td>0.366430</td>\n",
       "      <td>0.291527</td>\n",
       "      <td>0.064164</td>\n",
       "      <td>0.898121</td>\n",
       "      <td>0.814905</td>\n",
       "      <td>0.350666</td>\n",
       "    </tr>\n",
       "    <tr>\n",
       "      <th>9999998</th>\n",
       "      <td>0.019926</td>\n",
       "      <td>0.646040</td>\n",
       "      <td>0.460425</td>\n",
       "      <td>0.548258</td>\n",
       "      <td>0.539662</td>\n",
       "      <td>0.824599</td>\n",
       "    </tr>\n",
       "    <tr>\n",
       "      <th>9999999</th>\n",
       "      <td>0.557076</td>\n",
       "      <td>0.082333</td>\n",
       "      <td>0.275086</td>\n",
       "      <td>0.265571</td>\n",
       "      <td>0.467446</td>\n",
       "      <td>0.793727</td>\n",
       "    </tr>\n",
       "  </tbody>\n",
       "</table>\n",
       "<p>9000000 rows × 6 columns</p>\n",
       "</div>"
      ],
      "text/plain": [
       "                a         b         c         d         e         f\n",
       "0        0.280035  0.919270  0.471941  0.784350  0.768103  0.769650\n",
       "1        0.419265  0.273855  0.408748  0.055677  0.086819  0.816185\n",
       "3        0.749663  0.653190  0.692913  0.350700  0.001179  0.140627\n",
       "4        0.902509  0.329731  0.817463  0.296734  0.025924  0.979293\n",
       "5        0.593457  0.641403  0.611172  0.533223  0.855317  0.519326\n",
       "...           ...       ...       ...       ...       ...       ...\n",
       "9999995  0.034571  0.952873  0.418045  0.100764  0.057915  0.396627\n",
       "9999996  0.537228  0.504454  0.511739  0.768283  0.799571  0.610943\n",
       "9999997  0.366430  0.291527  0.064164  0.898121  0.814905  0.350666\n",
       "9999998  0.019926  0.646040  0.460425  0.548258  0.539662  0.824599\n",
       "9999999  0.557076  0.082333  0.275086  0.265571  0.467446  0.793727\n",
       "\n",
       "[9000000 rows x 6 columns]"
      ]
     },
     "execution_count": 104,
     "metadata": {},
     "output_type": "execute_result"
    }
   ],
   "source": [
    "remaining"
   ]
  },
  {
   "cell_type": "markdown",
   "id": "adc6fdb5-b20d-46f9-a6f5-1ebf84f29931",
   "metadata": {},
   "source": [
    "### Exercises"
   ]
  },
  {
   "cell_type": "markdown",
   "id": "b8cc1823-14fe-4aab-b7b2-2bdbb5c7d8c9",
   "metadata": {
    "slideshow": {
     "slide_type": "slide"
    }
   },
   "source": [
    "## Exercise 1\n",
    "\n",
    "Use the `pd.read_csv()` function to create a `DataFrame` from the dataset `data/neutrinos.csv`."
   ]
  },
  {
   "cell_type": "code",
   "execution_count": 130,
   "id": "6b1bcc2e-ff86-4254-be53-d76af2f8cb60",
   "metadata": {},
   "outputs": [
    {
     "name": "stderr",
     "output_type": "stream",
     "text": [
      "<ipython-input-130-35eead423a2d>:1: ParserWarning: Falling back to the 'python' engine because the 'c' engine does not support skipfooter; you can avoid this warning by specifying engine='python'.\n",
      "  neutrinos = pd.read_csv(\"data/neutrinos.csv\",\n"
     ]
    }
   ],
   "source": [
    "neutrinos = pd.read_csv(\"data/neutrinos.csv\",\n",
    "                 skiprows=5,\n",
    "                 comment=\"$\",\n",
    "                 sep=\":\",\n",
    "                 index_col=0,\n",
    "                 skipfooter=1,\n",
    "                 decimal=\",\"\n",
    "                )"
   ]
  },
  {
   "cell_type": "code",
   "execution_count": 131,
   "id": "7a86fb99-3bbe-4bc1-be71-9e14f270dab4",
   "metadata": {},
   "outputs": [
    {
     "data": {
      "text/html": [
       "<div>\n",
       "<style scoped>\n",
       "    .dataframe tbody tr th:only-of-type {\n",
       "        vertical-align: middle;\n",
       "    }\n",
       "\n",
       "    .dataframe tbody tr th {\n",
       "        vertical-align: top;\n",
       "    }\n",
       "\n",
       "    .dataframe thead th {\n",
       "        text-align: right;\n",
       "    }\n",
       "</style>\n",
       "<table border=\"1\" class=\"dataframe\">\n",
       "  <thead>\n",
       "    <tr style=\"text-align: right;\">\n",
       "      <th></th>\n",
       "      <th>azimuth</th>\n",
       "      <th>zenith</th>\n",
       "      <th>bjorkeny</th>\n",
       "      <th>energy</th>\n",
       "      <th>pos_x</th>\n",
       "      <th>pos_y</th>\n",
       "      <th>pos_z</th>\n",
       "      <th>proba_track</th>\n",
       "      <th>proba_cscd</th>\n",
       "    </tr>\n",
       "  </thead>\n",
       "  <tbody>\n",
       "    <tr>\n",
       "      <th>0</th>\n",
       "      <td>2.349537</td>\n",
       "      <td>1.116004</td>\n",
       "      <td>0.04899799823760986</td>\n",
       "      <td>3.366400</td>\n",
       "      <td>52.740</td>\n",
       "      <td>28.831</td>\n",
       "      <td>401.186</td>\n",
       "      <td>0.824351</td>\n",
       "      <td>0.175649</td>\n",
       "    </tr>\n",
       "    <tr>\n",
       "      <th>1</th>\n",
       "      <td>5.575786</td>\n",
       "      <td>1.742838</td>\n",
       "      <td>0.28047099709510803</td>\n",
       "      <td>3.890000</td>\n",
       "      <td>48.369</td>\n",
       "      <td>29.865</td>\n",
       "      <td>417.282</td>\n",
       "      <td>0.818363</td>\n",
       "      <td>0.181637</td>\n",
       "    </tr>\n",
       "    <tr>\n",
       "      <th>2</th>\n",
       "      <td>4.656125</td>\n",
       "      <td>2.686909</td>\n",
       "      <td>0.1198429986834526</td>\n",
       "      <td>3.233500</td>\n",
       "      <td>71.722</td>\n",
       "      <td>121.449</td>\n",
       "      <td>363.077</td>\n",
       "      <td>0.828343</td>\n",
       "      <td>0.171657</td>\n",
       "    </tr>\n",
       "    <tr>\n",
       "      <th>3</th>\n",
       "      <td>0.520486</td>\n",
       "      <td>1.939326</td>\n",
       "      <td>0.06131500005722046</td>\n",
       "      <td>4.784000</td>\n",
       "      <td>-47.592</td>\n",
       "      <td>-84.466</td>\n",
       "      <td>350.687</td>\n",
       "      <td>0.842315</td>\n",
       "      <td>0.157685</td>\n",
       "    </tr>\n",
       "    <tr>\n",
       "      <th>4</th>\n",
       "      <td>2.856970</td>\n",
       "      <td>1.678897</td>\n",
       "      <td>0.06146499887108803</td>\n",
       "      <td>3.983300</td>\n",
       "      <td>-25.518</td>\n",
       "      <td>24.362</td>\n",
       "      <td>391.891</td>\n",
       "      <td>0.862275</td>\n",
       "      <td>0.137725</td>\n",
       "    </tr>\n",
       "    <tr>\n",
       "      <th>...</th>\n",
       "      <td>...</td>\n",
       "      <td>...</td>\n",
       "      <td>...</td>\n",
       "      <td>...</td>\n",
       "      <td>...</td>\n",
       "      <td>...</td>\n",
       "      <td>...</td>\n",
       "      <td>...</td>\n",
       "      <td>...</td>\n",
       "    </tr>\n",
       "    <tr>\n",
       "      <th>60973</th>\n",
       "      <td>6.167531</td>\n",
       "      <td>1.320392</td>\n",
       "      <td>0.09328900277614594</td>\n",
       "      <td>6.696500</td>\n",
       "      <td>-25.916</td>\n",
       "      <td>91.493</td>\n",
       "      <td>444.696</td>\n",
       "      <td>0.804391</td>\n",
       "      <td>0.195609</td>\n",
       "    </tr>\n",
       "    <tr>\n",
       "      <th>60974</th>\n",
       "      <td>4.933224</td>\n",
       "      <td>0.729290</td>\n",
       "      <td>0.33532699942588806</td>\n",
       "      <td>22.188999</td>\n",
       "      <td>-68.489</td>\n",
       "      <td>-78.661</td>\n",
       "      <td>389.067</td>\n",
       "      <td>0.886228</td>\n",
       "      <td>0.113772</td>\n",
       "    </tr>\n",
       "    <tr>\n",
       "      <th>60975</th>\n",
       "      <td>1.028631</td>\n",
       "      <td>1.091732</td>\n",
       "      <td>0.3252660036087036</td>\n",
       "      <td>14.085000</td>\n",
       "      <td>-66.319</td>\n",
       "      <td>56.084</td>\n",
       "      <td>378.345</td>\n",
       "      <td>0.824351</td>\n",
       "      <td>0.175649</td>\n",
       "    </tr>\n",
       "    <tr>\n",
       "      <th>60976</th>\n",
       "      <td>5.993753</td>\n",
       "      <td>1.713249</td>\n",
       "      <td>0.08711300045251846</td>\n",
       "      <td>6.198300</td>\n",
       "      <td>-47.727</td>\n",
       "      <td>66.036</td>\n",
       "      <td>372.069</td>\n",
       "      <td>0.976048</td>\n",
       "      <td>0.023952</td>\n",
       "    </tr>\n",
       "    <tr>\n",
       "      <th>60977</th>\n",
       "      <td>2.409518</td>\n",
       "      <td>0.521768</td>\n",
       "      <td>0.18304799497127533</td>\n",
       "      <td>8.183000</td>\n",
       "      <td>62.589</td>\n",
       "      <td>90.369</td>\n",
       "      <td>449.204</td>\n",
       "      <td>0.840319</td>\n",
       "      <td>0.159681</td>\n",
       "    </tr>\n",
       "  </tbody>\n",
       "</table>\n",
       "<p>60978 rows × 9 columns</p>\n",
       "</div>"
      ],
      "text/plain": [
       "        azimuth    zenith             bjorkeny     energy   pos_x    pos_y  \\\n",
       "0      2.349537  1.116004  0.04899799823760986   3.366400  52.740   28.831   \n",
       "1      5.575786  1.742838  0.28047099709510803   3.890000  48.369   29.865   \n",
       "2      4.656125  2.686909   0.1198429986834526   3.233500  71.722  121.449   \n",
       "3      0.520486  1.939326  0.06131500005722046   4.784000 -47.592  -84.466   \n",
       "4      2.856970  1.678897  0.06146499887108803   3.983300 -25.518   24.362   \n",
       "...         ...       ...                  ...        ...     ...      ...   \n",
       "60973  6.167531  1.320392  0.09328900277614594   6.696500 -25.916   91.493   \n",
       "60974  4.933224  0.729290  0.33532699942588806  22.188999 -68.489  -78.661   \n",
       "60975  1.028631  1.091732   0.3252660036087036  14.085000 -66.319   56.084   \n",
       "60976  5.993753  1.713249  0.08711300045251846   6.198300 -47.727   66.036   \n",
       "60977  2.409518  0.521768  0.18304799497127533   8.183000  62.589   90.369   \n",
       "\n",
       "         pos_z  proba_track  proba_cscd  \n",
       "0      401.186     0.824351    0.175649  \n",
       "1      417.282     0.818363    0.181637  \n",
       "2      363.077     0.828343    0.171657  \n",
       "3      350.687     0.842315    0.157685  \n",
       "4      391.891     0.862275    0.137725  \n",
       "...        ...          ...         ...  \n",
       "60973  444.696     0.804391    0.195609  \n",
       "60974  389.067     0.886228    0.113772  \n",
       "60975  378.345     0.824351    0.175649  \n",
       "60976  372.069     0.976048    0.023952  \n",
       "60977  449.204     0.840319    0.159681  \n",
       "\n",
       "[60978 rows x 9 columns]"
      ]
     },
     "execution_count": 131,
     "metadata": {},
     "output_type": "execute_result"
    }
   ],
   "source": [
    "neutrinos"
   ]
  },
  {
   "cell_type": "code",
   "execution_count": 132,
   "id": "55feee0c-4875-4232-8d9e-8d4d709796f1",
   "metadata": {},
   "outputs": [
    {
     "data": {
      "text/plain": [
       "azimuth        float64\n",
       "zenith         float64\n",
       "bjorkeny        object\n",
       "energy         float64\n",
       "pos_x          float64\n",
       "pos_y          float64\n",
       "pos_z          float64\n",
       "proba_track    float64\n",
       "proba_cscd     float64\n",
       "dtype: object"
      ]
     },
     "execution_count": 132,
     "metadata": {},
     "output_type": "execute_result"
    }
   ],
   "source": [
    "neutrinos.dtypes"
   ]
  },
  {
   "cell_type": "code",
   "execution_count": 135,
   "id": "aa136ca6-43ce-468c-836a-382f9cd9314c",
   "metadata": {},
   "outputs": [
    {
     "name": "stdout",
     "output_type": "stream",
     "text": [
      "\u001b[31m\u001b[1mValueError: could not convert string to float: '4,999999873689376e-05'\u001b[0m\n"
     ]
    }
   ],
   "source": [
    "%shorterr neutrinos.bjorkeny.astype(float)"
   ]
  },
  {
   "cell_type": "code",
   "execution_count": 136,
   "id": "72df5a23-e3ec-4164-a4ba-94bf0cd08284",
   "metadata": {},
   "outputs": [
    {
     "data": {
      "text/plain": [
       "2"
      ]
     },
     "execution_count": 136,
     "metadata": {},
     "output_type": "execute_result"
    }
   ],
   "source": [
    "sum(\",\" in b for b in neutrinos.bjorkeny)"
   ]
  },
  {
   "cell_type": "code",
   "execution_count": 137,
   "id": "43f1a66c-d65d-4ef4-af69-eea687513d33",
   "metadata": {},
   "outputs": [],
   "source": [
    "bjorkeny_with_comma_mask = neutrinos.bjorkeny.str.contains(\",\")"
   ]
  },
  {
   "cell_type": "code",
   "execution_count": 138,
   "id": "2b95021c-ef6e-4958-be24-8c8c76739f3a",
   "metadata": {},
   "outputs": [
    {
     "data": {
      "text/plain": [
       "0        False\n",
       "1        False\n",
       "2        False\n",
       "3        False\n",
       "4        False\n",
       "         ...  \n",
       "60973    False\n",
       "60974    False\n",
       "60975    False\n",
       "60976    False\n",
       "60977    False\n",
       "Name: bjorkeny, Length: 60978, dtype: bool"
      ]
     },
     "execution_count": 138,
     "metadata": {},
     "output_type": "execute_result"
    }
   ],
   "source": [
    "bjorkeny_with_comma_mask"
   ]
  },
  {
   "cell_type": "code",
   "execution_count": 139,
   "id": "310ca595-a3db-4756-b0a6-aee6f35cb693",
   "metadata": {},
   "outputs": [
    {
     "data": {
      "text/html": [
       "<div>\n",
       "<style scoped>\n",
       "    .dataframe tbody tr th:only-of-type {\n",
       "        vertical-align: middle;\n",
       "    }\n",
       "\n",
       "    .dataframe tbody tr th {\n",
       "        vertical-align: top;\n",
       "    }\n",
       "\n",
       "    .dataframe thead th {\n",
       "        text-align: right;\n",
       "    }\n",
       "</style>\n",
       "<table border=\"1\" class=\"dataframe\">\n",
       "  <thead>\n",
       "    <tr style=\"text-align: right;\">\n",
       "      <th></th>\n",
       "      <th>azimuth</th>\n",
       "      <th>zenith</th>\n",
       "      <th>bjorkeny</th>\n",
       "      <th>energy</th>\n",
       "      <th>pos_x</th>\n",
       "      <th>pos_y</th>\n",
       "      <th>pos_z</th>\n",
       "      <th>proba_track</th>\n",
       "      <th>proba_cscd</th>\n",
       "    </tr>\n",
       "  </thead>\n",
       "  <tbody>\n",
       "    <tr>\n",
       "      <th>25958</th>\n",
       "      <td>2.309464</td>\n",
       "      <td>1.575072</td>\n",
       "      <td>4,999999873689376e-05</td>\n",
       "      <td>30.391001</td>\n",
       "      <td>44.431</td>\n",
       "      <td>-10.498</td>\n",
       "      <td>436.929</td>\n",
       "      <td>1.0</td>\n",
       "      <td>0.0</td>\n",
       "    </tr>\n",
       "    <tr>\n",
       "      <th>29803</th>\n",
       "      <td>4.011943</td>\n",
       "      <td>2.467239</td>\n",
       "      <td>9,899999713525176e-05</td>\n",
       "      <td>31.641001</td>\n",
       "      <td>56.129</td>\n",
       "      <td>-87.262</td>\n",
       "      <td>396.509</td>\n",
       "      <td>1.0</td>\n",
       "      <td>0.0</td>\n",
       "    </tr>\n",
       "  </tbody>\n",
       "</table>\n",
       "</div>"
      ],
      "text/plain": [
       "        azimuth    zenith               bjorkeny     energy   pos_x   pos_y  \\\n",
       "25958  2.309464  1.575072  4,999999873689376e-05  30.391001  44.431 -10.498   \n",
       "29803  4.011943  2.467239  9,899999713525176e-05  31.641001  56.129 -87.262   \n",
       "\n",
       "         pos_z  proba_track  proba_cscd  \n",
       "25958  436.929          1.0         0.0  \n",
       "29803  396.509          1.0         0.0  "
      ]
     },
     "execution_count": 139,
     "metadata": {},
     "output_type": "execute_result"
    }
   ],
   "source": [
    "neutrinos[bjorkeny_with_comma_mask]"
   ]
  },
  {
   "cell_type": "code",
   "execution_count": 143,
   "id": "786374b4-a8be-4a28-97b6-ad30ae4a1979",
   "metadata": {},
   "outputs": [],
   "source": [
    "neutrinos.bjorkeny = neutrinos.bjorkeny.str.replace(\",\", \".\").astype(float)"
   ]
  },
  {
   "cell_type": "code",
   "execution_count": 144,
   "id": "9e19d301-d7d1-4bbc-8549-cc5a69acd2a8",
   "metadata": {},
   "outputs": [
    {
     "data": {
      "text/html": [
       "<div>\n",
       "<style scoped>\n",
       "    .dataframe tbody tr th:only-of-type {\n",
       "        vertical-align: middle;\n",
       "    }\n",
       "\n",
       "    .dataframe tbody tr th {\n",
       "        vertical-align: top;\n",
       "    }\n",
       "\n",
       "    .dataframe thead th {\n",
       "        text-align: right;\n",
       "    }\n",
       "</style>\n",
       "<table border=\"1\" class=\"dataframe\">\n",
       "  <thead>\n",
       "    <tr style=\"text-align: right;\">\n",
       "      <th></th>\n",
       "      <th>azimuth</th>\n",
       "      <th>zenith</th>\n",
       "      <th>bjorkeny</th>\n",
       "      <th>energy</th>\n",
       "      <th>pos_x</th>\n",
       "      <th>pos_y</th>\n",
       "      <th>pos_z</th>\n",
       "      <th>proba_track</th>\n",
       "      <th>proba_cscd</th>\n",
       "    </tr>\n",
       "  </thead>\n",
       "  <tbody>\n",
       "    <tr>\n",
       "      <th>0</th>\n",
       "      <td>2.349537</td>\n",
       "      <td>1.116004</td>\n",
       "      <td>0.048998</td>\n",
       "      <td>3.366400</td>\n",
       "      <td>52.740</td>\n",
       "      <td>28.831</td>\n",
       "      <td>401.186</td>\n",
       "      <td>0.824351</td>\n",
       "      <td>0.175649</td>\n",
       "    </tr>\n",
       "    <tr>\n",
       "      <th>1</th>\n",
       "      <td>5.575786</td>\n",
       "      <td>1.742838</td>\n",
       "      <td>0.280471</td>\n",
       "      <td>3.890000</td>\n",
       "      <td>48.369</td>\n",
       "      <td>29.865</td>\n",
       "      <td>417.282</td>\n",
       "      <td>0.818363</td>\n",
       "      <td>0.181637</td>\n",
       "    </tr>\n",
       "    <tr>\n",
       "      <th>2</th>\n",
       "      <td>4.656125</td>\n",
       "      <td>2.686909</td>\n",
       "      <td>0.119843</td>\n",
       "      <td>3.233500</td>\n",
       "      <td>71.722</td>\n",
       "      <td>121.449</td>\n",
       "      <td>363.077</td>\n",
       "      <td>0.828343</td>\n",
       "      <td>0.171657</td>\n",
       "    </tr>\n",
       "    <tr>\n",
       "      <th>3</th>\n",
       "      <td>0.520486</td>\n",
       "      <td>1.939326</td>\n",
       "      <td>0.061315</td>\n",
       "      <td>4.784000</td>\n",
       "      <td>-47.592</td>\n",
       "      <td>-84.466</td>\n",
       "      <td>350.687</td>\n",
       "      <td>0.842315</td>\n",
       "      <td>0.157685</td>\n",
       "    </tr>\n",
       "    <tr>\n",
       "      <th>4</th>\n",
       "      <td>2.856970</td>\n",
       "      <td>1.678897</td>\n",
       "      <td>0.061465</td>\n",
       "      <td>3.983300</td>\n",
       "      <td>-25.518</td>\n",
       "      <td>24.362</td>\n",
       "      <td>391.891</td>\n",
       "      <td>0.862275</td>\n",
       "      <td>0.137725</td>\n",
       "    </tr>\n",
       "    <tr>\n",
       "      <th>...</th>\n",
       "      <td>...</td>\n",
       "      <td>...</td>\n",
       "      <td>...</td>\n",
       "      <td>...</td>\n",
       "      <td>...</td>\n",
       "      <td>...</td>\n",
       "      <td>...</td>\n",
       "      <td>...</td>\n",
       "      <td>...</td>\n",
       "    </tr>\n",
       "    <tr>\n",
       "      <th>60973</th>\n",
       "      <td>6.167531</td>\n",
       "      <td>1.320392</td>\n",
       "      <td>0.093289</td>\n",
       "      <td>6.696500</td>\n",
       "      <td>-25.916</td>\n",
       "      <td>91.493</td>\n",
       "      <td>444.696</td>\n",
       "      <td>0.804391</td>\n",
       "      <td>0.195609</td>\n",
       "    </tr>\n",
       "    <tr>\n",
       "      <th>60974</th>\n",
       "      <td>4.933224</td>\n",
       "      <td>0.729290</td>\n",
       "      <td>0.335327</td>\n",
       "      <td>22.188999</td>\n",
       "      <td>-68.489</td>\n",
       "      <td>-78.661</td>\n",
       "      <td>389.067</td>\n",
       "      <td>0.886228</td>\n",
       "      <td>0.113772</td>\n",
       "    </tr>\n",
       "    <tr>\n",
       "      <th>60975</th>\n",
       "      <td>1.028631</td>\n",
       "      <td>1.091732</td>\n",
       "      <td>0.325266</td>\n",
       "      <td>14.085000</td>\n",
       "      <td>-66.319</td>\n",
       "      <td>56.084</td>\n",
       "      <td>378.345</td>\n",
       "      <td>0.824351</td>\n",
       "      <td>0.175649</td>\n",
       "    </tr>\n",
       "    <tr>\n",
       "      <th>60976</th>\n",
       "      <td>5.993753</td>\n",
       "      <td>1.713249</td>\n",
       "      <td>0.087113</td>\n",
       "      <td>6.198300</td>\n",
       "      <td>-47.727</td>\n",
       "      <td>66.036</td>\n",
       "      <td>372.069</td>\n",
       "      <td>0.976048</td>\n",
       "      <td>0.023952</td>\n",
       "    </tr>\n",
       "    <tr>\n",
       "      <th>60977</th>\n",
       "      <td>2.409518</td>\n",
       "      <td>0.521768</td>\n",
       "      <td>0.183048</td>\n",
       "      <td>8.183000</td>\n",
       "      <td>62.589</td>\n",
       "      <td>90.369</td>\n",
       "      <td>449.204</td>\n",
       "      <td>0.840319</td>\n",
       "      <td>0.159681</td>\n",
       "    </tr>\n",
       "  </tbody>\n",
       "</table>\n",
       "<p>60978 rows × 9 columns</p>\n",
       "</div>"
      ],
      "text/plain": [
       "        azimuth    zenith  bjorkeny     energy   pos_x    pos_y    pos_z  \\\n",
       "0      2.349537  1.116004  0.048998   3.366400  52.740   28.831  401.186   \n",
       "1      5.575786  1.742838  0.280471   3.890000  48.369   29.865  417.282   \n",
       "2      4.656125  2.686909  0.119843   3.233500  71.722  121.449  363.077   \n",
       "3      0.520486  1.939326  0.061315   4.784000 -47.592  -84.466  350.687   \n",
       "4      2.856970  1.678897  0.061465   3.983300 -25.518   24.362  391.891   \n",
       "...         ...       ...       ...        ...     ...      ...      ...   \n",
       "60973  6.167531  1.320392  0.093289   6.696500 -25.916   91.493  444.696   \n",
       "60974  4.933224  0.729290  0.335327  22.188999 -68.489  -78.661  389.067   \n",
       "60975  1.028631  1.091732  0.325266  14.085000 -66.319   56.084  378.345   \n",
       "60976  5.993753  1.713249  0.087113   6.198300 -47.727   66.036  372.069   \n",
       "60977  2.409518  0.521768  0.183048   8.183000  62.589   90.369  449.204   \n",
       "\n",
       "       proba_track  proba_cscd  \n",
       "0         0.824351    0.175649  \n",
       "1         0.818363    0.181637  \n",
       "2         0.828343    0.171657  \n",
       "3         0.842315    0.157685  \n",
       "4         0.862275    0.137725  \n",
       "...            ...         ...  \n",
       "60973     0.804391    0.195609  \n",
       "60974     0.886228    0.113772  \n",
       "60975     0.824351    0.175649  \n",
       "60976     0.976048    0.023952  \n",
       "60977     0.840319    0.159681  \n",
       "\n",
       "[60978 rows x 9 columns]"
      ]
     },
     "execution_count": 144,
     "metadata": {},
     "output_type": "execute_result"
    }
   ],
   "source": [
    "neutrinos"
   ]
  },
  {
   "cell_type": "code",
   "execution_count": 145,
   "id": "6d7f9954-9f5b-4e30-9423-388e37141811",
   "metadata": {},
   "outputs": [
    {
     "data": {
      "text/plain": [
       "azimuth        float64\n",
       "zenith         float64\n",
       "bjorkeny       float64\n",
       "energy         float64\n",
       "pos_x          float64\n",
       "pos_y          float64\n",
       "pos_z          float64\n",
       "proba_track    float64\n",
       "proba_cscd     float64\n",
       "dtype: object"
      ]
     },
     "execution_count": 145,
     "metadata": {},
     "output_type": "execute_result"
    }
   ],
   "source": [
    "neutrinos.dtypes"
   ]
  },
  {
   "cell_type": "markdown",
   "id": "8e04b94c-7340-4e7a-98ae-1eefe61e943f",
   "metadata": {
    "slideshow": {
     "slide_type": "slide"
    }
   },
   "source": [
    "## Exercise 2\n",
    "\n",
    "Create a histogram of the neutrino energies."
   ]
  },
  {
   "cell_type": "code",
   "execution_count": 148,
   "id": "a1e23d3f-aa34-4dcd-91dc-731ea0fbac63",
   "metadata": {},
   "outputs": [
    {
     "data": {
      "image/png": "[encoded data removed]",
      "text/plain": [
       "<Figure size 720x360 with 1 Axes>"
      ]
     },
     "metadata": {
      "needs_background": "light"
     },
     "output_type": "display_data"
    }
   ],
   "source": [
    "neutrinos.energy.hist(bins=100);"
   ]
  },
  {
   "cell_type": "markdown",
   "id": "c45cf210-0ace-46fc-b91d-850e9f35bab5",
   "metadata": {
    "slideshow": {
     "slide_type": "slide"
    }
   },
   "source": [
    "## Exercise 3\n",
    "\n",
    "Use the `pd.read_csv()` function to create a `DataFrame` from the dataset `data/reco.csv`."
   ]
  },
  {
   "cell_type": "code",
   "execution_count": 149,
   "id": "e8b499a2-2f66-498d-adac-4bd5b41c050f",
   "metadata": {},
   "outputs": [],
   "source": [
    "reco = pd.read_csv(\"data/reco.csv\", index_col=0)"
   ]
  },
  {
   "cell_type": "code",
   "execution_count": 150,
   "id": "d05312ce-9148-4067-baa8-6279ece5eff6",
   "metadata": {},
   "outputs": [
    {
     "data": {
      "text/html": [
       "<div>\n",
       "<style scoped>\n",
       "    .dataframe tbody tr th:only-of-type {\n",
       "        vertical-align: middle;\n",
       "    }\n",
       "\n",
       "    .dataframe tbody tr th {\n",
       "        vertical-align: top;\n",
       "    }\n",
       "\n",
       "    .dataframe thead th {\n",
       "        text-align: right;\n",
       "    }\n",
       "</style>\n",
       "<table border=\"1\" class=\"dataframe\">\n",
       "  <thead>\n",
       "    <tr style=\"text-align: right;\">\n",
       "      <th></th>\n",
       "      <th>zenith</th>\n",
       "      <th>azimuth</th>\n",
       "      <th>energy_muon</th>\n",
       "      <th>energy_neutrino</th>\n",
       "      <th>bjorken_y</th>\n",
       "      <th>quality</th>\n",
       "      <th>pos_x</th>\n",
       "      <th>pos_y</th>\n",
       "      <th>pos_z</th>\n",
       "    </tr>\n",
       "  </thead>\n",
       "  <tbody>\n",
       "    <tr>\n",
       "      <th>0</th>\n",
       "      <td>1.138133</td>\n",
       "      <td>2.180345</td>\n",
       "      <td>0.291326</td>\n",
       "      <td>1.968828</td>\n",
       "      <td>0.125</td>\n",
       "      <td>-4.354237</td>\n",
       "      <td>48.916672</td>\n",
       "      <td>32.404689</td>\n",
       "      <td>-6.251441</td>\n",
       "    </tr>\n",
       "    <tr>\n",
       "      <th>1</th>\n",
       "      <td>1.501718</td>\n",
       "      <td>4.300291</td>\n",
       "      <td>2.247325</td>\n",
       "      <td>3.973614</td>\n",
       "      <td>0.125</td>\n",
       "      <td>-4.853344</td>\n",
       "      <td>59.164913</td>\n",
       "      <td>26.016755</td>\n",
       "      <td>12.737107</td>\n",
       "    </tr>\n",
       "    <tr>\n",
       "      <th>2</th>\n",
       "      <td>2.160066</td>\n",
       "      <td>4.228711</td>\n",
       "      <td>1.748958</td>\n",
       "      <td>3.390933</td>\n",
       "      <td>0.125</td>\n",
       "      <td>-3.836176</td>\n",
       "      <td>69.988323</td>\n",
       "      <td>116.081679</td>\n",
       "      <td>-35.060437</td>\n",
       "    </tr>\n",
       "    <tr>\n",
       "      <th>3</th>\n",
       "      <td>2.016892</td>\n",
       "      <td>0.621110</td>\n",
       "      <td>6.099985</td>\n",
       "      <td>6.643886</td>\n",
       "      <td>0.625</td>\n",
       "      <td>-4.556744</td>\n",
       "      <td>-48.878254</td>\n",
       "      <td>-86.933884</td>\n",
       "      <td>-57.699791</td>\n",
       "    </tr>\n",
       "    <tr>\n",
       "      <th>4</th>\n",
       "      <td>1.944401</td>\n",
       "      <td>3.030613</td>\n",
       "      <td>4.212069</td>\n",
       "      <td>5.967662</td>\n",
       "      <td>0.125</td>\n",
       "      <td>-4.927643</td>\n",
       "      <td>-32.267179</td>\n",
       "      <td>26.163239</td>\n",
       "      <td>-12.441818</td>\n",
       "    </tr>\n",
       "    <tr>\n",
       "      <th>...</th>\n",
       "      <td>...</td>\n",
       "      <td>...</td>\n",
       "      <td>...</td>\n",
       "      <td>...</td>\n",
       "      <td>...</td>\n",
       "      <td>...</td>\n",
       "      <td>...</td>\n",
       "      <td>...</td>\n",
       "      <td>...</td>\n",
       "    </tr>\n",
       "    <tr>\n",
       "      <th>60973</th>\n",
       "      <td>1.299424</td>\n",
       "      <td>6.236993</td>\n",
       "      <td>4.599036</td>\n",
       "      <td>6.387176</td>\n",
       "      <td>0.125</td>\n",
       "      <td>-3.945290</td>\n",
       "      <td>-18.263625</td>\n",
       "      <td>91.363175</td>\n",
       "      <td>36.575867</td>\n",
       "    </tr>\n",
       "    <tr>\n",
       "      <th>60974</th>\n",
       "      <td>0.742736</td>\n",
       "      <td>4.839671</td>\n",
       "      <td>10.505955</td>\n",
       "      <td>12.610675</td>\n",
       "      <td>0.375</td>\n",
       "      <td>-3.999766</td>\n",
       "      <td>-68.484308</td>\n",
       "      <td>-79.099002</td>\n",
       "      <td>-16.943958</td>\n",
       "    </tr>\n",
       "    <tr>\n",
       "      <th>60975</th>\n",
       "      <td>1.235372</td>\n",
       "      <td>0.915573</td>\n",
       "      <td>7.150356</td>\n",
       "      <td>9.964440</td>\n",
       "      <td>0.375</td>\n",
       "      <td>-4.068371</td>\n",
       "      <td>-65.527163</td>\n",
       "      <td>58.488387</td>\n",
       "      <td>-27.839264</td>\n",
       "    </tr>\n",
       "    <tr>\n",
       "      <th>60976</th>\n",
       "      <td>1.776043</td>\n",
       "      <td>5.992593</td>\n",
       "      <td>8.750033</td>\n",
       "      <td>10.912368</td>\n",
       "      <td>0.375</td>\n",
       "      <td>-4.387784</td>\n",
       "      <td>-45.701547</td>\n",
       "      <td>65.905001</td>\n",
       "      <td>-33.615596</td>\n",
       "    </tr>\n",
       "    <tr>\n",
       "      <th>60977</th>\n",
       "      <td>0.678877</td>\n",
       "      <td>2.151571</td>\n",
       "      <td>4.294830</td>\n",
       "      <td>5.952899</td>\n",
       "      <td>0.125</td>\n",
       "      <td>-4.493395</td>\n",
       "      <td>60.221892</td>\n",
       "      <td>92.280772</td>\n",
       "      <td>37.397762</td>\n",
       "    </tr>\n",
       "  </tbody>\n",
       "</table>\n",
       "<p>60978 rows × 9 columns</p>\n",
       "</div>"
      ],
      "text/plain": [
       "         zenith   azimuth  energy_muon  energy_neutrino  bjorken_y   quality  \\\n",
       "0      1.138133  2.180345     0.291326         1.968828      0.125 -4.354237   \n",
       "1      1.501718  4.300291     2.247325         3.973614      0.125 -4.853344   \n",
       "2      2.160066  4.228711     1.748958         3.390933      0.125 -3.836176   \n",
       "3      2.016892  0.621110     6.099985         6.643886      0.625 -4.556744   \n",
       "4      1.944401  3.030613     4.212069         5.967662      0.125 -4.927643   \n",
       "...         ...       ...          ...              ...        ...       ...   \n",
       "60973  1.299424  6.236993     4.599036         6.387176      0.125 -3.945290   \n",
       "60974  0.742736  4.839671    10.505955        12.610675      0.375 -3.999766   \n",
       "60975  1.235372  0.915573     7.150356         9.964440      0.375 -4.068371   \n",
       "60976  1.776043  5.992593     8.750033        10.912368      0.375 -4.387784   \n",
       "60977  0.678877  2.151571     4.294830         5.952899      0.125 -4.493395   \n",
       "\n",
       "           pos_x       pos_y      pos_z  \n",
       "0      48.916672   32.404689  -6.251441  \n",
       "1      59.164913   26.016755  12.737107  \n",
       "2      69.988323  116.081679 -35.060437  \n",
       "3     -48.878254  -86.933884 -57.699791  \n",
       "4     -32.267179   26.163239 -12.441818  \n",
       "...          ...         ...        ...  \n",
       "60973 -18.263625   91.363175  36.575867  \n",
       "60974 -68.484308  -79.099002 -16.943958  \n",
       "60975 -65.527163   58.488387 -27.839264  \n",
       "60976 -45.701547   65.905001 -33.615596  \n",
       "60977  60.221892   92.280772  37.397762  \n",
       "\n",
       "[60978 rows x 9 columns]"
      ]
     },
     "execution_count": 150,
     "metadata": {},
     "output_type": "execute_result"
    }
   ],
   "source": [
    "reco"
   ]
  },
  {
   "cell_type": "code",
   "execution_count": 151,
   "id": "b353b536-b5cb-471b-9ccd-c16ab9401aad",
   "metadata": {},
   "outputs": [
    {
     "data": {
      "text/plain": [
       "zenith             float64\n",
       "azimuth            float64\n",
       "energy_muon        float64\n",
       "energy_neutrino    float64\n",
       "bjorken_y          float64\n",
       "quality            float64\n",
       "pos_x              float64\n",
       "pos_y              float64\n",
       "pos_z              float64\n",
       "dtype: object"
      ]
     },
     "execution_count": 151,
     "metadata": {},
     "output_type": "execute_result"
    }
   ],
   "source": [
    "reco.dtypes"
   ]
  },
  {
   "cell_type": "markdown",
   "id": "03a1f8d6-7489-415d-bda4-9b9cb9b67dec",
   "metadata": {
    "slideshow": {
     "slide_type": "slide"
    }
   },
   "source": [
    "## Exercise 4\n",
    "\n",
    "Combine the `neutrinos` and `reco` `DataFrames`  into a single `DataFrame`\n",
    "\n",
    "pd.concat()"
   ]
  },
  {
   "cell_type": "code",
   "execution_count": 152,
   "id": "65b13a66-ef81-4e58-9df2-f7b9072643b4",
   "metadata": {},
   "outputs": [
    {
     "data": {
      "text/html": [
       "<div>\n",
       "<style scoped>\n",
       "    .dataframe tbody tr th:only-of-type {\n",
       "        vertical-align: middle;\n",
       "    }\n",
       "\n",
       "    .dataframe tbody tr th {\n",
       "        vertical-align: top;\n",
       "    }\n",
       "\n",
       "    .dataframe thead th {\n",
       "        text-align: right;\n",
       "    }\n",
       "</style>\n",
       "<table border=\"1\" class=\"dataframe\">\n",
       "  <thead>\n",
       "    <tr style=\"text-align: right;\">\n",
       "      <th></th>\n",
       "      <th>zenith</th>\n",
       "      <th>azimuth</th>\n",
       "      <th>energy_muon</th>\n",
       "      <th>energy_neutrino</th>\n",
       "      <th>bjorken_y</th>\n",
       "      <th>quality</th>\n",
       "      <th>pos_x</th>\n",
       "      <th>pos_y</th>\n",
       "      <th>pos_z</th>\n",
       "    </tr>\n",
       "  </thead>\n",
       "  <tbody>\n",
       "    <tr>\n",
       "      <th>0</th>\n",
       "      <td>1.138133</td>\n",
       "      <td>2.180345</td>\n",
       "      <td>0.291326</td>\n",
       "      <td>1.968828</td>\n",
       "      <td>0.125</td>\n",
       "      <td>-4.354237</td>\n",
       "      <td>48.916672</td>\n",
       "      <td>32.404689</td>\n",
       "      <td>-6.251441</td>\n",
       "    </tr>\n",
       "    <tr>\n",
       "      <th>1</th>\n",
       "      <td>1.501718</td>\n",
       "      <td>4.300291</td>\n",
       "      <td>2.247325</td>\n",
       "      <td>3.973614</td>\n",
       "      <td>0.125</td>\n",
       "      <td>-4.853344</td>\n",
       "      <td>59.164913</td>\n",
       "      <td>26.016755</td>\n",
       "      <td>12.737107</td>\n",
       "    </tr>\n",
       "    <tr>\n",
       "      <th>2</th>\n",
       "      <td>2.160066</td>\n",
       "      <td>4.228711</td>\n",
       "      <td>1.748958</td>\n",
       "      <td>3.390933</td>\n",
       "      <td>0.125</td>\n",
       "      <td>-3.836176</td>\n",
       "      <td>69.988323</td>\n",
       "      <td>116.081679</td>\n",
       "      <td>-35.060437</td>\n",
       "    </tr>\n",
       "    <tr>\n",
       "      <th>3</th>\n",
       "      <td>2.016892</td>\n",
       "      <td>0.621110</td>\n",
       "      <td>6.099985</td>\n",
       "      <td>6.643886</td>\n",
       "      <td>0.625</td>\n",
       "      <td>-4.556744</td>\n",
       "      <td>-48.878254</td>\n",
       "      <td>-86.933884</td>\n",
       "      <td>-57.699791</td>\n",
       "    </tr>\n",
       "    <tr>\n",
       "      <th>4</th>\n",
       "      <td>1.944401</td>\n",
       "      <td>3.030613</td>\n",
       "      <td>4.212069</td>\n",
       "      <td>5.967662</td>\n",
       "      <td>0.125</td>\n",
       "      <td>-4.927643</td>\n",
       "      <td>-32.267179</td>\n",
       "      <td>26.163239</td>\n",
       "      <td>-12.441818</td>\n",
       "    </tr>\n",
       "    <tr>\n",
       "      <th>...</th>\n",
       "      <td>...</td>\n",
       "      <td>...</td>\n",
       "      <td>...</td>\n",
       "      <td>...</td>\n",
       "      <td>...</td>\n",
       "      <td>...</td>\n",
       "      <td>...</td>\n",
       "      <td>...</td>\n",
       "      <td>...</td>\n",
       "    </tr>\n",
       "    <tr>\n",
       "      <th>60973</th>\n",
       "      <td>1.299424</td>\n",
       "      <td>6.236993</td>\n",
       "      <td>4.599036</td>\n",
       "      <td>6.387176</td>\n",
       "      <td>0.125</td>\n",
       "      <td>-3.945290</td>\n",
       "      <td>-18.263625</td>\n",
       "      <td>91.363175</td>\n",
       "      <td>36.575867</td>\n",
       "    </tr>\n",
       "    <tr>\n",
       "      <th>60974</th>\n",
       "      <td>0.742736</td>\n",
       "      <td>4.839671</td>\n",
       "      <td>10.505955</td>\n",
       "      <td>12.610675</td>\n",
       "      <td>0.375</td>\n",
       "      <td>-3.999766</td>\n",
       "      <td>-68.484308</td>\n",
       "      <td>-79.099002</td>\n",
       "      <td>-16.943958</td>\n",
       "    </tr>\n",
       "    <tr>\n",
       "      <th>60975</th>\n",
       "      <td>1.235372</td>\n",
       "      <td>0.915573</td>\n",
       "      <td>7.150356</td>\n",
       "      <td>9.964440</td>\n",
       "      <td>0.375</td>\n",
       "      <td>-4.068371</td>\n",
       "      <td>-65.527163</td>\n",
       "      <td>58.488387</td>\n",
       "      <td>-27.839264</td>\n",
       "    </tr>\n",
       "    <tr>\n",
       "      <th>60976</th>\n",
       "      <td>1.776043</td>\n",
       "      <td>5.992593</td>\n",
       "      <td>8.750033</td>\n",
       "      <td>10.912368</td>\n",
       "      <td>0.375</td>\n",
       "      <td>-4.387784</td>\n",
       "      <td>-45.701547</td>\n",
       "      <td>65.905001</td>\n",
       "      <td>-33.615596</td>\n",
       "    </tr>\n",
       "    <tr>\n",
       "      <th>60977</th>\n",
       "      <td>0.678877</td>\n",
       "      <td>2.151571</td>\n",
       "      <td>4.294830</td>\n",
       "      <td>5.952899</td>\n",
       "      <td>0.125</td>\n",
       "      <td>-4.493395</td>\n",
       "      <td>60.221892</td>\n",
       "      <td>92.280772</td>\n",
       "      <td>37.397762</td>\n",
       "    </tr>\n",
       "  </tbody>\n",
       "</table>\n",
       "<p>60978 rows × 9 columns</p>\n",
       "</div>"
      ],
      "text/plain": [
       "         zenith   azimuth  energy_muon  energy_neutrino  bjorken_y   quality  \\\n",
       "0      1.138133  2.180345     0.291326         1.968828      0.125 -4.354237   \n",
       "1      1.501718  4.300291     2.247325         3.973614      0.125 -4.853344   \n",
       "2      2.160066  4.228711     1.748958         3.390933      0.125 -3.836176   \n",
       "3      2.016892  0.621110     6.099985         6.643886      0.625 -4.556744   \n",
       "4      1.944401  3.030613     4.212069         5.967662      0.125 -4.927643   \n",
       "...         ...       ...          ...              ...        ...       ...   \n",
       "60973  1.299424  6.236993     4.599036         6.387176      0.125 -3.945290   \n",
       "60974  0.742736  4.839671    10.505955        12.610675      0.375 -3.999766   \n",
       "60975  1.235372  0.915573     7.150356         9.964440      0.375 -4.068371   \n",
       "60976  1.776043  5.992593     8.750033        10.912368      0.375 -4.387784   \n",
       "60977  0.678877  2.151571     4.294830         5.952899      0.125 -4.493395   \n",
       "\n",
       "           pos_x       pos_y      pos_z  \n",
       "0      48.916672   32.404689  -6.251441  \n",
       "1      59.164913   26.016755  12.737107  \n",
       "2      69.988323  116.081679 -35.060437  \n",
       "3     -48.878254  -86.933884 -57.699791  \n",
       "4     -32.267179   26.163239 -12.441818  \n",
       "...          ...         ...        ...  \n",
       "60973 -18.263625   91.363175  36.575867  \n",
       "60974 -68.484308  -79.099002 -16.943958  \n",
       "60975 -65.527163   58.488387 -27.839264  \n",
       "60976 -45.701547   65.905001 -33.615596  \n",
       "60977  60.221892   92.280772  37.397762  \n",
       "\n",
       "[60978 rows x 9 columns]"
      ]
     },
     "execution_count": 152,
     "metadata": {},
     "output_type": "execute_result"
    }
   ],
   "source": [
    "reco"
   ]
  },
  {
   "cell_type": "code",
   "execution_count": 153,
   "id": "611242aa-cc40-45ce-93b5-9abffa393f80",
   "metadata": {},
   "outputs": [
    {
     "data": {
      "text/html": [
       "<div>\n",
       "<style scoped>\n",
       "    .dataframe tbody tr th:only-of-type {\n",
       "        vertical-align: middle;\n",
       "    }\n",
       "\n",
       "    .dataframe tbody tr th {\n",
       "        vertical-align: top;\n",
       "    }\n",
       "\n",
       "    .dataframe thead th {\n",
       "        text-align: right;\n",
       "    }\n",
       "</style>\n",
       "<table border=\"1\" class=\"dataframe\">\n",
       "  <thead>\n",
       "    <tr style=\"text-align: right;\">\n",
       "      <th></th>\n",
       "      <th>azimuth</th>\n",
       "      <th>zenith</th>\n",
       "      <th>bjorkeny</th>\n",
       "      <th>energy</th>\n",
       "      <th>pos_x</th>\n",
       "      <th>pos_y</th>\n",
       "      <th>pos_z</th>\n",
       "      <th>proba_track</th>\n",
       "      <th>proba_cscd</th>\n",
       "    </tr>\n",
       "  </thead>\n",
       "  <tbody>\n",
       "    <tr>\n",
       "      <th>0</th>\n",
       "      <td>2.349537</td>\n",
       "      <td>1.116004</td>\n",
       "      <td>0.048998</td>\n",
       "      <td>3.366400</td>\n",
       "      <td>52.740</td>\n",
       "      <td>28.831</td>\n",
       "      <td>401.186</td>\n",
       "      <td>0.824351</td>\n",
       "      <td>0.175649</td>\n",
       "    </tr>\n",
       "    <tr>\n",
       "      <th>1</th>\n",
       "      <td>5.575786</td>\n",
       "      <td>1.742838</td>\n",
       "      <td>0.280471</td>\n",
       "      <td>3.890000</td>\n",
       "      <td>48.369</td>\n",
       "      <td>29.865</td>\n",
       "      <td>417.282</td>\n",
       "      <td>0.818363</td>\n",
       "      <td>0.181637</td>\n",
       "    </tr>\n",
       "    <tr>\n",
       "      <th>2</th>\n",
       "      <td>4.656125</td>\n",
       "      <td>2.686909</td>\n",
       "      <td>0.119843</td>\n",
       "      <td>3.233500</td>\n",
       "      <td>71.722</td>\n",
       "      <td>121.449</td>\n",
       "      <td>363.077</td>\n",
       "      <td>0.828343</td>\n",
       "      <td>0.171657</td>\n",
       "    </tr>\n",
       "    <tr>\n",
       "      <th>3</th>\n",
       "      <td>0.520486</td>\n",
       "      <td>1.939326</td>\n",
       "      <td>0.061315</td>\n",
       "      <td>4.784000</td>\n",
       "      <td>-47.592</td>\n",
       "      <td>-84.466</td>\n",
       "      <td>350.687</td>\n",
       "      <td>0.842315</td>\n",
       "      <td>0.157685</td>\n",
       "    </tr>\n",
       "    <tr>\n",
       "      <th>4</th>\n",
       "      <td>2.856970</td>\n",
       "      <td>1.678897</td>\n",
       "      <td>0.061465</td>\n",
       "      <td>3.983300</td>\n",
       "      <td>-25.518</td>\n",
       "      <td>24.362</td>\n",
       "      <td>391.891</td>\n",
       "      <td>0.862275</td>\n",
       "      <td>0.137725</td>\n",
       "    </tr>\n",
       "    <tr>\n",
       "      <th>...</th>\n",
       "      <td>...</td>\n",
       "      <td>...</td>\n",
       "      <td>...</td>\n",
       "      <td>...</td>\n",
       "      <td>...</td>\n",
       "      <td>...</td>\n",
       "      <td>...</td>\n",
       "      <td>...</td>\n",
       "      <td>...</td>\n",
       "    </tr>\n",
       "    <tr>\n",
       "      <th>60973</th>\n",
       "      <td>6.167531</td>\n",
       "      <td>1.320392</td>\n",
       "      <td>0.093289</td>\n",
       "      <td>6.696500</td>\n",
       "      <td>-25.916</td>\n",
       "      <td>91.493</td>\n",
       "      <td>444.696</td>\n",
       "      <td>0.804391</td>\n",
       "      <td>0.195609</td>\n",
       "    </tr>\n",
       "    <tr>\n",
       "      <th>60974</th>\n",
       "      <td>4.933224</td>\n",
       "      <td>0.729290</td>\n",
       "      <td>0.335327</td>\n",
       "      <td>22.188999</td>\n",
       "      <td>-68.489</td>\n",
       "      <td>-78.661</td>\n",
       "      <td>389.067</td>\n",
       "      <td>0.886228</td>\n",
       "      <td>0.113772</td>\n",
       "    </tr>\n",
       "    <tr>\n",
       "      <th>60975</th>\n",
       "      <td>1.028631</td>\n",
       "      <td>1.091732</td>\n",
       "      <td>0.325266</td>\n",
       "      <td>14.085000</td>\n",
       "      <td>-66.319</td>\n",
       "      <td>56.084</td>\n",
       "      <td>378.345</td>\n",
       "      <td>0.824351</td>\n",
       "      <td>0.175649</td>\n",
       "    </tr>\n",
       "    <tr>\n",
       "      <th>60976</th>\n",
       "      <td>5.993753</td>\n",
       "      <td>1.713249</td>\n",
       "      <td>0.087113</td>\n",
       "      <td>6.198300</td>\n",
       "      <td>-47.727</td>\n",
       "      <td>66.036</td>\n",
       "      <td>372.069</td>\n",
       "      <td>0.976048</td>\n",
       "      <td>0.023952</td>\n",
       "    </tr>\n",
       "    <tr>\n",
       "      <th>60977</th>\n",
       "      <td>2.409518</td>\n",
       "      <td>0.521768</td>\n",
       "      <td>0.183048</td>\n",
       "      <td>8.183000</td>\n",
       "      <td>62.589</td>\n",
       "      <td>90.369</td>\n",
       "      <td>449.204</td>\n",
       "      <td>0.840319</td>\n",
       "      <td>0.159681</td>\n",
       "    </tr>\n",
       "  </tbody>\n",
       "</table>\n",
       "<p>60978 rows × 9 columns</p>\n",
       "</div>"
      ],
      "text/plain": [
       "        azimuth    zenith  bjorkeny     energy   pos_x    pos_y    pos_z  \\\n",
       "0      2.349537  1.116004  0.048998   3.366400  52.740   28.831  401.186   \n",
       "1      5.575786  1.742838  0.280471   3.890000  48.369   29.865  417.282   \n",
       "2      4.656125  2.686909  0.119843   3.233500  71.722  121.449  363.077   \n",
       "3      0.520486  1.939326  0.061315   4.784000 -47.592  -84.466  350.687   \n",
       "4      2.856970  1.678897  0.061465   3.983300 -25.518   24.362  391.891   \n",
       "...         ...       ...       ...        ...     ...      ...      ...   \n",
       "60973  6.167531  1.320392  0.093289   6.696500 -25.916   91.493  444.696   \n",
       "60974  4.933224  0.729290  0.335327  22.188999 -68.489  -78.661  389.067   \n",
       "60975  1.028631  1.091732  0.325266  14.085000 -66.319   56.084  378.345   \n",
       "60976  5.993753  1.713249  0.087113   6.198300 -47.727   66.036  372.069   \n",
       "60977  2.409518  0.521768  0.183048   8.183000  62.589   90.369  449.204   \n",
       "\n",
       "       proba_track  proba_cscd  \n",
       "0         0.824351    0.175649  \n",
       "1         0.818363    0.181637  \n",
       "2         0.828343    0.171657  \n",
       "3         0.842315    0.157685  \n",
       "4         0.862275    0.137725  \n",
       "...            ...         ...  \n",
       "60973     0.804391    0.195609  \n",
       "60974     0.886228    0.113772  \n",
       "60975     0.824351    0.175649  \n",
       "60976     0.976048    0.023952  \n",
       "60977     0.840319    0.159681  \n",
       "\n",
       "[60978 rows x 9 columns]"
      ]
     },
     "execution_count": 153,
     "metadata": {},
     "output_type": "execute_result"
    }
   ],
   "source": [
    "neutrinos"
   ]
  },
  {
   "cell_type": "code",
   "execution_count": 155,
   "id": "43cf3d2a-9ab5-4086-ad4f-95179fa5e965",
   "metadata": {},
   "outputs": [
    {
     "data": {
      "text/html": [
       "<div>\n",
       "<style scoped>\n",
       "    .dataframe tbody tr th:only-of-type {\n",
       "        vertical-align: middle;\n",
       "    }\n",
       "\n",
       "    .dataframe tbody tr th {\n",
       "        vertical-align: top;\n",
       "    }\n",
       "\n",
       "    .dataframe thead th {\n",
       "        text-align: right;\n",
       "    }\n",
       "</style>\n",
       "<table border=\"1\" class=\"dataframe\">\n",
       "  <thead>\n",
       "    <tr style=\"text-align: right;\">\n",
       "      <th></th>\n",
       "      <th>reco_zenith</th>\n",
       "      <th>reco_azimuth</th>\n",
       "      <th>reco_energy_muon</th>\n",
       "      <th>reco_energy_neutrino</th>\n",
       "      <th>reco_bjorken_y</th>\n",
       "      <th>reco_quality</th>\n",
       "      <th>reco_pos_x</th>\n",
       "      <th>reco_pos_y</th>\n",
       "      <th>reco_pos_z</th>\n",
       "    </tr>\n",
       "  </thead>\n",
       "  <tbody>\n",
       "    <tr>\n",
       "      <th>0</th>\n",
       "      <td>1.138133</td>\n",
       "      <td>2.180345</td>\n",
       "      <td>0.291326</td>\n",
       "      <td>1.968828</td>\n",
       "      <td>0.125</td>\n",
       "      <td>-4.354237</td>\n",
       "      <td>48.916672</td>\n",
       "      <td>32.404689</td>\n",
       "      <td>-6.251441</td>\n",
       "    </tr>\n",
       "    <tr>\n",
       "      <th>1</th>\n",
       "      <td>1.501718</td>\n",
       "      <td>4.300291</td>\n",
       "      <td>2.247325</td>\n",
       "      <td>3.973614</td>\n",
       "      <td>0.125</td>\n",
       "      <td>-4.853344</td>\n",
       "      <td>59.164913</td>\n",
       "      <td>26.016755</td>\n",
       "      <td>12.737107</td>\n",
       "    </tr>\n",
       "    <tr>\n",
       "      <th>2</th>\n",
       "      <td>2.160066</td>\n",
       "      <td>4.228711</td>\n",
       "      <td>1.748958</td>\n",
       "      <td>3.390933</td>\n",
       "      <td>0.125</td>\n",
       "      <td>-3.836176</td>\n",
       "      <td>69.988323</td>\n",
       "      <td>116.081679</td>\n",
       "      <td>-35.060437</td>\n",
       "    </tr>\n",
       "    <tr>\n",
       "      <th>3</th>\n",
       "      <td>2.016892</td>\n",
       "      <td>0.621110</td>\n",
       "      <td>6.099985</td>\n",
       "      <td>6.643886</td>\n",
       "      <td>0.625</td>\n",
       "      <td>-4.556744</td>\n",
       "      <td>-48.878254</td>\n",
       "      <td>-86.933884</td>\n",
       "      <td>-57.699791</td>\n",
       "    </tr>\n",
       "    <tr>\n",
       "      <th>4</th>\n",
       "      <td>1.944401</td>\n",
       "      <td>3.030613</td>\n",
       "      <td>4.212069</td>\n",
       "      <td>5.967662</td>\n",
       "      <td>0.125</td>\n",
       "      <td>-4.927643</td>\n",
       "      <td>-32.267179</td>\n",
       "      <td>26.163239</td>\n",
       "      <td>-12.441818</td>\n",
       "    </tr>\n",
       "    <tr>\n",
       "      <th>...</th>\n",
       "      <td>...</td>\n",
       "      <td>...</td>\n",
       "      <td>...</td>\n",
       "      <td>...</td>\n",
       "      <td>...</td>\n",
       "      <td>...</td>\n",
       "      <td>...</td>\n",
       "      <td>...</td>\n",
       "      <td>...</td>\n",
       "    </tr>\n",
       "    <tr>\n",
       "      <th>60973</th>\n",
       "      <td>1.299424</td>\n",
       "      <td>6.236993</td>\n",
       "      <td>4.599036</td>\n",
       "      <td>6.387176</td>\n",
       "      <td>0.125</td>\n",
       "      <td>-3.945290</td>\n",
       "      <td>-18.263625</td>\n",
       "      <td>91.363175</td>\n",
       "      <td>36.575867</td>\n",
       "    </tr>\n",
       "    <tr>\n",
       "      <th>60974</th>\n",
       "      <td>0.742736</td>\n",
       "      <td>4.839671</td>\n",
       "      <td>10.505955</td>\n",
       "      <td>12.610675</td>\n",
       "      <td>0.375</td>\n",
       "      <td>-3.999766</td>\n",
       "      <td>-68.484308</td>\n",
       "      <td>-79.099002</td>\n",
       "      <td>-16.943958</td>\n",
       "    </tr>\n",
       "    <tr>\n",
       "      <th>60975</th>\n",
       "      <td>1.235372</td>\n",
       "      <td>0.915573</td>\n",
       "      <td>7.150356</td>\n",
       "      <td>9.964440</td>\n",
       "      <td>0.375</td>\n",
       "      <td>-4.068371</td>\n",
       "      <td>-65.527163</td>\n",
       "      <td>58.488387</td>\n",
       "      <td>-27.839264</td>\n",
       "    </tr>\n",
       "    <tr>\n",
       "      <th>60976</th>\n",
       "      <td>1.776043</td>\n",
       "      <td>5.992593</td>\n",
       "      <td>8.750033</td>\n",
       "      <td>10.912368</td>\n",
       "      <td>0.375</td>\n",
       "      <td>-4.387784</td>\n",
       "      <td>-45.701547</td>\n",
       "      <td>65.905001</td>\n",
       "      <td>-33.615596</td>\n",
       "    </tr>\n",
       "    <tr>\n",
       "      <th>60977</th>\n",
       "      <td>0.678877</td>\n",
       "      <td>2.151571</td>\n",
       "      <td>4.294830</td>\n",
       "      <td>5.952899</td>\n",
       "      <td>0.125</td>\n",
       "      <td>-4.493395</td>\n",
       "      <td>60.221892</td>\n",
       "      <td>92.280772</td>\n",
       "      <td>37.397762</td>\n",
       "    </tr>\n",
       "  </tbody>\n",
       "</table>\n",
       "<p>60978 rows × 9 columns</p>\n",
       "</div>"
      ],
      "text/plain": [
       "       reco_zenith  reco_azimuth  reco_energy_muon  reco_energy_neutrino  \\\n",
       "0         1.138133      2.180345          0.291326              1.968828   \n",
       "1         1.501718      4.300291          2.247325              3.973614   \n",
       "2         2.160066      4.228711          1.748958              3.390933   \n",
       "3         2.016892      0.621110          6.099985              6.643886   \n",
       "4         1.944401      3.030613          4.212069              5.967662   \n",
       "...            ...           ...               ...                   ...   \n",
       "60973     1.299424      6.236993          4.599036              6.387176   \n",
       "60974     0.742736      4.839671         10.505955             12.610675   \n",
       "60975     1.235372      0.915573          7.150356              9.964440   \n",
       "60976     1.776043      5.992593          8.750033             10.912368   \n",
       "60977     0.678877      2.151571          4.294830              5.952899   \n",
       "\n",
       "       reco_bjorken_y  reco_quality  reco_pos_x  reco_pos_y  reco_pos_z  \n",
       "0               0.125     -4.354237   48.916672   32.404689   -6.251441  \n",
       "1               0.125     -4.853344   59.164913   26.016755   12.737107  \n",
       "2               0.125     -3.836176   69.988323  116.081679  -35.060437  \n",
       "3               0.625     -4.556744  -48.878254  -86.933884  -57.699791  \n",
       "4               0.125     -4.927643  -32.267179   26.163239  -12.441818  \n",
       "...               ...           ...         ...         ...         ...  \n",
       "60973           0.125     -3.945290  -18.263625   91.363175   36.575867  \n",
       "60974           0.375     -3.999766  -68.484308  -79.099002  -16.943958  \n",
       "60975           0.375     -4.068371  -65.527163   58.488387  -27.839264  \n",
       "60976           0.375     -4.387784  -45.701547   65.905001  -33.615596  \n",
       "60977           0.125     -4.493395   60.221892   92.280772   37.397762  \n",
       "\n",
       "[60978 rows x 9 columns]"
      ]
     },
     "execution_count": 155,
     "metadata": {},
     "output_type": "execute_result"
    }
   ],
   "source": [
    "reco.add_prefix(\"reco_\")"
   ]
  },
  {
   "cell_type": "code",
   "execution_count": 158,
   "id": "8b641c8c-afcd-4663-ac01-58e3f18ddbd6",
   "metadata": {},
   "outputs": [],
   "source": [
    "data = pd.concat([neutrinos, reco.add_prefix(\"reco_\")], axis=\"columns\")"
   ]
  },
  {
   "cell_type": "code",
   "execution_count": 159,
   "id": "e5169d03-5808-4f78-9833-f650e2d2c5e1",
   "metadata": {},
   "outputs": [
    {
     "data": {
      "text/html": [
       "<div>\n",
       "<style scoped>\n",
       "    .dataframe tbody tr th:only-of-type {\n",
       "        vertical-align: middle;\n",
       "    }\n",
       "\n",
       "    .dataframe tbody tr th {\n",
       "        vertical-align: top;\n",
       "    }\n",
       "\n",
       "    .dataframe thead th {\n",
       "        text-align: right;\n",
       "    }\n",
       "</style>\n",
       "<table border=\"1\" class=\"dataframe\">\n",
       "  <thead>\n",
       "    <tr style=\"text-align: right;\">\n",
       "      <th></th>\n",
       "      <th>azimuth</th>\n",
       "      <th>zenith</th>\n",
       "      <th>bjorkeny</th>\n",
       "      <th>energy</th>\n",
       "      <th>pos_x</th>\n",
       "      <th>pos_y</th>\n",
       "      <th>pos_z</th>\n",
       "      <th>proba_track</th>\n",
       "      <th>proba_cscd</th>\n",
       "      <th>reco_zenith</th>\n",
       "      <th>reco_azimuth</th>\n",
       "      <th>reco_energy_muon</th>\n",
       "      <th>reco_energy_neutrino</th>\n",
       "      <th>reco_bjorken_y</th>\n",
       "      <th>reco_quality</th>\n",
       "      <th>reco_pos_x</th>\n",
       "      <th>reco_pos_y</th>\n",
       "      <th>reco_pos_z</th>\n",
       "    </tr>\n",
       "  </thead>\n",
       "  <tbody>\n",
       "    <tr>\n",
       "      <th>0</th>\n",
       "      <td>2.349537</td>\n",
       "      <td>1.116004</td>\n",
       "      <td>0.048998</td>\n",
       "      <td>3.3664</td>\n",
       "      <td>52.740</td>\n",
       "      <td>28.831</td>\n",
       "      <td>401.186</td>\n",
       "      <td>0.824351</td>\n",
       "      <td>0.175649</td>\n",
       "      <td>1.138133</td>\n",
       "      <td>2.180345</td>\n",
       "      <td>0.291326</td>\n",
       "      <td>1.968828</td>\n",
       "      <td>0.125</td>\n",
       "      <td>-4.354237</td>\n",
       "      <td>48.916672</td>\n",
       "      <td>32.404689</td>\n",
       "      <td>-6.251441</td>\n",
       "    </tr>\n",
       "    <tr>\n",
       "      <th>1</th>\n",
       "      <td>5.575786</td>\n",
       "      <td>1.742838</td>\n",
       "      <td>0.280471</td>\n",
       "      <td>3.8900</td>\n",
       "      <td>48.369</td>\n",
       "      <td>29.865</td>\n",
       "      <td>417.282</td>\n",
       "      <td>0.818363</td>\n",
       "      <td>0.181637</td>\n",
       "      <td>1.501718</td>\n",
       "      <td>4.300291</td>\n",
       "      <td>2.247325</td>\n",
       "      <td>3.973614</td>\n",
       "      <td>0.125</td>\n",
       "      <td>-4.853344</td>\n",
       "      <td>59.164913</td>\n",
       "      <td>26.016755</td>\n",
       "      <td>12.737107</td>\n",
       "    </tr>\n",
       "    <tr>\n",
       "      <th>2</th>\n",
       "      <td>4.656125</td>\n",
       "      <td>2.686909</td>\n",
       "      <td>0.119843</td>\n",
       "      <td>3.2335</td>\n",
       "      <td>71.722</td>\n",
       "      <td>121.449</td>\n",
       "      <td>363.077</td>\n",
       "      <td>0.828343</td>\n",
       "      <td>0.171657</td>\n",
       "      <td>2.160066</td>\n",
       "      <td>4.228711</td>\n",
       "      <td>1.748958</td>\n",
       "      <td>3.390933</td>\n",
       "      <td>0.125</td>\n",
       "      <td>-3.836176</td>\n",
       "      <td>69.988323</td>\n",
       "      <td>116.081679</td>\n",
       "      <td>-35.060437</td>\n",
       "    </tr>\n",
       "    <tr>\n",
       "      <th>3</th>\n",
       "      <td>0.520486</td>\n",
       "      <td>1.939326</td>\n",
       "      <td>0.061315</td>\n",
       "      <td>4.7840</td>\n",
       "      <td>-47.592</td>\n",
       "      <td>-84.466</td>\n",
       "      <td>350.687</td>\n",
       "      <td>0.842315</td>\n",
       "      <td>0.157685</td>\n",
       "      <td>2.016892</td>\n",
       "      <td>0.621110</td>\n",
       "      <td>6.099985</td>\n",
       "      <td>6.643886</td>\n",
       "      <td>0.625</td>\n",
       "      <td>-4.556744</td>\n",
       "      <td>-48.878254</td>\n",
       "      <td>-86.933884</td>\n",
       "      <td>-57.699791</td>\n",
       "    </tr>\n",
       "    <tr>\n",
       "      <th>4</th>\n",
       "      <td>2.856970</td>\n",
       "      <td>1.678897</td>\n",
       "      <td>0.061465</td>\n",
       "      <td>3.9833</td>\n",
       "      <td>-25.518</td>\n",
       "      <td>24.362</td>\n",
       "      <td>391.891</td>\n",
       "      <td>0.862275</td>\n",
       "      <td>0.137725</td>\n",
       "      <td>1.944401</td>\n",
       "      <td>3.030613</td>\n",
       "      <td>4.212069</td>\n",
       "      <td>5.967662</td>\n",
       "      <td>0.125</td>\n",
       "      <td>-4.927643</td>\n",
       "      <td>-32.267179</td>\n",
       "      <td>26.163239</td>\n",
       "      <td>-12.441818</td>\n",
       "    </tr>\n",
       "  </tbody>\n",
       "</table>\n",
       "</div>"
      ],
      "text/plain": [
       "    azimuth    zenith  bjorkeny  energy   pos_x    pos_y    pos_z  \\\n",
       "0  2.349537  1.116004  0.048998  3.3664  52.740   28.831  401.186   \n",
       "1  5.575786  1.742838  0.280471  3.8900  48.369   29.865  417.282   \n",
       "2  4.656125  2.686909  0.119843  3.2335  71.722  121.449  363.077   \n",
       "3  0.520486  1.939326  0.061315  4.7840 -47.592  -84.466  350.687   \n",
       "4  2.856970  1.678897  0.061465  3.9833 -25.518   24.362  391.891   \n",
       "\n",
       "   proba_track  proba_cscd  reco_zenith  reco_azimuth  reco_energy_muon  \\\n",
       "0     0.824351    0.175649     1.138133      2.180345          0.291326   \n",
       "1     0.818363    0.181637     1.501718      4.300291          2.247325   \n",
       "2     0.828343    0.171657     2.160066      4.228711          1.748958   \n",
       "3     0.842315    0.157685     2.016892      0.621110          6.099985   \n",
       "4     0.862275    0.137725     1.944401      3.030613          4.212069   \n",
       "\n",
       "   reco_energy_neutrino  reco_bjorken_y  reco_quality  reco_pos_x  reco_pos_y  \\\n",
       "0              1.968828           0.125     -4.354237   48.916672   32.404689   \n",
       "1              3.973614           0.125     -4.853344   59.164913   26.016755   \n",
       "2              3.390933           0.125     -3.836176   69.988323  116.081679   \n",
       "3              6.643886           0.625     -4.556744  -48.878254  -86.933884   \n",
       "4              5.967662           0.125     -4.927643  -32.267179   26.163239   \n",
       "\n",
       "   reco_pos_z  \n",
       "0   -6.251441  \n",
       "1   12.737107  \n",
       "2  -35.060437  \n",
       "3  -57.699791  \n",
       "4  -12.441818  "
      ]
     },
     "execution_count": 159,
     "metadata": {},
     "output_type": "execute_result"
    }
   ],
   "source": [
    "data.head()"
   ]
  },
  {
   "cell_type": "code",
   "execution_count": 160,
   "id": "7f313f70-7122-4cc6-ba65-38479ca9a940",
   "metadata": {},
   "outputs": [
    {
     "data": {
      "text/plain": [
       "Index(['azimuth', 'zenith', 'bjorkeny', 'energy', 'pos_x', 'pos_y', 'pos_z',\n",
       "       'proba_track', 'proba_cscd', 'reco_zenith', 'reco_azimuth',\n",
       "       'reco_energy_muon', 'reco_energy_neutrino', 'reco_bjorken_y',\n",
       "       'reco_quality', 'reco_pos_x', 'reco_pos_y', 'reco_pos_z'],\n",
       "      dtype='object')"
      ]
     },
     "execution_count": 160,
     "metadata": {},
     "output_type": "execute_result"
    }
   ],
   "source": [
    "data.columns"
   ]
  },
  {
   "cell_type": "code",
   "execution_count": 162,
   "id": "a47db6ca-0064-470b-adb4-36047643205a",
   "metadata": {},
   "outputs": [
    {
     "data": {
      "text/plain": [
       "azimuth                 float64\n",
       "zenith                  float64\n",
       "bjorkeny                float64\n",
       "energy                  float64\n",
       "pos_x                   float64\n",
       "pos_y                   float64\n",
       "pos_z                   float64\n",
       "proba_track             float64\n",
       "proba_cscd              float64\n",
       "reco_zenith             float64\n",
       "reco_azimuth            float64\n",
       "reco_energy_muon        float64\n",
       "reco_energy_neutrino    float64\n",
       "reco_bjorken_y          float64\n",
       "reco_quality            float64\n",
       "reco_pos_x              float64\n",
       "reco_pos_y              float64\n",
       "reco_pos_z              float64\n",
       "dtype: object"
      ]
     },
     "execution_count": 162,
     "metadata": {},
     "output_type": "execute_result"
    }
   ],
   "source": [
    "data.dtypes"
   ]
  },
  {
   "cell_type": "markdown",
   "id": "a3b008af-4a7f-4f4a-9596-b3f4e793680e",
   "metadata": {
    "slideshow": {
     "slide_type": "slide"
    }
   },
   "source": [
    "## Exercise 5\n",
    "\n",
    "Make a scatter plot to visualise the zenith reconstruction quality.\n",
    "\n",
    "`data = pd.concat([neutrinos reco.add_prefix('reco_')], axis=\"columns\")`"
   ]
  },
  {
   "cell_type": "code",
   "execution_count": 164,
   "id": "12081f6c-f1c4-4e86-8932-0ed2658aaaa9",
   "metadata": {},
   "outputs": [
    {
     "data": {
      "text/plain": [
       "<AxesSubplot:xlabel='zenith'>"
      ]
     },
     "execution_count": 164,
     "metadata": {},
     "output_type": "execute_result"
    },
    {
     "data": {
      "image/png": "[encoded data removed]",
      "text/plain": [
       "<Figure size 720x360 with 1 Axes>"
      ]
     },
     "metadata": {
      "needs_background": "light"
     },
     "output_type": "display_data"
    }
   ],
   "source": [
    "data.plot(x=\"zenith\", y=\"reco_zenith\", style=\".\")"
   ]
  },
  {
   "cell_type": "code",
   "execution_count": 165,
   "id": "8d8f7ab1-7190-4e6b-9e29-18a09b5ac683",
   "metadata": {},
   "outputs": [
    {
     "data": {
      "text/plain": [
       "<matplotlib.collections.PathCollection at 0x307513ee0>"
      ]
     },
     "execution_count": 165,
     "metadata": {},
     "output_type": "execute_result"
    },
    {
     "data": {
      "image/png": "[encoded data removed]",
      "text/plain": [
       "<Figure size 720x360 with 1 Axes>"
      ]
     },
     "metadata": {
      "needs_background": "light"
     },
     "output_type": "display_data"
    }
   ],
   "source": [
    "fig, ax = plt.subplots()\n",
    "ax.scatter(data[\"zenith\"], data[\"reco_zenith\"], alpha=0.01)"
   ]
  },
  {
   "cell_type": "code",
   "execution_count": 168,
   "id": "66924641-aebe-4862-894f-626172b8dc01",
   "metadata": {},
   "outputs": [
    {
     "data": {
      "text/plain": [
       "<matplotlib.colorbar.Colorbar at 0x3007deb20>"
      ]
     },
     "execution_count": 168,
     "metadata": {},
     "output_type": "execute_result"
    },
    {
     "data": {
      "image/png": "[encoded data removed]",
      "text/plain": [
       "<Figure size 720x360 with 2 Axes>"
      ]
     },
     "metadata": {
      "needs_background": "light"
     },
     "output_type": "display_data"
    }
   ],
   "source": [
    "fig, ax = plt.subplots()\n",
    "counts, xedges, yedes, im = ax.hist2d(data[\"zenith\"], data[\"reco_zenith\"], bins=150)\n",
    "fig.colorbar(im)"
   ]
  },
  {
   "cell_type": "markdown",
   "id": "0d86e032-4440-4abf-81a5-542d194fa319",
   "metadata": {
    "slideshow": {
     "slide_type": "slide"
    }
   },
   "source": [
    "## Exercise 6\n",
    "\n",
    "Create a histogram of the cascade probabilities (__`neutrinos`__ dataset: `proba_cscd` column) for the energy ranges 1-5 GeV, 5-10 GeV, 10-20 GeV and 20-100 GeV."
   ]
  },
  {
   "cell_type": "code",
   "execution_count": 169,
   "id": "a87507a2-87de-48a3-b131-f4ee216f1289",
   "metadata": {},
   "outputs": [],
   "source": [
    "ebins = [1, 5, 10, 20, 100]\n",
    "neutrinos[\"ebin\"] = pd.cut(neutrinos.energy, ebins, labels=False)"
   ]
  },
  {
   "cell_type": "code",
   "execution_count": 171,
   "id": "7dc6bb3c-f2c6-47f7-b96f-f7bbcb6f65ae",
   "metadata": {},
   "outputs": [
    {
     "data": {
      "text/html": [
       "<div>\n",
       "<style scoped>\n",
       "    .dataframe tbody tr th:only-of-type {\n",
       "        vertical-align: middle;\n",
       "    }\n",
       "\n",
       "    .dataframe tbody tr th {\n",
       "        vertical-align: top;\n",
       "    }\n",
       "\n",
       "    .dataframe thead th {\n",
       "        text-align: right;\n",
       "    }\n",
       "</style>\n",
       "<table border=\"1\" class=\"dataframe\">\n",
       "  <thead>\n",
       "    <tr style=\"text-align: right;\">\n",
       "      <th></th>\n",
       "      <th>azimuth</th>\n",
       "      <th>zenith</th>\n",
       "      <th>bjorkeny</th>\n",
       "      <th>energy</th>\n",
       "      <th>pos_x</th>\n",
       "      <th>pos_y</th>\n",
       "      <th>pos_z</th>\n",
       "      <th>proba_track</th>\n",
       "      <th>proba_cscd</th>\n",
       "      <th>ebin</th>\n",
       "    </tr>\n",
       "  </thead>\n",
       "  <tbody>\n",
       "    <tr>\n",
       "      <th>60973</th>\n",
       "      <td>6.167531</td>\n",
       "      <td>1.320392</td>\n",
       "      <td>0.093289</td>\n",
       "      <td>6.696500</td>\n",
       "      <td>-25.916</td>\n",
       "      <td>91.493</td>\n",
       "      <td>444.696</td>\n",
       "      <td>0.804391</td>\n",
       "      <td>0.195609</td>\n",
       "      <td>1</td>\n",
       "    </tr>\n",
       "    <tr>\n",
       "      <th>60974</th>\n",
       "      <td>4.933224</td>\n",
       "      <td>0.729290</td>\n",
       "      <td>0.335327</td>\n",
       "      <td>22.188999</td>\n",
       "      <td>-68.489</td>\n",
       "      <td>-78.661</td>\n",
       "      <td>389.067</td>\n",
       "      <td>0.886228</td>\n",
       "      <td>0.113772</td>\n",
       "      <td>3</td>\n",
       "    </tr>\n",
       "    <tr>\n",
       "      <th>60975</th>\n",
       "      <td>1.028631</td>\n",
       "      <td>1.091732</td>\n",
       "      <td>0.325266</td>\n",
       "      <td>14.085000</td>\n",
       "      <td>-66.319</td>\n",
       "      <td>56.084</td>\n",
       "      <td>378.345</td>\n",
       "      <td>0.824351</td>\n",
       "      <td>0.175649</td>\n",
       "      <td>2</td>\n",
       "    </tr>\n",
       "    <tr>\n",
       "      <th>60976</th>\n",
       "      <td>5.993753</td>\n",
       "      <td>1.713249</td>\n",
       "      <td>0.087113</td>\n",
       "      <td>6.198300</td>\n",
       "      <td>-47.727</td>\n",
       "      <td>66.036</td>\n",
       "      <td>372.069</td>\n",
       "      <td>0.976048</td>\n",
       "      <td>0.023952</td>\n",
       "      <td>1</td>\n",
       "    </tr>\n",
       "    <tr>\n",
       "      <th>60977</th>\n",
       "      <td>2.409518</td>\n",
       "      <td>0.521768</td>\n",
       "      <td>0.183048</td>\n",
       "      <td>8.183000</td>\n",
       "      <td>62.589</td>\n",
       "      <td>90.369</td>\n",
       "      <td>449.204</td>\n",
       "      <td>0.840319</td>\n",
       "      <td>0.159681</td>\n",
       "      <td>1</td>\n",
       "    </tr>\n",
       "  </tbody>\n",
       "</table>\n",
       "</div>"
      ],
      "text/plain": [
       "        azimuth    zenith  bjorkeny     energy   pos_x   pos_y    pos_z  \\\n",
       "60973  6.167531  1.320392  0.093289   6.696500 -25.916  91.493  444.696   \n",
       "60974  4.933224  0.729290  0.335327  22.188999 -68.489 -78.661  389.067   \n",
       "60975  1.028631  1.091732  0.325266  14.085000 -66.319  56.084  378.345   \n",
       "60976  5.993753  1.713249  0.087113   6.198300 -47.727  66.036  372.069   \n",
       "60977  2.409518  0.521768  0.183048   8.183000  62.589  90.369  449.204   \n",
       "\n",
       "       proba_track  proba_cscd  ebin  \n",
       "60973     0.804391    0.195609     1  \n",
       "60974     0.886228    0.113772     3  \n",
       "60975     0.824351    0.175649     2  \n",
       "60976     0.976048    0.023952     1  \n",
       "60977     0.840319    0.159681     1  "
      ]
     },
     "execution_count": 171,
     "metadata": {},
     "output_type": "execute_result"
    }
   ],
   "source": [
    "neutrinos.tail()"
   ]
  },
  {
   "cell_type": "code",
   "execution_count": 174,
   "id": "093c7640-ee84-4a4d-9b38-4807f6883895",
   "metadata": {},
   "outputs": [
    {
     "data": {
      "image/png": "[encoded data removed]",
      "text/plain": [
       "<Figure size 720x360 with 4 Axes>"
      ]
     },
     "metadata": {
      "needs_background": "light"
     },
     "output_type": "display_data"
    }
   ],
   "source": [
    "neutrinos.hist(\"proba_cscd\", by=\"ebin\", bins=50);"
   ]
  },
  {
   "cell_type": "markdown",
   "id": "985108ea-de21-42ce-9df2-2954e76a0b79",
   "metadata": {},
   "source": [
    "### Read a KM3NeT Event File `data/hits.h5`"
   ]
  },
  {
   "cell_type": "code",
   "execution_count": 175,
   "id": "ccec947c-68c0-417d-a01c-345324ed339c",
   "metadata": {},
   "outputs": [
    {
     "name": "stdout",
     "output_type": "stream",
     "text": [
      "/ (RootGroup) ''\n",
      "/hits (Group) ''\n",
      "/hits/axis0 (Array(5,)) ''\n",
      "/hits/axis1 (Array(2361,)) ''\n",
      "/hits/block0_items (Array(1,)) ''\n",
      "/hits/block0_values (Array(2361, 1)) ''\n",
      "/hits/block1_items (Array(1,)) ''\n",
      "/hits/block1_values (Array(2361, 1)) ''\n",
      "/hits/block2_items (Array(1,)) ''\n",
      "/hits/block2_values (Array(2361, 1)) ''\n",
      "/hits/block3_items (Array(2,)) ''\n",
      "/hits/block3_values (Array(2361, 2)) ''\n"
     ]
    }
   ],
   "source": [
    "!ptdump data/hits.h5"
   ]
  },
  {
   "cell_type": "code",
   "execution_count": 176,
   "id": "3d80c656-8a94-456b-9ed3-8d4aee7ab10b",
   "metadata": {},
   "outputs": [],
   "source": [
    "hits = pd.read_hdf(\"data/hits.h5\", \"/hits\")"
   ]
  },
  {
   "cell_type": "code",
   "execution_count": 177,
   "id": "488f6392-775e-492d-bb31-e35c820d9d38",
   "metadata": {},
   "outputs": [
    {
     "data": {
      "text/html": [
       "<div>\n",
       "<style scoped>\n",
       "    .dataframe tbody tr th:only-of-type {\n",
       "        vertical-align: middle;\n",
       "    }\n",
       "\n",
       "    .dataframe tbody tr th {\n",
       "        vertical-align: top;\n",
       "    }\n",
       "\n",
       "    .dataframe thead th {\n",
       "        text-align: right;\n",
       "    }\n",
       "</style>\n",
       "<table border=\"1\" class=\"dataframe\">\n",
       "  <thead>\n",
       "    <tr style=\"text-align: right;\">\n",
       "      <th></th>\n",
       "      <th>dom_id</th>\n",
       "      <th>pmt_id</th>\n",
       "      <th>time</th>\n",
       "      <th>tot</th>\n",
       "      <th>triggermask</th>\n",
       "    </tr>\n",
       "  </thead>\n",
       "  <tbody>\n",
       "    <tr>\n",
       "      <th>0</th>\n",
       "      <td>808949902</td>\n",
       "      <td>28</td>\n",
       "      <td>15920424</td>\n",
       "      <td>22</td>\n",
       "      <td>4</td>\n",
       "    </tr>\n",
       "    <tr>\n",
       "      <th>1</th>\n",
       "      <td>808949902</td>\n",
       "      <td>30</td>\n",
       "      <td>15920388</td>\n",
       "      <td>28</td>\n",
       "      <td>4</td>\n",
       "    </tr>\n",
       "    <tr>\n",
       "      <th>2</th>\n",
       "      <td>808963189</td>\n",
       "      <td>2</td>\n",
       "      <td>15920664</td>\n",
       "      <td>30</td>\n",
       "      <td>6</td>\n",
       "    </tr>\n",
       "    <tr>\n",
       "      <th>3</th>\n",
       "      <td>808963189</td>\n",
       "      <td>7</td>\n",
       "      <td>15920663</td>\n",
       "      <td>18</td>\n",
       "      <td>6</td>\n",
       "    </tr>\n",
       "    <tr>\n",
       "      <th>4</th>\n",
       "      <td>808963189</td>\n",
       "      <td>11</td>\n",
       "      <td>15920658</td>\n",
       "      <td>27</td>\n",
       "      <td>6</td>\n",
       "    </tr>\n",
       "    <tr>\n",
       "      <th>...</th>\n",
       "      <td>...</td>\n",
       "      <td>...</td>\n",
       "      <td>...</td>\n",
       "      <td>...</td>\n",
       "      <td>...</td>\n",
       "    </tr>\n",
       "    <tr>\n",
       "      <th>2356</th>\n",
       "      <td>808985283</td>\n",
       "      <td>9</td>\n",
       "      <td>3870706</td>\n",
       "      <td>26</td>\n",
       "      <td>4</td>\n",
       "    </tr>\n",
       "    <tr>\n",
       "      <th>2357</th>\n",
       "      <td>808985283</td>\n",
       "      <td>11</td>\n",
       "      <td>3870702</td>\n",
       "      <td>26</td>\n",
       "      <td>4</td>\n",
       "    </tr>\n",
       "    <tr>\n",
       "      <th>2358</th>\n",
       "      <td>808985283</td>\n",
       "      <td>16</td>\n",
       "      <td>3870707</td>\n",
       "      <td>6</td>\n",
       "      <td>4</td>\n",
       "    </tr>\n",
       "    <tr>\n",
       "      <th>2359</th>\n",
       "      <td>809004291</td>\n",
       "      <td>2</td>\n",
       "      <td>3870610</td>\n",
       "      <td>27</td>\n",
       "      <td>4</td>\n",
       "    </tr>\n",
       "    <tr>\n",
       "      <th>2360</th>\n",
       "      <td>809004291</td>\n",
       "      <td>17</td>\n",
       "      <td>3870616</td>\n",
       "      <td>24</td>\n",
       "      <td>4</td>\n",
       "    </tr>\n",
       "  </tbody>\n",
       "</table>\n",
       "<p>2361 rows × 5 columns</p>\n",
       "</div>"
      ],
      "text/plain": [
       "         dom_id  pmt_id      time  tot  triggermask\n",
       "0     808949902      28  15920424   22            4\n",
       "1     808949902      30  15920388   28            4\n",
       "2     808963189       2  15920664   30            6\n",
       "3     808963189       7  15920663   18            6\n",
       "4     808963189      11  15920658   27            6\n",
       "...         ...     ...       ...  ...          ...\n",
       "2356  808985283       9   3870706   26            4\n",
       "2357  808985283      11   3870702   26            4\n",
       "2358  808985283      16   3870707    6            4\n",
       "2359  809004291       2   3870610   27            4\n",
       "2360  809004291      17   3870616   24            4\n",
       "\n",
       "[2361 rows x 5 columns]"
      ]
     },
     "execution_count": 177,
     "metadata": {},
     "output_type": "execute_result"
    }
   ],
   "source": [
    "hits"
   ]
  },
  {
   "cell_type": "code",
   "execution_count": 179,
   "id": "6246b3a0-49ee-4450-a0d1-b40bfebbe92d",
   "metadata": {},
   "outputs": [
    {
     "data": {
      "image/png": "[encoded data removed]",
      "text/plain": [
       "<Figure size 720x360 with 1 Axes>"
      ]
     },
     "metadata": {
      "needs_background": "light"
     },
     "output_type": "display_data"
    }
   ],
   "source": [
    "hits.tot.hist(bins=100);"
   ]
  },
  {
   "cell_type": "code",
   "execution_count": 181,
   "id": "c4fbbe2d-5d06-476d-b438-7c0e7974e1ef",
   "metadata": {},
   "outputs": [],
   "source": [
    "hits_by_dom_id = hits.groupby(\"dom_id\")"
   ]
  },
  {
   "cell_type": "code",
   "execution_count": 182,
   "id": "660a4fc9-bafc-4d27-aa68-e750b0482c04",
   "metadata": {},
   "outputs": [
    {
     "name": "stdout",
     "output_type": "stream",
     "text": [
      "808432848\n",
      "         dom_id  pmt_id      time  tot  triggermask\n",
      "13    808432848      28  59317389   24            4\n",
      "35    808432848       3  75610163   25           22\n",
      "36    808432848       4  75610160   30           22\n",
      "37    808432848       6  75610160   26           22\n",
      "38    808432848       8  75610157   38           22\n",
      "...         ...     ...       ...  ...          ...\n",
      "2264  808432848       0  96099772   32           22\n",
      "2265  808432848       5  96099773   30           22\n",
      "2326  808432848       0  18579789   42           22\n",
      "2327  808432848       1  18579798   23           22\n",
      "2328  808432848       5  18579793   30           22\n",
      "\n",
      "[147 rows x 5 columns]\n",
      "808432849\n",
      "         dom_id  pmt_id      time  tot  triggermask\n",
      "14    808432849      30  59317328   20            4\n",
      "40    808432849       6  75610081   30           22\n",
      "41    808432849       8  75610071   29           22\n",
      "42    808432849      28  75610141   22            4\n",
      "183   808432849       0  60031724   32            4\n",
      "...         ...     ...       ...  ...          ...\n",
      "2329  808432849       0  18579721   24           22\n",
      "2330  808432849       2  18579722   27           22\n",
      "2331  808432849       5  18579717   28           22\n",
      "2332  808432849      28  18579762   22            4\n",
      "2333  808432849      30  18579719   24           22\n",
      "\n",
      "[113 rows x 5 columns]\n",
      "808476737\n",
      "         dom_id  pmt_id      time  tot  triggermask\n",
      "272   808476737       4  27831613   25           22\n",
      "273   808476737       7  27831611   23           22\n",
      "274   808476737       8  27831620    5           22\n",
      "292   808476737       0  14080362   46            6\n",
      "293   808476737       1  14080362   25            6\n",
      "...         ...     ...       ...  ...          ...\n",
      "2218  808476737      16  90010110   38           22\n",
      "2219  808476737      27  90010115   30           22\n",
      "2220  808476737      28  90010111   38           22\n",
      "2315  808476737      10   6905458   21            6\n",
      "2316  808476737      17   6905455   32            6\n",
      "\n",
      "[164 rows x 5 columns]\n",
      "808483667\n",
      "         dom_id  pmt_id      time  tot  triggermask\n",
      "15    808483667       0  59317473   22            6\n",
      "16    808483667       2  59317458   24            6\n",
      "17    808483667       4  59317463   24            6\n",
      "18    808483667      30  59317481   14            6\n",
      "43    808483667       0  75610243   29           22\n",
      "...         ...     ...       ...  ...          ...\n",
      "2336  808483667       5  18579867   37           22\n",
      "2337  808483667       7  18579876   26           22\n",
      "2338  808483667      11  18579867   19           22\n",
      "2339  808483667      27  18579868   29           22\n",
      "2340  808483667      28  18579870   19           22\n",
      "\n",
      "[133 rows x 5 columns]\n",
      "808483678\n",
      "         dom_id  pmt_id      time  tot  triggermask\n",
      "585   808483678       6  62371631   28            4\n",
      "586   808483678      16  62371625   26            4\n",
      "839   808483678       0  64074121   26           22\n",
      "840   808483678       3  64074120   31           22\n",
      "841   808483678       4  64074137   15           22\n",
      "...         ...     ...       ...  ...          ...\n",
      "2222  808483678      11  90010198   26           22\n",
      "2317  808483678      10   6905506   37            6\n",
      "2318  808483678      14   6905505    7            6\n",
      "2319  808483678      14   6905518   18            6\n",
      "2320  808483678      18   6905508   26            6\n",
      "\n",
      "[99 rows x 5 columns]\n",
      "808945480\n",
      "         dom_id  pmt_id      time  tot  triggermask\n",
      "99    808945480       0  92314613   18            4\n",
      "100   808945480      23  92314607   33            4\n",
      "101   808945480      30  92314606   28            4\n",
      "275   808945480       0  27831523   27           22\n",
      "276   808945480       3  27831530   14           22\n",
      "...         ...     ...       ...  ...          ...\n",
      "2204  808945480      10  97399779   21            6\n",
      "2205  808945480      11  97399773   22            6\n",
      "2223  808945480       1  90010035   43           22\n",
      "2224  808945480       7  90010034   25           22\n",
      "2225  808945480      27  90010060   21            4\n",
      "\n",
      "[174 rows x 5 columns]\n",
      "808945629\n",
      "         dom_id  pmt_id      time  tot  triggermask\n",
      "19    808945629       0  59317531   42            6\n",
      "20    808945629       2  59317529   13            6\n",
      "21    808945629       3  59317525   24            6\n",
      "46    808945629       3  75610333   29            4\n",
      "47    808945629      21  75610358   30            4\n",
      "...         ...     ...       ...  ...          ...\n",
      "2341  808945629       1  18579955   26           22\n",
      "2342  808945629       2  18579956   28           22\n",
      "2343  808945629       5  18579952   37           22\n",
      "2344  808945629       7  18579961   49           22\n",
      "2345  808945629      12  18579957   23           22\n",
      "\n",
      "[133 rows x 5 columns]\n",
      "808949646\n",
      "         dom_id  pmt_id      time  tot  triggermask\n",
      "546   808949646       5  15682384   31           22\n",
      "547   808949646       7  15682377   26           22\n",
      "548   808949646       8  15682388   23           22\n",
      "549   808949646       9  15682383   34           22\n",
      "550   808949646      11  15682382   32           22\n",
      "...         ...     ...       ...  ...          ...\n",
      "2212  808949646      20  97399987   30            6\n",
      "2321  808949646       1   6905558   11            6\n",
      "2322  808949646       7   6905555   49            6\n",
      "2323  808949646      10   6905566   27            6\n",
      "2324  808949646      11   6905558   29            6\n",
      "\n",
      "[72 rows x 5 columns]\n",
      "808949902\n",
      "         dom_id  pmt_id      time  tot  triggermask\n",
      "0     808949902      28  15920424   22            4\n",
      "1     808949902      30  15920388   28            4\n",
      "24    808949902       2  79528113   19            4\n",
      "25    808949902       8  79528059   25            2\n",
      "26    808949902      11  79528067   22            2\n",
      "...         ...     ...       ...  ...          ...\n",
      "2236  808949902      20  50367984   32           22\n",
      "2237  808949902      28  50367985   22           22\n",
      "2279  808949902      11  53736148    5           22\n",
      "2280  808949902      12  53736147   28           22\n",
      "2281  808949902      16  53736141   24           22\n",
      "\n",
      "[165 rows x 5 columns]\n",
      "808963189\n",
      "         dom_id  pmt_id      time  tot  triggermask\n",
      "2     808963189       2  15920664   30            6\n",
      "3     808963189       7  15920663   18            6\n",
      "4     808963189      11  15920658   27            6\n",
      "5     808963189      16  15920667   27            6\n",
      "53    808963189       1   3151119   25            4\n",
      "...         ...     ...       ...  ...          ...\n",
      "2187  808963189      30  34405119   35           22\n",
      "2238  808963189      11  50368346   24            4\n",
      "2282  808963189       1  53736459   28           22\n",
      "2283  808963189       7  53736468   35           22\n",
      "2348  808963189       1   3870535   15            4\n",
      "\n",
      "[116 rows x 5 columns]\n",
      "808968978\n",
      "         dom_id  pmt_id      time  tot  triggermask\n",
      "6     808968978       0  15920585   53            4\n",
      "7     808968978       2  15920627   14            4\n",
      "28    808968978       6  79528321   18            6\n",
      "29    808968978      10  79528319   27            6\n",
      "55    808968978       0   3151030   28           22\n",
      "...         ...     ...       ...  ...          ...\n",
      "2242  808968978      10  50368246   25           22\n",
      "2243  808968978      11  50368243   32           22\n",
      "2244  808968978      16  50368247   26           22\n",
      "2284  808968978      23  53736377    3           22\n",
      "2285  808968978      30  53736371   26           22\n",
      "\n",
      "[128 rows x 5 columns]\n",
      "808971989\n",
      "         dom_id  pmt_id      time  tot  triggermask\n",
      "22    808971989       0  59317604   15            6\n",
      "23    808971989       5  59317601   28            6\n",
      "30    808971989       4  79528113   28            4\n",
      "48    808971989       0  75610425   26           22\n",
      "49    808971989       8  75610420   23           22\n",
      "...         ...     ...       ...  ...          ...\n",
      "2273  808971989      30  96100009   16           22\n",
      "2286  808971989       2  53736081   25            4\n",
      "2287  808971989      12  53736079   22            4\n",
      "2346  808971989       1  18580043   35           22\n",
      "2347  808971989       9  18580042   31           22\n",
      "\n",
      "[154 rows x 5 columns]\n",
      "808982030\n",
      "         dom_id  pmt_id      time  tot  triggermask\n",
      "114   808982030      30  92314535   24            4\n",
      "220   808982030      21  73034777   23            4\n",
      "284   808982030       4  27831457   14           22\n",
      "285   808982030      21  27831454   27           22\n",
      "286   808982030      23  27831452   30           22\n",
      "...         ...     ...       ...  ...          ...\n",
      "2275  808982030       5  96100726   28           16\n",
      "2325  808982030      12   6905348   22            4\n",
      "2349  808982030       7   3870804   25            4\n",
      "2350  808982030       9   3870804   27            4\n",
      "2351  808982030      11   3870806   31            4\n",
      "\n",
      "[191 rows x 5 columns]\n",
      "808982065\n",
      "         dom_id  pmt_id      time  tot  triggermask\n",
      "8     808982065       1  15920520   25            6\n",
      "9     808982065      26  15920514   25            6\n",
      "10    808982065      27  15920518   54            6\n",
      "31    808982065      15  79528241   32            4\n",
      "60    808982065       3   3150955   31           22\n",
      "...         ...     ...       ...  ...          ...\n",
      "2298  808982065      19  53736303   19            4\n",
      "2299  808982065      20  53736281   29           22\n",
      "2300  808982065      25  53736289   27           22\n",
      "2301  808982065      26  53736285   27           22\n",
      "2302  808982065      28  53736295   26           22\n",
      "\n",
      "[154 rows x 5 columns]\n",
      "808985283\n",
      "         dom_id  pmt_id      time  tot  triggermask\n",
      "221   808985283       3  73034665   25            6\n",
      "222   808985283       5  73034662   26            6\n",
      "223   808985283      30  73034663   25            6\n",
      "287   808985283       6  27831394   26           22\n",
      "288   808985283      29  27831390   26           22\n",
      "...         ...     ...       ...  ...          ...\n",
      "2354  808985283       7   3870700   27            4\n",
      "2355  808985283       8   3870723   28            4\n",
      "2356  808985283       9   3870706   26            4\n",
      "2357  808985283      11   3870702   26            4\n",
      "2358  808985283      16   3870707    6            4\n",
      "\n",
      "[138 rows x 5 columns]\n",
      "809004291\n",
      "         dom_id  pmt_id      time  tot  triggermask\n",
      "91    809004291       0  53077432   16           22\n",
      "92    809004291       1  53077421   51           22\n",
      "93    809004291       4  53077423   27           22\n",
      "94    809004291       6  53077423   29           22\n",
      "95    809004291       7  53077421   29           22\n",
      "...         ...     ...       ...  ...          ...\n",
      "2256  809004291       4  50368423   18           22\n",
      "2257  809004291       5  50368424   29           22\n",
      "2258  809004291      10  50368429   20           22\n",
      "2359  809004291       2   3870610   27            4\n",
      "2360  809004291      17   3870616   24            4\n",
      "\n",
      "[130 rows x 5 columns]\n",
      "809548770\n",
      "         dom_id  pmt_id      time  tot  triggermask\n",
      "11    809548770       0  15920482   24            6\n",
      "12    809548770      28  15920479   28            6\n",
      "32    809548770      10  79528160   21            6\n",
      "33    809548770      11  79528157   19            6\n",
      "34    809548770      12  79528157   25            6\n",
      "...         ...     ...       ...  ...          ...\n",
      "2310  809548770      16  53736218   34           22\n",
      "2311  809548770      17  53736219   37           22\n",
      "2312  809548770      20  53736220   25           22\n",
      "2313  809548770      27  53736223   20           22\n",
      "2314  809548770      30  53736247   33           22\n",
      "\n",
      "[150 rows x 5 columns]\n"
     ]
    }
   ],
   "source": [
    "for dom_id, dom_hits in hits_by_dom_id:\n",
    "    print(dom_id)\n",
    "    print(dom_hits)"
   ]
  },
  {
   "cell_type": "code",
   "execution_count": 183,
   "id": "fd415160-0929-4321-8c93-be25a0a1f351",
   "metadata": {},
   "outputs": [
    {
     "data": {
      "text/html": [
       "<div>\n",
       "<style scoped>\n",
       "    .dataframe tbody tr th:only-of-type {\n",
       "        vertical-align: middle;\n",
       "    }\n",
       "\n",
       "    .dataframe tbody tr th {\n",
       "        vertical-align: top;\n",
       "    }\n",
       "\n",
       "    .dataframe thead th {\n",
       "        text-align: right;\n",
       "    }\n",
       "</style>\n",
       "<table border=\"1\" class=\"dataframe\">\n",
       "  <thead>\n",
       "    <tr style=\"text-align: right;\">\n",
       "      <th></th>\n",
       "      <th>dom_id</th>\n",
       "      <th>pmt_id</th>\n",
       "      <th>time</th>\n",
       "      <th>tot</th>\n",
       "      <th>triggermask</th>\n",
       "    </tr>\n",
       "  </thead>\n",
       "  <tbody>\n",
       "    <tr>\n",
       "      <th>11</th>\n",
       "      <td>809548770</td>\n",
       "      <td>0</td>\n",
       "      <td>15920482</td>\n",
       "      <td>24</td>\n",
       "      <td>6</td>\n",
       "    </tr>\n",
       "    <tr>\n",
       "      <th>12</th>\n",
       "      <td>809548770</td>\n",
       "      <td>28</td>\n",
       "      <td>15920479</td>\n",
       "      <td>28</td>\n",
       "      <td>6</td>\n",
       "    </tr>\n",
       "    <tr>\n",
       "      <th>32</th>\n",
       "      <td>809548770</td>\n",
       "      <td>10</td>\n",
       "      <td>79528160</td>\n",
       "      <td>21</td>\n",
       "      <td>6</td>\n",
       "    </tr>\n",
       "    <tr>\n",
       "      <th>33</th>\n",
       "      <td>809548770</td>\n",
       "      <td>11</td>\n",
       "      <td>79528157</td>\n",
       "      <td>19</td>\n",
       "      <td>6</td>\n",
       "    </tr>\n",
       "    <tr>\n",
       "      <th>34</th>\n",
       "      <td>809548770</td>\n",
       "      <td>12</td>\n",
       "      <td>79528157</td>\n",
       "      <td>25</td>\n",
       "      <td>6</td>\n",
       "    </tr>\n",
       "    <tr>\n",
       "      <th>...</th>\n",
       "      <td>...</td>\n",
       "      <td>...</td>\n",
       "      <td>...</td>\n",
       "      <td>...</td>\n",
       "      <td>...</td>\n",
       "    </tr>\n",
       "    <tr>\n",
       "      <th>2310</th>\n",
       "      <td>809548770</td>\n",
       "      <td>16</td>\n",
       "      <td>53736218</td>\n",
       "      <td>34</td>\n",
       "      <td>22</td>\n",
       "    </tr>\n",
       "    <tr>\n",
       "      <th>2311</th>\n",
       "      <td>809548770</td>\n",
       "      <td>17</td>\n",
       "      <td>53736219</td>\n",
       "      <td>37</td>\n",
       "      <td>22</td>\n",
       "    </tr>\n",
       "    <tr>\n",
       "      <th>2312</th>\n",
       "      <td>809548770</td>\n",
       "      <td>20</td>\n",
       "      <td>53736220</td>\n",
       "      <td>25</td>\n",
       "      <td>22</td>\n",
       "    </tr>\n",
       "    <tr>\n",
       "      <th>2313</th>\n",
       "      <td>809548770</td>\n",
       "      <td>27</td>\n",
       "      <td>53736223</td>\n",
       "      <td>20</td>\n",
       "      <td>22</td>\n",
       "    </tr>\n",
       "    <tr>\n",
       "      <th>2314</th>\n",
       "      <td>809548770</td>\n",
       "      <td>30</td>\n",
       "      <td>53736247</td>\n",
       "      <td>33</td>\n",
       "      <td>22</td>\n",
       "    </tr>\n",
       "  </tbody>\n",
       "</table>\n",
       "<p>150 rows × 5 columns</p>\n",
       "</div>"
      ],
      "text/plain": [
       "         dom_id  pmt_id      time  tot  triggermask\n",
       "11    809548770       0  15920482   24            6\n",
       "12    809548770      28  15920479   28            6\n",
       "32    809548770      10  79528160   21            6\n",
       "33    809548770      11  79528157   19            6\n",
       "34    809548770      12  79528157   25            6\n",
       "...         ...     ...       ...  ...          ...\n",
       "2310  809548770      16  53736218   34           22\n",
       "2311  809548770      17  53736219   37           22\n",
       "2312  809548770      20  53736220   25           22\n",
       "2313  809548770      27  53736223   20           22\n",
       "2314  809548770      30  53736247   33           22\n",
       "\n",
       "[150 rows x 5 columns]"
      ]
     },
     "execution_count": 183,
     "metadata": {},
     "output_type": "execute_result"
    }
   ],
   "source": [
    "hits_by_dom_id.get_group(809548770)"
   ]
  },
  {
   "cell_type": "code",
   "execution_count": 184,
   "id": "44e7dd9f-4a01-452f-9924-50644c14c4d2",
   "metadata": {},
   "outputs": [
    {
     "data": {
      "text/html": [
       "<div>\n",
       "<style scoped>\n",
       "    .dataframe tbody tr th:only-of-type {\n",
       "        vertical-align: middle;\n",
       "    }\n",
       "\n",
       "    .dataframe tbody tr th {\n",
       "        vertical-align: top;\n",
       "    }\n",
       "\n",
       "    .dataframe thead th {\n",
       "        text-align: right;\n",
       "    }\n",
       "</style>\n",
       "<table border=\"1\" class=\"dataframe\">\n",
       "  <thead>\n",
       "    <tr style=\"text-align: right;\">\n",
       "      <th></th>\n",
       "      <th>pmt_id</th>\n",
       "      <th>time</th>\n",
       "      <th>tot</th>\n",
       "      <th>triggermask</th>\n",
       "    </tr>\n",
       "    <tr>\n",
       "      <th>dom_id</th>\n",
       "      <th></th>\n",
       "      <th></th>\n",
       "      <th></th>\n",
       "      <th></th>\n",
       "    </tr>\n",
       "  </thead>\n",
       "  <tbody>\n",
       "    <tr>\n",
       "      <th>808432848</th>\n",
       "      <td>5</td>\n",
       "      <td>4934675</td>\n",
       "      <td>28</td>\n",
       "      <td>4</td>\n",
       "    </tr>\n",
       "    <tr>\n",
       "      <th>808432849</th>\n",
       "      <td>5</td>\n",
       "      <td>3075269</td>\n",
       "      <td>27</td>\n",
       "      <td>16</td>\n",
       "    </tr>\n",
       "    <tr>\n",
       "      <th>808476737</th>\n",
       "      <td>5</td>\n",
       "      <td>4933532</td>\n",
       "      <td>22</td>\n",
       "      <td>6</td>\n",
       "    </tr>\n",
       "    <tr>\n",
       "      <th>808483667</th>\n",
       "      <td>8</td>\n",
       "      <td>4934738</td>\n",
       "      <td>22</td>\n",
       "      <td>4</td>\n",
       "    </tr>\n",
       "    <tr>\n",
       "      <th>808483678</th>\n",
       "      <td>0</td>\n",
       "      <td>6197196</td>\n",
       "      <td>34</td>\n",
       "      <td>22</td>\n",
       "    </tr>\n",
       "    <tr>\n",
       "      <th>808945480</th>\n",
       "      <td>0</td>\n",
       "      <td>3076435</td>\n",
       "      <td>29</td>\n",
       "      <td>16</td>\n",
       "    </tr>\n",
       "    <tr>\n",
       "      <th>808945629</th>\n",
       "      <td>7</td>\n",
       "      <td>4934811</td>\n",
       "      <td>58</td>\n",
       "      <td>4</td>\n",
       "    </tr>\n",
       "    <tr>\n",
       "      <th>808949646</th>\n",
       "      <td>7</td>\n",
       "      <td>6905555</td>\n",
       "      <td>49</td>\n",
       "      <td>6</td>\n",
       "    </tr>\n",
       "    <tr>\n",
       "      <th>808949902</th>\n",
       "      <td>0</td>\n",
       "      <td>3075703</td>\n",
       "      <td>24</td>\n",
       "      <td>4</td>\n",
       "    </tr>\n",
       "    <tr>\n",
       "      <th>808963189</th>\n",
       "      <td>1</td>\n",
       "      <td>3151119</td>\n",
       "      <td>25</td>\n",
       "      <td>4</td>\n",
       "    </tr>\n",
       "    <tr>\n",
       "      <th>808968978</th>\n",
       "      <td>5</td>\n",
       "      <td>3075973</td>\n",
       "      <td>21</td>\n",
       "      <td>22</td>\n",
       "    </tr>\n",
       "    <tr>\n",
       "      <th>808971989</th>\n",
       "      <td>13</td>\n",
       "      <td>3294215</td>\n",
       "      <td>23</td>\n",
       "      <td>4</td>\n",
       "    </tr>\n",
       "    <tr>\n",
       "      <th>808982030</th>\n",
       "      <td>0</td>\n",
       "      <td>3076342</td>\n",
       "      <td>26</td>\n",
       "      <td>16</td>\n",
       "    </tr>\n",
       "    <tr>\n",
       "      <th>808982065</th>\n",
       "      <td>0</td>\n",
       "      <td>3075888</td>\n",
       "      <td>60</td>\n",
       "      <td>22</td>\n",
       "    </tr>\n",
       "    <tr>\n",
       "      <th>808985283</th>\n",
       "      <td>7</td>\n",
       "      <td>3870700</td>\n",
       "      <td>27</td>\n",
       "      <td>4</td>\n",
       "    </tr>\n",
       "    <tr>\n",
       "      <th>809004291</th>\n",
       "      <td>2</td>\n",
       "      <td>3870610</td>\n",
       "      <td>27</td>\n",
       "      <td>4</td>\n",
       "    </tr>\n",
       "    <tr>\n",
       "      <th>809548770</th>\n",
       "      <td>0</td>\n",
       "      <td>3075808</td>\n",
       "      <td>32</td>\n",
       "      <td>22</td>\n",
       "    </tr>\n",
       "  </tbody>\n",
       "</table>\n",
       "</div>"
      ],
      "text/plain": [
       "           pmt_id     time  tot  triggermask\n",
       "dom_id                                      \n",
       "808432848       5  4934675   28            4\n",
       "808432849       5  3075269   27           16\n",
       "808476737       5  4933532   22            6\n",
       "808483667       8  4934738   22            4\n",
       "808483678       0  6197196   34           22\n",
       "808945480       0  3076435   29           16\n",
       "808945629       7  4934811   58            4\n",
       "808949646       7  6905555   49            6\n",
       "808949902       0  3075703   24            4\n",
       "808963189       1  3151119   25            4\n",
       "808968978       5  3075973   21           22\n",
       "808971989      13  3294215   23            4\n",
       "808982030       0  3076342   26           16\n",
       "808982065       0  3075888   60           22\n",
       "808985283       7  3870700   27            4\n",
       "809004291       2  3870610   27            4\n",
       "809548770       0  3075808   32           22"
      ]
     },
     "execution_count": 184,
     "metadata": {},
     "output_type": "execute_result"
    }
   ],
   "source": [
    "hits.sort_values([\"dom_id\", \"time\"]).groupby(\"dom_id\").first()"
   ]
  },
  {
   "cell_type": "code",
   "execution_count": 185,
   "id": "f19ed2fa-91d0-49e0-bf41-6afc334d00b2",
   "metadata": {},
   "outputs": [
    {
     "data": {
      "text/plain": [
       "<pandas.core.groupby.generic.DataFrameGroupBy object at 0x303d83ac0>"
      ]
     },
     "execution_count": 185,
     "metadata": {},
     "output_type": "execute_result"
    }
   ],
   "source": [
    "hits_by_dom_id"
   ]
  },
  {
   "cell_type": "code",
   "execution_count": 187,
   "id": "7aae35f3-9647-4c22-b00b-00172b556400",
   "metadata": {},
   "outputs": [
    {
     "data": {
      "image/png": "[encoded data removed]",
      "text/plain": [
       "<Figure size 1152x432 with 18 Axes>"
      ]
     },
     "metadata": {
      "needs_background": "light"
     },
     "output_type": "display_data"
    }
   ],
   "source": [
    "fig, axes = plt.subplots(nrows=6, ncols=3, figsize=(16, 6), sharex=True, sharey=True)\n",
    "\n",
    "hist_style = dict(bins=50, density=True, histtype=\"step\", linewidth=2)\n",
    "\n",
    "for ax, (dom_id, _hits) in zip(axes.flatten(), hits_by_dom_id):\n",
    "    ax.hist(_hits[\"tot\"], label=f\"DOM {dom_id}\", **hist_style)\n",
    "    ax.legend()\n",
    "    ax.set_xlabel(\"ToT [ns]\")"
   ]
  },
  {
   "cell_type": "code",
   "execution_count": 188,
   "id": "3455539c-af2d-4387-927f-9b1067d650f3",
   "metadata": {},
   "outputs": [
    {
     "data": {
      "text/html": [
       "<div>\n",
       "<style scoped>\n",
       "    .dataframe tbody tr th:only-of-type {\n",
       "        vertical-align: middle;\n",
       "    }\n",
       "\n",
       "    .dataframe tbody tr th {\n",
       "        vertical-align: top;\n",
       "    }\n",
       "\n",
       "    .dataframe thead th {\n",
       "        text-align: right;\n",
       "    }\n",
       "</style>\n",
       "<table border=\"1\" class=\"dataframe\">\n",
       "  <thead>\n",
       "    <tr style=\"text-align: right;\">\n",
       "      <th></th>\n",
       "      <th>azimuth</th>\n",
       "      <th>zenith</th>\n",
       "      <th>bjorkeny</th>\n",
       "      <th>energy</th>\n",
       "      <th>pos_x</th>\n",
       "      <th>pos_y</th>\n",
       "      <th>pos_z</th>\n",
       "      <th>proba_track</th>\n",
       "      <th>proba_cscd</th>\n",
       "      <th>ebin</th>\n",
       "    </tr>\n",
       "  </thead>\n",
       "  <tbody>\n",
       "    <tr>\n",
       "      <th>0</th>\n",
       "      <td>2.349537</td>\n",
       "      <td>1.116004</td>\n",
       "      <td>0.048998</td>\n",
       "      <td>3.366400</td>\n",
       "      <td>52.740</td>\n",
       "      <td>28.831</td>\n",
       "      <td>401.186</td>\n",
       "      <td>0.824351</td>\n",
       "      <td>0.175649</td>\n",
       "      <td>0</td>\n",
       "    </tr>\n",
       "    <tr>\n",
       "      <th>1</th>\n",
       "      <td>5.575786</td>\n",
       "      <td>1.742838</td>\n",
       "      <td>0.280471</td>\n",
       "      <td>3.890000</td>\n",
       "      <td>48.369</td>\n",
       "      <td>29.865</td>\n",
       "      <td>417.282</td>\n",
       "      <td>0.818363</td>\n",
       "      <td>0.181637</td>\n",
       "      <td>0</td>\n",
       "    </tr>\n",
       "    <tr>\n",
       "      <th>2</th>\n",
       "      <td>4.656125</td>\n",
       "      <td>2.686909</td>\n",
       "      <td>0.119843</td>\n",
       "      <td>3.233500</td>\n",
       "      <td>71.722</td>\n",
       "      <td>121.449</td>\n",
       "      <td>363.077</td>\n",
       "      <td>0.828343</td>\n",
       "      <td>0.171657</td>\n",
       "      <td>0</td>\n",
       "    </tr>\n",
       "    <tr>\n",
       "      <th>3</th>\n",
       "      <td>0.520486</td>\n",
       "      <td>1.939326</td>\n",
       "      <td>0.061315</td>\n",
       "      <td>4.784000</td>\n",
       "      <td>-47.592</td>\n",
       "      <td>-84.466</td>\n",
       "      <td>350.687</td>\n",
       "      <td>0.842315</td>\n",
       "      <td>0.157685</td>\n",
       "      <td>0</td>\n",
       "    </tr>\n",
       "    <tr>\n",
       "      <th>4</th>\n",
       "      <td>2.856970</td>\n",
       "      <td>1.678897</td>\n",
       "      <td>0.061465</td>\n",
       "      <td>3.983300</td>\n",
       "      <td>-25.518</td>\n",
       "      <td>24.362</td>\n",
       "      <td>391.891</td>\n",
       "      <td>0.862275</td>\n",
       "      <td>0.137725</td>\n",
       "      <td>0</td>\n",
       "    </tr>\n",
       "    <tr>\n",
       "      <th>...</th>\n",
       "      <td>...</td>\n",
       "      <td>...</td>\n",
       "      <td>...</td>\n",
       "      <td>...</td>\n",
       "      <td>...</td>\n",
       "      <td>...</td>\n",
       "      <td>...</td>\n",
       "      <td>...</td>\n",
       "      <td>...</td>\n",
       "      <td>...</td>\n",
       "    </tr>\n",
       "    <tr>\n",
       "      <th>60973</th>\n",
       "      <td>6.167531</td>\n",
       "      <td>1.320392</td>\n",
       "      <td>0.093289</td>\n",
       "      <td>6.696500</td>\n",
       "      <td>-25.916</td>\n",
       "      <td>91.493</td>\n",
       "      <td>444.696</td>\n",
       "      <td>0.804391</td>\n",
       "      <td>0.195609</td>\n",
       "      <td>1</td>\n",
       "    </tr>\n",
       "    <tr>\n",
       "      <th>60974</th>\n",
       "      <td>4.933224</td>\n",
       "      <td>0.729290</td>\n",
       "      <td>0.335327</td>\n",
       "      <td>22.188999</td>\n",
       "      <td>-68.489</td>\n",
       "      <td>-78.661</td>\n",
       "      <td>389.067</td>\n",
       "      <td>0.886228</td>\n",
       "      <td>0.113772</td>\n",
       "      <td>3</td>\n",
       "    </tr>\n",
       "    <tr>\n",
       "      <th>60975</th>\n",
       "      <td>1.028631</td>\n",
       "      <td>1.091732</td>\n",
       "      <td>0.325266</td>\n",
       "      <td>14.085000</td>\n",
       "      <td>-66.319</td>\n",
       "      <td>56.084</td>\n",
       "      <td>378.345</td>\n",
       "      <td>0.824351</td>\n",
       "      <td>0.175649</td>\n",
       "      <td>2</td>\n",
       "    </tr>\n",
       "    <tr>\n",
       "      <th>60976</th>\n",
       "      <td>5.993753</td>\n",
       "      <td>1.713249</td>\n",
       "      <td>0.087113</td>\n",
       "      <td>6.198300</td>\n",
       "      <td>-47.727</td>\n",
       "      <td>66.036</td>\n",
       "      <td>372.069</td>\n",
       "      <td>0.976048</td>\n",
       "      <td>0.023952</td>\n",
       "      <td>1</td>\n",
       "    </tr>\n",
       "    <tr>\n",
       "      <th>60977</th>\n",
       "      <td>2.409518</td>\n",
       "      <td>0.521768</td>\n",
       "      <td>0.183048</td>\n",
       "      <td>8.183000</td>\n",
       "      <td>62.589</td>\n",
       "      <td>90.369</td>\n",
       "      <td>449.204</td>\n",
       "      <td>0.840319</td>\n",
       "      <td>0.159681</td>\n",
       "      <td>1</td>\n",
       "    </tr>\n",
       "  </tbody>\n",
       "</table>\n",
       "<p>60978 rows × 10 columns</p>\n",
       "</div>"
      ],
      "text/plain": [
       "        azimuth    zenith  bjorkeny     energy   pos_x    pos_y    pos_z  \\\n",
       "0      2.349537  1.116004  0.048998   3.366400  52.740   28.831  401.186   \n",
       "1      5.575786  1.742838  0.280471   3.890000  48.369   29.865  417.282   \n",
       "2      4.656125  2.686909  0.119843   3.233500  71.722  121.449  363.077   \n",
       "3      0.520486  1.939326  0.061315   4.784000 -47.592  -84.466  350.687   \n",
       "4      2.856970  1.678897  0.061465   3.983300 -25.518   24.362  391.891   \n",
       "...         ...       ...       ...        ...     ...      ...      ...   \n",
       "60973  6.167531  1.320392  0.093289   6.696500 -25.916   91.493  444.696   \n",
       "60974  4.933224  0.729290  0.335327  22.188999 -68.489  -78.661  389.067   \n",
       "60975  1.028631  1.091732  0.325266  14.085000 -66.319   56.084  378.345   \n",
       "60976  5.993753  1.713249  0.087113   6.198300 -47.727   66.036  372.069   \n",
       "60977  2.409518  0.521768  0.183048   8.183000  62.589   90.369  449.204   \n",
       "\n",
       "       proba_track  proba_cscd  ebin  \n",
       "0         0.824351    0.175649     0  \n",
       "1         0.818363    0.181637     0  \n",
       "2         0.828343    0.171657     0  \n",
       "3         0.842315    0.157685     0  \n",
       "4         0.862275    0.137725     0  \n",
       "...            ...         ...   ...  \n",
       "60973     0.804391    0.195609     1  \n",
       "60974     0.886228    0.113772     3  \n",
       "60975     0.824351    0.175649     2  \n",
       "60976     0.976048    0.023952     1  \n",
       "60977     0.840319    0.159681     1  \n",
       "\n",
       "[60978 rows x 10 columns]"
      ]
     },
     "execution_count": 188,
     "metadata": {},
     "output_type": "execute_result"
    }
   ],
   "source": [
    "neutrinos"
   ]
  },
  {
   "cell_type": "code",
   "execution_count": null,
   "id": "6c9cb00e-8352-4003-9d83-2711c32cebaf",
   "metadata": {},
   "outputs": [],
   "source": []
  }
 ],
 "metadata": {
  "kernelspec": {
   "display_name": "eschool2021",
   "language": "python",
   "name": "eschool2021"
  },
  "language_info": {
   "codemirror_mode": {
    "name": "ipython",
    "version": 3
   },
   "file_extension": ".py",
   "mimetype": "text/x-python",
   "name": "python",
   "nbconvert_exporter": "python",
   "pygments_lexer": "ipython3",
   "version": "3.9.4"
  }
 },
 "nbformat": 4,
 "nbformat_minor": 5
}
